{
 "cells": [
  {
   "cell_type": "code",
   "execution_count": 1,
   "metadata": {
    "scrolled": true
   },
   "outputs": [],
   "source": [
    "#Miles' packages\n",
    "from astropy.table import Table\n",
    "import astropy.coordinates as coord\n",
    "import glob\n",
    "from astropy import units as u\n",
    "\n",
    "#data processing\n",
    "import pandas as pd\n",
    "import numpy as np\n",
    "import math as math\n",
    "from tqdm import tqdm\n",
    "import collections\n",
    "\n",
    "#visualizations\n",
    "import matplotlib.pyplot as plt\n",
    "import matplotlib as mpl\n",
    "mpl.use('Agg')\n",
    "%matplotlib inline\n",
    "from mpl_toolkits.mplot3d import Axes3D\n",
    "import plotly.graph_objects as go\n",
    "\n",
    "#models\n",
    "from sklearn.cluster import DBSCAN, SpectralClustering\n",
    "from sklearn.linear_model import LogisticRegression\n",
    "from sklearn.neighbors import KNeighborsClassifier\n",
    "from sklearn.tree import DecisionTreeClassifier\n",
    "from sklearn.metrics.pairwise import pairwise_kernels\n",
    "\n",
    "#data manipulation\n",
    "from sklearn.model_selection import train_test_split\n",
    "from sklearn.preprocessing import StandardScaler\n",
    "from sklearn import metrics\n",
    "\n",
    "#for my sanity\n",
    "import warnings\n",
    "warnings.filterwarnings('ignore')"
   ]
  },
  {
   "cell_type": "code",
   "execution_count": 2,
   "metadata": {
    "scrolled": true
   },
   "outputs": [
    {
     "name": "stdout",
     "output_type": "stream",
     "text": [
      "StreamGenerator.ipynb  file_descriptions.txt  gaia_mock_streams  gd1_in_gaia.h5\r\n"
     ]
    }
   ],
   "source": [
    "!ls '/scratch/bak438/data'"
   ]
  },
  {
   "cell_type": "code",
   "execution_count": 3,
   "metadata": {
    "scrolled": true
   },
   "outputs": [
    {
     "name": "stdout",
     "output_type": "stream",
     "text": [
      "Created TAP+ (v1.2.1) - Connection:\n",
      "\tHost: gea.esac.esa.int\n",
      "\tUse HTTPS: True\n",
      "\tPort: 443\n",
      "\tSSL Port: 443\n",
      "Created TAP+ (v1.2.1) - Connection:\n",
      "\tHost: geadata.esac.esa.int\n",
      "\tUse HTTPS: True\n",
      "\tPort: 443\n",
      "\tSSL Port: 443\n"
     ]
    }
   ],
   "source": [
    "from astroquery.gaia import Gaia"
   ]
  },
  {
   "cell_type": "code",
   "execution_count": 4,
   "metadata": {
    "scrolled": true
   },
   "outputs": [],
   "source": [
    "stream_data_base = '/scratch/bak438/data/gaia_mock_streams/'\n",
    "stream_files = glob.glob(stream_data_base + 'stream*.fits.gz')"
   ]
  },
  {
   "cell_type": "markdown",
   "metadata": {},
   "source": [
    "We now have all the stream files:"
   ]
  },
  {
   "cell_type": "code",
   "execution_count": 5,
   "metadata": {
    "scrolled": true
   },
   "outputs": [
    {
     "name": "stdout",
     "output_type": "stream",
     "text": [
      "322\n",
      "3133\n",
      "304\n",
      "3208\n",
      "2814\n",
      "40\n",
      "1827\n",
      "1372\n",
      "578\n",
      "8226\n",
      "3374\n"
     ]
    }
   ],
   "source": [
    "print(len(stream_files))\n",
    "\n",
    "for i in range(10):\n",
    "    table = Table.read(stream_files[i], format='fits')\n",
    "    stream = table.to_pandas()\n",
    "    print(len(stream))"
   ]
  },
  {
   "cell_type": "code",
   "execution_count": 6,
   "metadata": {
    "scrolled": true
   },
   "outputs": [
    {
     "name": "stdout",
     "output_type": "stream",
     "text": [
      "10\n"
     ]
    },
    {
     "data": {
      "text/html": [
       "<div>\n",
       "<style scoped>\n",
       "    .dataframe tbody tr th:only-of-type {\n",
       "        vertical-align: middle;\n",
       "    }\n",
       "\n",
       "    .dataframe tbody tr th {\n",
       "        vertical-align: top;\n",
       "    }\n",
       "\n",
       "    .dataframe thead th {\n",
       "        text-align: right;\n",
       "    }\n",
       "</style>\n",
       "<table border=\"1\" class=\"dataframe\">\n",
       "  <thead>\n",
       "    <tr style=\"text-align: right;\">\n",
       "      <th></th>\n",
       "      <th>stream_file</th>\n",
       "      <th>ra_min</th>\n",
       "      <th>ra_max</th>\n",
       "      <th>dec_min</th>\n",
       "      <th>dec_max</th>\n",
       "    </tr>\n",
       "  </thead>\n",
       "  <tbody>\n",
       "    <tr>\n",
       "      <td>0</td>\n",
       "      <td>gaia_mock_streams/stream-178.fits.gz</td>\n",
       "      <td>300</td>\n",
       "      <td>350</td>\n",
       "      <td>-10</td>\n",
       "      <td>50</td>\n",
       "    </tr>\n",
       "    <tr>\n",
       "      <td>1</td>\n",
       "      <td>gaia_mock_streams/stream-9528.fits.gz</td>\n",
       "      <td>200</td>\n",
       "      <td>350</td>\n",
       "      <td>-70</td>\n",
       "      <td>-30</td>\n",
       "    </tr>\n",
       "    <tr>\n",
       "      <td>2</td>\n",
       "      <td>gaia_mock_streams/stream-9549.fits.gz</td>\n",
       "      <td>200</td>\n",
       "      <td>250</td>\n",
       "      <td>-20</td>\n",
       "      <td>40</td>\n",
       "    </tr>\n",
       "    <tr>\n",
       "      <td>3</td>\n",
       "      <td>gaia_mock_streams/stream-1954.fits.gz</td>\n",
       "      <td>30</td>\n",
       "      <td>220</td>\n",
       "      <td>-90</td>\n",
       "      <td>-20</td>\n",
       "    </tr>\n",
       "    <tr>\n",
       "      <td>4</td>\n",
       "      <td>gaia_mock_streams/stream-2408.fits.gz</td>\n",
       "      <td>180</td>\n",
       "      <td>250</td>\n",
       "      <td>-50</td>\n",
       "      <td>-20</td>\n",
       "    </tr>\n",
       "  </tbody>\n",
       "</table>\n",
       "</div>"
      ],
      "text/plain": [
       "                             stream_file  ra_min  ra_max  dec_min  dec_max\n",
       "0   gaia_mock_streams/stream-178.fits.gz     300     350      -10       50\n",
       "1  gaia_mock_streams/stream-9528.fits.gz     200     350      -70      -30\n",
       "2  gaia_mock_streams/stream-9549.fits.gz     200     250      -20       40\n",
       "3  gaia_mock_streams/stream-1954.fits.gz      30     220      -90      -20\n",
       "4  gaia_mock_streams/stream-2408.fits.gz     180     250      -50      -20"
      ]
     },
     "execution_count": 6,
     "metadata": {},
     "output_type": "execute_result"
    }
   ],
   "source": [
    "#relevant cut for each stream\n",
    "cuts = pd.read_csv('cuts.csv')\n",
    "print(len(cuts))\n",
    "cuts.head()"
   ]
  },
  {
   "cell_type": "code",
   "execution_count": 7,
   "metadata": {
    "scrolled": true
   },
   "outputs": [],
   "source": [
    "#let us write a function to extract the Gaia noise points based on some inputs\n",
    "def obtain_noise(min_ra, max_ra, min_dec, max_dec, max_rel_err, n_points):\n",
    "    \n",
    "    qry = f\" \\n\\\n",
    "    select top {n_points} source_id, \\n\\\n",
    "    dr2.ra, \\n\\\n",
    "    dr2.dec, \\n\\\n",
    "    parallax, \\n\\\n",
    "    parallax_error, \\n\\\n",
    "    pmra, \\n\\\n",
    "    pmdec, \\n\\\n",
    "    phot_g_mean_mag,\\n\\\n",
    "    phot_bp_mean_mag, \\n\\\n",
    "    phot_rp_mean_mag, \\n\\\n",
    "    bp_rp, \\n\\\n",
    "    bp_g, \\n\\\n",
    "    g_rp\\n\\\n",
    "    from gaiadr2.gaia_source as dr2 \\n\\\n",
    "    where dr2.ra > {min_ra} and dr2.ra < {max_ra} and dr2.dec > {min_dec} and dr2.dec < {max_dec} \\n\\\n",
    "    and parallax is not null \\n\\\n",
    "    and parallax_error is not null \\n\\\n",
    "    and abs(dr2.parallax/dr2.parallax_error) < {max_rel_err} \\n\\\n",
    "    and pmra is not null \\n\\\n",
    "    and pmdec is not null \\n\\\n",
    "    and phot_g_mean_mag is not null \\n\\\n",
    "    and phot_bp_mean_mag is not null \\n\\\n",
    "    and phot_rp_mean_mag is not null \\n\\\n",
    "    and bp_rp is not null \\n\\\n",
    "    and bp_g is not null \\n\\\n",
    "    and g_rp is not null \\n\\\n",
    "    order by random_index\"\n",
    "\n",
    "    data_noise = Gaia.launch_job_async(qry).get_results().to_pandas()\n",
    "    \n",
    "    return data_noise"
   ]
  },
  {
   "cell_type": "code",
   "execution_count": 8,
   "metadata": {
    "scrolled": true
   },
   "outputs": [
    {
     "name": "stdout",
     "output_type": "stream",
     "text": [
      "splitting data\n",
      "obtaining noise\n",
      "INFO: Query finished. [astroquery.utils.tap.core]\n"
     ]
    }
   ],
   "source": [
    "table = Table.read(stream_files[0], format='fits')\n",
    "stream = table.to_pandas()\n",
    "\n",
    "ra_min = cuts.loc[0].ra_min\n",
    "ra_max = cuts.loc[0].ra_max\n",
    "dec_min = cuts.loc[0].dec_min\n",
    "dec_max = cuts.loc[0].dec_max\n",
    "\n",
    "#restrict stream to relevant portion\n",
    "stream = stream.query('ra > ' + str(ra_min) + ' & ra < ' + str(ra_max) + \\\n",
    "                      ' & dec > ' + str(dec_min) + ' & dec < ' + str(dec_max))\n",
    "\n",
    "#label our data as \"part of the stream\"\n",
    "stream['stream_mask'] = True\n",
    "\n",
    "#split data into training and training data set\n",
    "print(\"splitting data\")\n",
    "msk = np.random.rand(len(stream)) < 0.9\n",
    "stream_train = stream[msk].sample(n = 10)\n",
    "stream_test = stream[~msk]\n",
    "\n",
    "\n",
    "#obtain noise points such that:\n",
    "#- the ratio of stream to noise points in the training set is 2:1 i.e. strong signal\n",
    "#- the ratio of stream to noise points in the test set is 1:100 i.e. realistic\n",
    "n_points = 4000 #len(stream_train) // 2 + len(stream_test) * 100\n",
    "\n",
    "#use max_rel_err of 0.5\n",
    "max_rel_err =  0.5\n",
    "\n",
    "#we now select our noise points that we will incorporate into our training and test set\n",
    "print(\"obtaining noise\")\n",
    "noise_points = obtain_noise(ra_min, ra_max, dec_min, dec_max, max_rel_err, n_points)\n",
    "\n",
    "#label our data as \"not part of the stream\"\n",
    "noise_points['stream_mask'] = False"
   ]
  },
  {
   "cell_type": "code",
   "execution_count": 9,
   "metadata": {
    "scrolled": true
   },
   "outputs": [
    {
     "data": {
      "text/plain": [
       "<matplotlib.collections.PathCollection at 0x2b73e7d49518>"
      ]
     },
     "execution_count": 9,
     "metadata": {},
     "output_type": "execute_result"
    },
    {
     "data": {
      "image/png": "[encoded data removed]",
      "text/plain": [
       "<Figure size 432x288 with 1 Axes>"
      ]
     },
     "metadata": {
      "needs_background": "light"
     },
     "output_type": "display_data"
    }
   ],
   "source": [
    "plt.scatter(stream.ra, stream.dec, color = 'b')\n",
    "plt.scatter(noise_points.ra, noise_points.dec, color = 'r')"
   ]
  },
  {
   "cell_type": "code",
   "execution_count": null,
   "metadata": {
    "scrolled": true
   },
   "outputs": [],
   "source": []
  },
  {
   "cell_type": "code",
   "execution_count": null,
   "metadata": {
    "scrolled": true
   },
   "outputs": [],
   "source": []
  },
  {
   "cell_type": "code",
   "execution_count": 10,
   "metadata": {
    "scrolled": true
   },
   "outputs": [],
   "source": [
    "def toCartesian(data):\n",
    "    # Need to know the distance! Can use isochrones to find this. For now, just assume\n",
    "    # all have the same distance\n",
    "    N, _ = data.shape\n",
    "    distance = np.ones(N) #kpc\n",
    "\n",
    "    # If the parallax is not noisy, you can do distance=1/parallax.\n",
    "\n",
    "    deg2rad = lambda deg: deg/180.*np.pi\n",
    "\n",
    "    r = distance\n",
    "    theta = deg2rad(90 - data['dec'])\n",
    "    phi = deg2rad(data['ra'])\n",
    "    ra = deg2rad(data['ra'])\n",
    "    dec = deg2rad(data['dec'])\n",
    "\n",
    "    data['x'] = r*np.sin(theta)*np.cos(phi)\n",
    "    data['y'] = r*np.sin(theta)*np.sin(phi)\n",
    "    data['z'] = r*np.cos(theta)\n",
    "    # All of these are in kiloparsecs\n",
    "    cos = np.cos\n",
    "    sin = np.sin\n",
    "    pmra = data['pmra']\n",
    "    pmdec = data['pmdec']\n",
    "\n",
    "    data['vx'] = r * (cos(ra)*cos(dec)*pmdec - sin(ra)*sin(dec)*pmra)\n",
    "    data['vy'] = r * (cos(ra)*sin(dec)*pmra  + cos(dec)*sin(ra)*pmdec)\n",
    "    data['vz'] = r * (sin(dec)*pmdec)"
   ]
  },
  {
   "cell_type": "markdown",
   "metadata": {},
   "source": [
    "#### Let us define our potential models here"
   ]
  },
  {
   "cell_type": "code",
   "execution_count": 11,
   "metadata": {
    "scrolled": true
   },
   "outputs": [],
   "source": [
    "#let us define a function to run logistic regression on our data set and evaluate the results\n",
    "def log_reg_model(X_train, X_test, y_train, y_test):\n",
    "    #do the logistic regression modeling\n",
    "    log_reg = LogisticRegression(random_state=0, solver='lbfgs', max_iter=1000, multi_class='warn').fit(X_train, y_train)\n",
    "    y_pred = log_reg.predict(X_test)\n",
    "    y_true = np.array(y_test)\n",
    "    \n",
    "    #calculate metrics\n",
    "    precision = metrics.precision_score(y_true, y_pred)\n",
    "    recall = metrics.recall_score(y_true, y_pred)\n",
    "    accuracy = metrics.accuracy_score(y_true, y_pred)\n",
    "\n",
    "    #calculate the AUC\n",
    "    fpr, tpr, thresholds = metrics.roc_curve(y_true, y_pred)\n",
    "    auc = metrics.auc(fpr, tpr)\n",
    "    \n",
    "    return precision, recall, accuracy, auc\n",
    "\n",
    "def knn_model(X_train, X_test, y_train, y_test, k):\n",
    "    #do the KNN modeling\n",
    "    neigh = KNeighborsClassifier(n_neighbors=k)\n",
    "    neigh.fit(X_train, y_train)\n",
    "    y_pred = neigh.predict(X_test)\n",
    "    y_true = np.array(y_test)\n",
    "    \n",
    "    #calculate metrics\n",
    "    precision = metrics.precision_score(y_true, y_pred)\n",
    "    recall = metrics.recall_score(y_true, y_pred)\n",
    "    accuracy = metrics.accuracy_score(y_true, y_pred)\n",
    "\n",
    "    #calculate the AUC\n",
    "    fpr, tpr, thresholds = metrics.roc_curve(y_true, y_pred)\n",
    "    auc = metrics.auc(fpr, tpr)\n",
    "    \n",
    "    return precision, recall, accuracy, auc\n",
    "\n",
    "def decision_tree_model(X_train, X_test, y_train, y_test):\n",
    "    #do the KNN modeling\n",
    "    neigh = DecisionTreeClassifier()\n",
    "    neigh.fit(X_train, y_train)\n",
    "    y_pred = neigh.predict(X_test)\n",
    "    y_true = np.array(y_test)\n",
    "    \n",
    "    #calculate metrics\n",
    "    precision = metrics.precision_score(y_true, y_pred)\n",
    "    recall = metrics.recall_score(y_true, y_pred)\n",
    "    accuracy = metrics.accuracy_score(y_true, y_pred)\n",
    "\n",
    "    #calculate the AUC\n",
    "    fpr, tpr, thresholds = metrics.roc_curve(y_true, y_pred)\n",
    "    auc = metrics.auc(fpr, tpr)\n",
    "    \n",
    "    return precision, recall, accuracy, auc\n",
    "\n",
    "def spectral_clustering_model(X_train, X_test, y_train, y_test, affinity = 'rbf'):\n",
    "    affinity_matrix = pairwise_kernels(X_train, metric = affinity)\n",
    "    print(affinity_matrix)\n",
    "    #do the KNN modeling\n",
    "    sc = SpectralClustering(n_clusters = 2, affinity = 'precomputed')\n",
    "    y_pred =  sc.fit_predict(abs(affinity_matrix))\n",
    "    #y_pred = model.labels_\n",
    "    #print(y_pred)\n",
    "    #y_pred = neigh.fit_predict(X_test)\n",
    "    y_true = np.array(y_train)\n",
    "    #print(len(y_true))\n",
    "    #calculate metrics\n",
    "    precision = metrics.precision_score(y_true, y_pred)\n",
    "    recall = metrics.recall_score(y_true, y_pred)\n",
    "    accuracy = metrics.accuracy_score(y_true, y_pred)\n",
    "\n",
    "    #calculate the AUC\n",
    "    fpr, tpr, thresholds = metrics.roc_curve(y_true, y_pred)\n",
    "    auc = metrics.auc(fpr, tpr)\n",
    "    \n",
    "    return precision, recall, accuracy, auc"
   ]
  },
  {
   "cell_type": "markdown",
   "metadata": {},
   "source": [
    "#### Let us try to perform spectral clustering on the our stellar streams"
   ]
  },
  {
   "cell_type": "code",
   "execution_count": 12,
   "metadata": {
    "scrolled": true
   },
   "outputs": [],
   "source": [
    "def get_spectral_metrics(affinity, feature_type='polar'):\n",
    "    precisions_simulated = []\n",
    "    recalls_simulated = []\n",
    "    accuracy_simulated = []\n",
    "    auc_simulated = []\n",
    "    print(len(cuts))\n",
    "    for i in tqdm(range(len(cuts))):\n",
    "    #for i in tqdm(range(2)):\n",
    "        table = Table.read(stream_files[i], format='fits')\n",
    "        stream = table.to_pandas()\n",
    "\n",
    "        ra_min = cuts.loc[i].ra_min\n",
    "        ra_max = cuts.loc[i].ra_max\n",
    "        dec_min = cuts.loc[i].dec_min\n",
    "        dec_max = cuts.loc[i].dec_max\n",
    "\n",
    "        #restrict stream to relevant portion\n",
    "        stream = stream.query('ra > ' + str(ra_min) + ' & ra < ' + \\\n",
    "                              str(ra_max) + ' & dec > ' + str(dec_min) + ' & dec < ' + str(dec_max))\n",
    "\n",
    "        #label our data as \"part of the stream\"\n",
    "        stream['stream_mask'] = True\n",
    "\n",
    "        #split data into training and training data set\n",
    "        msk = np.random.rand(len(stream)) < 0.9\n",
    "        stream_train = stream[msk]\n",
    "        stream_test = stream[~msk]\n",
    "\n",
    "\n",
    "        #obtain noise points such that:\n",
    "        #- the ratio of stream to noise points in the training set is 2:1 i.e. strong signal\n",
    "        #- the ratio of stream to noise points in the test set is 1:100 i.e. realistic\n",
    "        n_points = ( len(stream_train) + len(stream_test) ) * 400\n",
    "\n",
    "        #use max_rel_err of 0.5\n",
    "        max_rel_err =  0.5\n",
    "\n",
    "        #we now select our noise points that we will incorporate into our training and test set\n",
    "        noise_points = obtain_noise(ra_min, ra_max, dec_min, dec_max, max_rel_err, n_points)\n",
    "\n",
    "        #label our data as \"not part of the stream\"\n",
    "        noise_points['stream_mask'] = False\n",
    "\n",
    "        msk2 = np.random.rand(len(noise_points)) < (len(stream_train) // 2 / n_points)\n",
    "        noise_train = noise_points[msk2]\n",
    "        noise_test = noise_points[~msk2]\n",
    "\n",
    "        #combine my stream and noise to obtain complete training and test data set\n",
    "        training_data = stream_train.append(noise_train, ignore_index = False, sort = True)\n",
    "        training_data = training_data[['ra', 'dec', 'pmra', 'pmdec', 'stream_mask']]\n",
    "\n",
    "        testing_data = stream_test.append(noise_test, ignore_index = False, sort = True)\n",
    "        testing_data = testing_data[['ra', 'dec', 'pmra', 'pmdec', 'stream_mask']]\n",
    "\n",
    "        #convert to Cartesian coordinates\n",
    "        toCartesian(testing_data)\n",
    "        toCartesian(training_data)\n",
    "\n",
    "        cartesian_features = ['x', 'y', 'z', 'vx', 'vy', 'vz']\n",
    "        polar_features = ['ra', 'dec', 'pmra', 'pmdec']\n",
    "        if feature_type == \"polar\":\n",
    "            features = polar_features\n",
    "        elif feature_type\n",
    "\n",
    "        #differentiate training and test data's X and y variables\n",
    "        X_train = training_data[features]\n",
    "        y_train = training_data.stream_mask\n",
    "\n",
    "        X_test = testing_data[features]\n",
    "        y_test = testing_data.stream_mask\n",
    "\n",
    "        #scale the features using standard scaler (scaling not required for logistic regression)\n",
    "        scaler = StandardScaler()\n",
    "        X_train_scaled = scaler.fit(X_train).transform(X_train)\n",
    "        X_test_scaled = scaler.fit(X_test).transform(X_test)\n",
    "        #print(y_train)\n",
    "        X_train.replace([np.inf, -np.inf], np.nan)\n",
    "        print(np.isinf(X_train.dropna()).all())\n",
    "        precision, recall, accuracy, auc = \\\n",
    "                spectral_clustering_model(X_train_scaled, X_test, y_train, y_test, affinity = affinity)\n",
    "\n",
    "        precisions_simulated.append(precision)\n",
    "        recalls_simulated.append(recall)\n",
    "        accuracy_simulated.append(accuracy)\n",
    "        auc_simulated.append(auc)\n",
    "        \n",
    "    return precisions_simulated, recalls_simulated, accuracy_simulated, auc_simulated"
   ]
  },
  {
   "cell_type": "markdown",
   "metadata": {},
   "source": [
    "#### Try running on the training data for different distance metrics"
   ]
  },
  {
   "cell_type": "markdown",
   "metadata": {},
   "source": [
    "##### Use the polar features to try spectral clustering"
   ]
  },
  {
   "cell_type": "code",
   "execution_count": null,
   "metadata": {
    "scrolled": false
   },
   "outputs": [],
   "source": [
    "precisions_simulated_lin, recalls_simulated_lin, \\\n",
    "    accuracy_simulated_lin, auc_simulated_lin = get_spectral_metrics('linear')"
   ]
  },
  {
   "cell_type": "code",
   "execution_count": 10,
   "metadata": {
    "scrolled": false
   },
   "outputs": [
    {
     "data": {
      "text/plain": [
       "<matplotlib.legend.Legend at 0x2b8c1ad1e7b8>"
      ]
     },
     "execution_count": 10,
     "metadata": {},
     "output_type": "execute_result"
    },
    {
     "data": {
      "image/png": "[encoded data removed]",
      "text/plain": [
       "<Figure size 1440x1080 with 1 Axes>"
      ]
     },
     "metadata": {
      "needs_background": "light"
     },
     "output_type": "display_data"
    }
   ],
   "source": [
    "import pickle\n",
    "import matplotlib.pyplot as plt\n",
    "\n",
    "affinity = \"linear\"\n",
    "with open(\"accuracy_simulated_\" + affinity + \".pickle\", \"rb\") as f:\n",
    "    accuracy_simulated = pickle.load(f)\n",
    "with open(\"auc_simulated_\" + affinity + \".pickle\", \"rb\") as f:\n",
    "    auc_simulated = pickle.load(f)\n",
    "with open(\"precisions_simulated_\" + affinity + \".pickle\", \"rb\") as f:\n",
    "    precision_simulated = pickle.load(f)\n",
    "with open(\"recalls_simulated_\" + affinity + \".pickle\", \"rb\") as f:\n",
    "    recall_simulated = pickle.load(f)\n",
    "    \n",
    "fig = plt.figure(figsize = (20,15))\n",
    "simulated_streams_index = [i for i in range(1,len(precision_simulated)+1)]\n",
    "#simulated_streams_index = [i for i in range(1,2+1)]\n",
    "plt.scatter(simulated_streams_index, precision_simulated, label = 'precisions')\n",
    "plt.scatter(simulated_streams_index, recall_simulated, label = 'recalls')\n",
    "plt.scatter(simulated_streams_index, accuracy_simulated, label = 'accuracies')\n",
    "plt.scatter(simulated_streams_index, auc_simulated, label = 'aucs')\n",
    "plt.title('Precisions, Recalls, Accuracies, AUCs for each of our ' + str(len(precision_simulated)) + ' Stellar Stream')\n",
    "plt.legend()"
   ]
  },
  {
   "cell_type": "code",
   "execution_count": null,
   "metadata": {
    "scrolled": false
   },
   "outputs": [],
   "source": [
    "precisions_simulated_poly, recalls_simulated_poly, \\\n",
    "accuracy_simulated_poly, auc_simulated_poly = get_spectral_metrics('poly')"
   ]
  },
  {
   "cell_type": "code",
   "execution_count": 11,
   "metadata": {
    "scrolled": false
   },
   "outputs": [
    {
     "data": {
      "text/plain": [
       "<matplotlib.legend.Legend at 0x2b8c1ad816d8>"
      ]
     },
     "execution_count": 11,
     "metadata": {},
     "output_type": "execute_result"
    },
    {
     "data": {
      "image/png": "[encoded data removed]",
      "text/plain": [
       "<Figure size 1440x1080 with 1 Axes>"
      ]
     },
     "metadata": {
      "needs_background": "light"
     },
     "output_type": "display_data"
    }
   ],
   "source": [
    "import pickle\n",
    "import matplotlib.pyplot as plt\n",
    "\n",
    "affinity = \"poly\"\n",
    "with open(\"accuracy_simulated_\" + affinity + \".pickle\", \"rb\") as f:\n",
    "    accuracy_simulated = pickle.load(f)\n",
    "with open(\"auc_simulated_\" + affinity + \".pickle\", \"rb\") as f:\n",
    "    auc_simulated = pickle.load(f)\n",
    "with open(\"precisions_simulated_\" + affinity + \".pickle\", \"rb\") as f:\n",
    "    precision_simulated = pickle.load(f)\n",
    "with open(\"recalls_simulated_\" + affinity + \".pickle\", \"rb\") as f:\n",
    "    recall_simulated = pickle.load(f)\n",
    "    \n",
    "fig = plt.figure(figsize = (20,15))\n",
    "simulated_streams_index = [i for i in range(1,len(precision_simulated)+1)]\n",
    "#simulated_streams_index = [i for i in range(1,2+1)]\n",
    "plt.scatter(simulated_streams_index, precision_simulated, label = 'precisions')\n",
    "plt.scatter(simulated_streams_index, recall_simulated, label = 'recalls')\n",
    "plt.scatter(simulated_streams_index, accuracy_simulated, label = 'accuracies')\n",
    "plt.scatter(simulated_streams_index, auc_simulated, label = 'aucs')\n",
    "plt.title('Precisions, Recalls, Accuracies, AUCs for each of our ' + str(len(precision_simulated)) + ' Stellar Stream')\n",
    "plt.legend()"
   ]
  },
  {
   "cell_type": "code",
   "execution_count": null,
   "metadata": {
    "scrolled": false
   },
   "outputs": [],
   "source": [
    "precisions_simulated_polynomial, recalls_simulated_polynomial, \\\n",
    "accuracy_simulated_polynomial, auc_simulated_polynomial = get_spectral_metrics('polynomial')"
   ]
  },
  {
   "cell_type": "code",
   "execution_count": 12,
   "metadata": {
    "scrolled": false
   },
   "outputs": [
    {
     "data": {
      "text/plain": [
       "<matplotlib.legend.Legend at 0x2b8c1ade9470>"
      ]
     },
     "execution_count": 12,
     "metadata": {},
     "output_type": "execute_result"
    },
    {
     "data": {
      "image/png": "[encoded data removed]",
      "text/plain": [
       "<Figure size 1440x1080 with 1 Axes>"
      ]
     },
     "metadata": {
      "needs_background": "light"
     },
     "output_type": "display_data"
    }
   ],
   "source": [
    "import pickle\n",
    "import matplotlib.pyplot as plt\n",
    "\n",
    "affinity = \"polynomial\"\n",
    "with open(\"accuracy_simulated_\" + affinity + \".pickle\", \"rb\") as f:\n",
    "    accuracy_simulated = pickle.load(f)\n",
    "with open(\"auc_simulated_\" + affinity + \".pickle\", \"rb\") as f:\n",
    "    auc_simulated = pickle.load(f)\n",
    "with open(\"precisions_simulated_\" + affinity + \".pickle\", \"rb\") as f:\n",
    "    precision_simulated = pickle.load(f)\n",
    "with open(\"recalls_simulated_\" + affinity + \".pickle\", \"rb\") as f:\n",
    "    recall_simulated = pickle.load(f)\n",
    "    \n",
    "fig = plt.figure(figsize = (20,15))\n",
    "simulated_streams_index = [i for i in range(1,len(precision_simulated)+1)]\n",
    "#simulated_streams_index = [i for i in range(1,2+1)]\n",
    "plt.scatter(simulated_streams_index, precision_simulated, label = 'precisions')\n",
    "plt.scatter(simulated_streams_index, recall_simulated, label = 'recalls')\n",
    "plt.scatter(simulated_streams_index, accuracy_simulated, label = 'accuracies')\n",
    "plt.scatter(simulated_streams_index, auc_simulated, label = 'aucs')\n",
    "plt.title('Precisions, Recalls, Accuracies, AUCs for each of our ' + str(len(precision_simulated)) + ' Stellar Stream')\n",
    "plt.legend()"
   ]
  },
  {
   "cell_type": "code",
   "execution_count": null,
   "metadata": {
    "scrolled": false
   },
   "outputs": [],
   "source": [
    "precisions_simulated_rbf, recalls_simulated_rbf, \\\n",
    "accuracy_simulated_rbf, auc_simulated_rbf = get_spectral_metrics('rbf')"
   ]
  },
  {
   "cell_type": "code",
   "execution_count": 13,
   "metadata": {
    "scrolled": false
   },
   "outputs": [
    {
     "data": {
      "text/plain": [
       "<matplotlib.legend.Legend at 0x2b8c1ae60278>"
      ]
     },
     "execution_count": 13,
     "metadata": {},
     "output_type": "execute_result"
    },
    {
     "data": {
      "image/png": "[encoded data removed]",
      "text/plain": [
       "<Figure size 1440x1080 with 1 Axes>"
      ]
     },
     "metadata": {
      "needs_background": "light"
     },
     "output_type": "display_data"
    }
   ],
   "source": [
    "import pickle\n",
    "import matplotlib.pyplot as plt\n",
    "\n",
    "affinity = \"rbf\"\n",
    "with open(\"accuracy_simulated_\" + affinity + \".pickle\", \"rb\") as f:\n",
    "    accuracy_simulated = pickle.load(f)\n",
    "with open(\"auc_simulated_\" + affinity + \".pickle\", \"rb\") as f:\n",
    "    auc_simulated = pickle.load(f)\n",
    "with open(\"precisions_simulated_\" + affinity + \".pickle\", \"rb\") as f:\n",
    "    precision_simulated = pickle.load(f)\n",
    "with open(\"recalls_simulated_\" + affinity + \".pickle\", \"rb\") as f:\n",
    "    recall_simulated = pickle.load(f)\n",
    "    \n",
    "fig = plt.figure(figsize = (20,15))\n",
    "simulated_streams_index = [i for i in range(1,len(precision_simulated)+1)]\n",
    "#simulated_streams_index = [i for i in range(1,2+1)]\n",
    "plt.scatter(simulated_streams_index, precision_simulated, label = 'precisions')\n",
    "plt.scatter(simulated_streams_index, recall_simulated, label = 'recalls')\n",
    "plt.scatter(simulated_streams_index, accuracy_simulated, label = 'accuracies')\n",
    "plt.scatter(simulated_streams_index, auc_simulated, label = 'aucs')\n",
    "plt.title('Precisions, Recalls, Accuracies, AUCs for each of our ' + str(len(precision_simulated)) + ' Stellar Stream')\n",
    "plt.legend()"
   ]
  },
  {
   "cell_type": "code",
   "execution_count": null,
   "metadata": {
    "scrolled": false
   },
   "outputs": [],
   "source": [
    "precisions_simulated_laplacian, recalls_simulated_laplacian, \\\n",
    "accuracy_simulated_laplacian, auc_simulated_laplacian = get_spectral_metrics('laplacian')"
   ]
  },
  {
   "cell_type": "code",
   "execution_count": 14,
   "metadata": {
    "scrolled": false
   },
   "outputs": [
    {
     "data": {
      "text/plain": [
       "<matplotlib.legend.Legend at 0x2b8c1c755550>"
      ]
     },
     "execution_count": 14,
     "metadata": {},
     "output_type": "execute_result"
    },
    {
     "data": {
      "image/png": "[encoded data removed]",
      "text/plain": [
       "<Figure size 1440x1080 with 1 Axes>"
      ]
     },
     "metadata": {
      "needs_background": "light"
     },
     "output_type": "display_data"
    }
   ],
   "source": [
    "import pickle\n",
    "import matplotlib.pyplot as plt\n",
    "\n",
    "affinity = \"laplacian\"\n",
    "with open(\"accuracy_simulated_\" + affinity + \".pickle\", \"rb\") as f:\n",
    "    accuracy_simulated = pickle.load(f)\n",
    "with open(\"auc_simulated_\" + affinity + \".pickle\", \"rb\") as f:\n",
    "    auc_simulated = pickle.load(f)\n",
    "with open(\"precisions_simulated_\" + affinity + \".pickle\", \"rb\") as f:\n",
    "    precision_simulated = pickle.load(f)\n",
    "with open(\"recalls_simulated_\" + affinity + \".pickle\", \"rb\") as f:\n",
    "    recall_simulated = pickle.load(f)\n",
    "    \n",
    "fig = plt.figure(figsize = (20,15))\n",
    "simulated_streams_index = [i for i in range(1,len(precision_simulated)+1)]\n",
    "#simulated_streams_index = [i for i in range(1,2+1)]\n",
    "plt.scatter(simulated_streams_index, precision_simulated, label = 'precisions')\n",
    "plt.scatter(simulated_streams_index, recall_simulated, label = 'recalls')\n",
    "plt.scatter(simulated_streams_index, accuracy_simulated, label = 'accuracies')\n",
    "plt.scatter(simulated_streams_index, auc_simulated, label = 'aucs')\n",
    "plt.title('Precisions, Recalls, Accuracies, AUCs for each of our ' + str(len(precision_simulated)) + ' Stellar Stream')\n",
    "plt.legend()"
   ]
  },
  {
   "cell_type": "code",
   "execution_count": null,
   "metadata": {
    "scrolled": false
   },
   "outputs": [],
   "source": [
    "precisions_simulated_sigmoid, recalls_simulated_sigmoid, \\\n",
    "accuracy_simulated_sigmoid, auc_simulated_sigmoid = get_spectral_metrics('sigmoid')"
   ]
  },
  {
   "cell_type": "code",
   "execution_count": 15,
   "metadata": {
    "scrolled": false
   },
   "outputs": [
    {
     "data": {
      "text/plain": [
       "<matplotlib.legend.Legend at 0x2b8c1cfa2358>"
      ]
     },
     "execution_count": 15,
     "metadata": {},
     "output_type": "execute_result"
    },
    {
     "data": {
      "image/png": "[encoded data removed]",
      "text/plain": [
       "<Figure size 1440x1080 with 1 Axes>"
      ]
     },
     "metadata": {
      "needs_background": "light"
     },
     "output_type": "display_data"
    }
   ],
   "source": [
    "import pickle\n",
    "import matplotlib.pyplot as plt\n",
    "\n",
    "affinity = \"sigmoid\"\n",
    "with open(\"accuracy_simulated_\" + affinity + \".pickle\", \"rb\") as f:\n",
    "    accuracy_simulated = pickle.load(f)\n",
    "with open(\"auc_simulated_\" + affinity + \".pickle\", \"rb\") as f:\n",
    "    auc_simulated = pickle.load(f)\n",
    "with open(\"precisions_simulated_\" + affinity + \".pickle\", \"rb\") as f:\n",
    "    precision_simulated = pickle.load(f)\n",
    "with open(\"recalls_simulated_\" + affinity + \".pickle\", \"rb\") as f:\n",
    "    recall_simulated = pickle.load(f)\n",
    "    \n",
    "fig = plt.figure(figsize = (20,15))\n",
    "simulated_streams_index = [i for i in range(1,len(precision_simulated)+1)]\n",
    "#simulated_streams_index = [i for i in range(1,2+1)]\n",
    "plt.scatter(simulated_streams_index, precision_simulated, label = 'precisions')\n",
    "plt.scatter(simulated_streams_index, recall_simulated, label = 'recalls')\n",
    "plt.scatter(simulated_streams_index, accuracy_simulated, label = 'accuracies')\n",
    "plt.scatter(simulated_streams_index, auc_simulated, label = 'aucs')\n",
    "plt.title('Precisions, Recalls, Accuracies, AUCs for each of our ' + str(len(precision_simulated)) + ' Stellar Stream')\n",
    "plt.legend()"
   ]
  },
  {
   "cell_type": "code",
   "execution_count": null,
   "metadata": {
    "scrolled": false
   },
   "outputs": [],
   "source": [
    "precisions_simulated_cosine, recalls_simulated_cosine, \\\n",
    "accuracy_simulated_cosine, auc_simlulated_cosine = get_spectral_metrics('cosine')"
   ]
  },
  {
   "cell_type": "code",
   "execution_count": 16,
   "metadata": {
    "scrolled": true
   },
   "outputs": [
    {
     "ename": "FileNotFoundError",
     "evalue": "[Errno 2] No such file or directory: 'accuracy_simulated_cosine.pickle'",
     "output_type": "error",
     "traceback": [
      "\u001b[0;31m---------------------------------------------------------------------------\u001b[0m",
      "\u001b[0;31mFileNotFoundError\u001b[0m                         Traceback (most recent call last)",
      "\u001b[0;32m<ipython-input-16-4659aa1f8177>\u001b[0m in \u001b[0;36m<module>\u001b[0;34m\u001b[0m\n\u001b[1;32m      3\u001b[0m \u001b[0;34m\u001b[0m\u001b[0m\n\u001b[1;32m      4\u001b[0m \u001b[0maffinity\u001b[0m \u001b[0;34m=\u001b[0m \u001b[0;34m\"cosine\"\u001b[0m\u001b[0;34m\u001b[0m\u001b[0;34m\u001b[0m\u001b[0m\n\u001b[0;32m----> 5\u001b[0;31m \u001b[0;32mwith\u001b[0m \u001b[0mopen\u001b[0m\u001b[0;34m(\u001b[0m\u001b[0;34m\"accuracy_simulated_\"\u001b[0m \u001b[0;34m+\u001b[0m \u001b[0maffinity\u001b[0m \u001b[0;34m+\u001b[0m \u001b[0;34m\".pickle\"\u001b[0m\u001b[0;34m,\u001b[0m \u001b[0;34m\"rb\"\u001b[0m\u001b[0;34m)\u001b[0m \u001b[0;32mas\u001b[0m \u001b[0mf\u001b[0m\u001b[0;34m:\u001b[0m\u001b[0;34m\u001b[0m\u001b[0;34m\u001b[0m\u001b[0m\n\u001b[0m\u001b[1;32m      6\u001b[0m     \u001b[0maccuracy_simulated\u001b[0m \u001b[0;34m=\u001b[0m \u001b[0mpickle\u001b[0m\u001b[0;34m.\u001b[0m\u001b[0mload\u001b[0m\u001b[0;34m(\u001b[0m\u001b[0mf\u001b[0m\u001b[0;34m)\u001b[0m\u001b[0;34m\u001b[0m\u001b[0;34m\u001b[0m\u001b[0m\n\u001b[1;32m      7\u001b[0m \u001b[0;32mwith\u001b[0m \u001b[0mopen\u001b[0m\u001b[0;34m(\u001b[0m\u001b[0;34m\"auc_simulated_\"\u001b[0m \u001b[0;34m+\u001b[0m \u001b[0maffinity\u001b[0m \u001b[0;34m+\u001b[0m \u001b[0;34m\".pickle\"\u001b[0m\u001b[0;34m,\u001b[0m \u001b[0;34m\"rb\"\u001b[0m\u001b[0;34m)\u001b[0m \u001b[0;32mas\u001b[0m \u001b[0mf\u001b[0m\u001b[0;34m:\u001b[0m\u001b[0;34m\u001b[0m\u001b[0;34m\u001b[0m\u001b[0m\n",
      "\u001b[0;31mFileNotFoundError\u001b[0m: [Errno 2] No such file or directory: 'accuracy_simulated_cosine.pickle'"
     ]
    }
   ],
   "source": [
    "import pickle\n",
    "import matplotlib.pyplot as plt\n",
    "\n",
    "affinity = \"cosine\"\n",
    "with open(\"accuracy_simulated_\" + affinity + \".pickle\", \"rb\") as f:\n",
    "    accuracy_simulated = pickle.load(f)\n",
    "with open(\"auc_simulated_\" + affinity + \".pickle\", \"rb\") as f:\n",
    "    auc_simulated = pickle.load(f)\n",
    "with open(\"precisions_simulated_\" + affinity + \".pickle\", \"rb\") as f:\n",
    "    precision_simulated = pickle.load(f)\n",
    "with open(\"recalls_simulated_\" + affinity + \".pickle\", \"rb\") as f:\n",
    "    recall_simulated = pickle.load(f)\n",
    "    \n",
    "fig = plt.figure(figsize = (20,15))\n",
    "simulated_streams_index = [i for i in range(1,len(precision_simulated)+1)]\n",
    "#simulated_streams_index = [i for i in range(1,2+1)]\n",
    "plt.scatter(simulated_streams_index, precision_simulated, label = 'precisions')\n",
    "plt.scatter(simulated_streams_index, recall_simulated, label = 'recalls')\n",
    "plt.scatter(simulated_streams_index, accuracy_simulated, label = 'accuracies')\n",
    "plt.scatter(simulated_streams_index, auc_simulated, label = 'aucs')\n",
    "plt.title('Precisions, Recalls, Accuracies, AUCs for each of our ' + str(len(precision_simulated)) + ' Stellar Stream')\n",
    "plt.legend()"
   ]
  }
 ],
 "metadata": {
  "kernelspec": {
   "display_name": "Python 3",
   "language": "python",
   "name": "python3"
  },
  "language_info": {
   "codemirror_mode": {
    "name": "ipython",
    "version": 3
   },
   "file_extension": ".py",
   "mimetype": "text/x-python",
   "name": "python",
   "nbconvert_exporter": "python",
   "pygments_lexer": "ipython3",
   "version": "3.6.9"
  }
 },
 "nbformat": 4,
 "nbformat_minor": 4
}
