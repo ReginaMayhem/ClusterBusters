{
 "cells": [
  {
   "cell_type": "code",
   "execution_count": 1,
   "metadata": {},
   "outputs": [],
   "source": [
    "#Miles' packages\n",
    "from astropy.table import Table\n",
    "import astropy.coordinates as coord\n",
    "import glob\n",
    "from astropy import units as u\n",
    "\n",
    "#data processing\n",
    "import pandas as pd\n",
    "import numpy as np\n",
    "import math as math\n",
    "from tqdm import tqdm\n",
    "import collections\n",
    "import copy\n",
    "\n",
    "#visualizations\n",
    "import matplotlib.pyplot as plt\n",
    "import matplotlib as mpl\n",
    "mpl.use('Agg')\n",
    "%matplotlib inline\n",
    "from mpl_toolkits.mplot3d import Axes3D\n",
    "import plotly.graph_objects as go\n",
    "\n",
    "#models\n",
    "from sklearn.cluster import DBSCAN\n",
    "from sklearn.linear_model import LogisticRegression\n",
    "from sklearn.neighbors import KNeighborsClassifier\n",
    "from sklearn.tree import DecisionTreeClassifier\n",
    "from sklearn.metrics import confusion_matrix\n",
    "from sklearn.utils.multiclass import unique_labels\n",
    "\n",
    "#data manipulation\n",
    "from sklearn.model_selection import train_test_split\n",
    "from sklearn.preprocessing import StandardScaler\n",
    "from sklearn import metrics\n",
    "\n",
    "#for my sanity\n",
    "import warnings\n",
    "warnings.filterwarnings('ignore')"
   ]
  },
  {
   "cell_type": "code",
   "execution_count": 2,
   "metadata": {},
   "outputs": [
    {
     "name": "stdout",
     "output_type": "stream",
     "text": [
      "Created TAP+ (v1.2.1) - Connection:\n",
      "\tHost: gea.esac.esa.int\n",
      "\tUse HTTPS: True\n",
      "\tPort: 443\n",
      "\tSSL Port: 443\n",
      "Created TAP+ (v1.2.1) - Connection:\n",
      "\tHost: geadata.esac.esa.int\n",
      "\tUse HTTPS: True\n",
      "\tPort: 443\n",
      "\tSSL Port: 443\n"
     ]
    }
   ],
   "source": [
    "from astroquery.gaia import Gaia"
   ]
  },
  {
   "cell_type": "code",
   "execution_count": 3,
   "metadata": {},
   "outputs": [],
   "source": [
    "stream_data_base = 'gaia_mock_streams/'\n",
    "stream_files = glob.glob(stream_data_base + 'stream*.fits.gz')"
   ]
  },
  {
   "cell_type": "markdown",
   "metadata": {},
   "source": [
    "We now have all the stream files:"
   ]
  },
  {
   "cell_type": "code",
   "execution_count": 4,
   "metadata": {},
   "outputs": [
    {
     "name": "stdout",
     "output_type": "stream",
     "text": [
      "322\n"
     ]
    },
    {
     "data": {
      "text/plain": [
       "['gaia_mock_streams/stream-178.fits.gz',\n",
       " 'gaia_mock_streams/stream-9528.fits.gz',\n",
       " 'gaia_mock_streams/stream-9549.fits.gz',\n",
       " 'gaia_mock_streams/stream-1954.fits.gz',\n",
       " 'gaia_mock_streams/stream-2408.fits.gz']"
      ]
     },
     "execution_count": 4,
     "metadata": {},
     "output_type": "execute_result"
    }
   ],
   "source": [
    "print(len(stream_files))\n",
    "stream_files[:5]"
   ]
  },
  {
   "cell_type": "code",
   "execution_count": 5,
   "metadata": {},
   "outputs": [],
   "source": [
    "#relevant cut for each stream\n",
    "cuts = pd.read_csv(\"cuts/cuts3.csv\")"
   ]
  },
  {
   "cell_type": "markdown",
   "metadata": {},
   "source": [
    "#### let us write a function to extract the Gaia noise points based on some inputs"
   ]
  },
  {
   "cell_type": "code",
   "execution_count": 6,
   "metadata": {},
   "outputs": [],
   "source": [
    "def obtain_noise(min_ra, max_ra, min_dec, max_dec, max_rel_err, n_points):\n",
    "    \n",
    "    qry = f\" \\n\\\n",
    "    select top {n_points} source_id, \\n\\\n",
    "    dr2.ra, \\n\\\n",
    "    dr2.dec, \\n\\\n",
    "    parallax, \\n\\\n",
    "    parallax_error, \\n\\\n",
    "    pmra, \\n\\\n",
    "    pmdec, \\n\\\n",
    "    phot_g_mean_mag,\\n\\\n",
    "    phot_bp_mean_mag, \\n\\\n",
    "    phot_rp_mean_mag, \\n\\\n",
    "    bp_rp, \\n\\\n",
    "    bp_g, \\n\\\n",
    "    g_rp\\n\\\n",
    "    from gaiadr2.gaia_source as dr2 \\n\\\n",
    "    where dr2.ra > {min_ra} and dr2.ra < {max_ra} and dr2.dec > {min_dec} and dr2.dec < {max_dec} \\n\\\n",
    "    and parallax is not null \\n\\\n",
    "    and parallax_error is not null \\n\\\n",
    "    and abs(dr2.parallax/dr2.parallax_error) < {max_rel_err} \\n\\\n",
    "    and pmra is not null \\n\\\n",
    "    and pmdec is not null \\n\\\n",
    "    and phot_g_mean_mag is not null \\n\\\n",
    "    and phot_bp_mean_mag is not null \\n\\\n",
    "    and phot_rp_mean_mag is not null \\n\\\n",
    "    and bp_rp is not null \\n\\\n",
    "    and bp_g is not null \\n\\\n",
    "    and g_rp is not null \\n\\\n",
    "    order by random_index\"\n",
    "\n",
    "    data_noise = Gaia.launch_job_async(qry).get_results().to_pandas()\n",
    "    \n",
    "    return data_noise"
   ]
  },
  {
   "cell_type": "markdown",
   "metadata": {},
   "source": [
    "#### Let us define our potential models here"
   ]
  },
  {
   "cell_type": "code",
   "execution_count": 7,
   "metadata": {},
   "outputs": [],
   "source": [
    "#let us define a function to run logistic regression on our data set and evaluate the results\n",
    "def log_reg_model(X_train, X_test, y_train, y_test):\n",
    "    #do the logistic regression modeling\n",
    "    log_reg = LogisticRegression(random_state=0, solver='lbfgs', max_iter=1000, multi_class='warn').fit(X_train, y_train)\n",
    "    y_pred = log_reg.predict(X_test)\n",
    "    y_true = np.array(y_test)\n",
    "    \n",
    "    #calculate metrics\n",
    "    precision = metrics.precision_score(y_true, y_pred)\n",
    "    recall = metrics.recall_score(y_true, y_pred)\n",
    "    accuracy = metrics.accuracy_score(y_true, y_pred)\n",
    "\n",
    "    #calculate the AUC\n",
    "    fpr, tpr, thresholds = metrics.roc_curve(y_true, y_pred)\n",
    "    auc = metrics.auc(fpr, tpr)\n",
    "    \n",
    "    return precision, recall, accuracy, auc, y_pred, y_true\n",
    "\n",
    "def knn_model(X_train, X_test, y_train, y_test, k):\n",
    "    #do the KNN modeling\n",
    "    neigh = KNeighborsClassifier(n_neighbors=k)\n",
    "    neigh.fit(X_train, y_train)\n",
    "    y_pred = neigh.predict(X_test)\n",
    "    y_true = np.array(y_test)\n",
    "    \n",
    "    #calculate metrics\n",
    "    precision = metrics.precision_score(y_true, y_pred)\n",
    "    recall = metrics.recall_score(y_true, y_pred)\n",
    "    accuracy = metrics.accuracy_score(y_true, y_pred)\n",
    "\n",
    "    #calculate the AUC\n",
    "    fpr, tpr, thresholds = metrics.roc_curve(y_true, y_pred)\n",
    "    auc = metrics.auc(fpr, tpr)\n",
    "    \n",
    "    return precision, recall, accuracy, auc, y_pred, y_true"
   ]
  },
  {
   "cell_type": "markdown",
   "metadata": {},
   "source": [
    "#### For each mock stream, we wish to obtain a fixed test set that represents the realistic ratio of non-stream stars to stream stars that we expect after applying an isochrone filter.\n",
    "#### - This ratio was previously determined to be ~400"
   ]
  },
  {
   "cell_type": "code",
   "execution_count": 8,
   "metadata": {},
   "outputs": [],
   "source": [
    "def obtain_test_set(list_of_stellar_streams, multiple):\n",
    "\n",
    "    for i in list_of_stellar_streams:\n",
    "        table = Table.read(i, format='fits')\n",
    "        stream = table.to_pandas()\n",
    "        \n",
    "        idx = cuts.index[cuts.stream_file==str(i)][0]\n",
    "\n",
    "        ra_min = cuts.loc[idx].ra_min\n",
    "        ra_max = cuts.loc[idx].ra_max\n",
    "        dec_min = cuts.loc[idx].dec_min\n",
    "        dec_max = cuts.loc[idx].dec_max\n",
    "        \n",
    "        #restrict stream to relevant portion\n",
    "        stream = stream.query('ra > ' + str(ra_min) + ' & ra < ' + str(ra_max) + ' & dec > ' + str(dec_min) + ' & dec < ' + str(dec_max))\n",
    "\n",
    "        #obtain noise points such that:\n",
    "        #- the ratio of stream to noise points in the test set is 1:multiple\n",
    "        #- this is required because KNN introduces bias when the ratios are imbalanced\n",
    "        n_points = len(stream) * multiple\n",
    "        #use max_rel_err of 0.5\n",
    "        max_rel_err =  0.5\n",
    "\n",
    "        #we now select our noise points that we will incorporate into our training and test set\n",
    "        noise_points = obtain_noise(ra_min, ra_max, dec_min, dec_max, max_rel_err, n_points)\n",
    "\n",
    "        #label our data as \"not part of the stream\"\n",
    "        noise_points['stream_mask'] = False\n",
    "        \n",
    "        #send to csv\n",
    "        name = i[18:-8]+'_mul_400_total_noise.csv'\n",
    "        noise_points.to_csv(name)\n",
    "\n",
    "    return noise_points"
   ]
  },
  {
   "cell_type": "code",
   "execution_count": 9,
   "metadata": {},
   "outputs": [],
   "source": [
    "viable_streams = []\n",
    "\n",
    "for i in cuts.stream_file:\n",
    "    table = Table.read(i, format='fits')\n",
    "    stream = table.to_pandas()\n",
    "    \n",
    "    idx = cuts.index[cuts.stream_file==str(i)][0]\n",
    "\n",
    "    ra_min = cuts.loc[idx].ra_min\n",
    "    ra_max = cuts.loc[idx].ra_max\n",
    "    dec_min = cuts.loc[idx].dec_min\n",
    "    dec_max = cuts.loc[idx].dec_max\n",
    "\n",
    "    #restrict stream to relevant portion\n",
    "    stream2 = stream.query('ra > ' + str(ra_min) + ' & ra < ' + str(ra_max) + ' & dec > ' + str(dec_min) + ' & dec < ' + str(dec_max))\n",
    "    \n",
    "    if len(stream2) < 500:\n",
    "        viable_streams.append(i)\n",
    "\n",
    "####ONLY NEED TO RUN THIS ONCE\n",
    "# test2 = obtain_test_set(viable_streams,400)"
   ]
  },
  {
   "cell_type": "code",
   "execution_count": 13,
   "metadata": {},
   "outputs": [],
   "source": [
    "#exclude the first one (2985 not needed here)\n",
    "viable_new = viable_streams[1:]"
   ]
  },
  {
   "cell_type": "markdown",
   "metadata": {},
   "source": [
    "#### Train a KNN model"
   ]
  },
  {
   "cell_type": "code",
   "execution_count": 14,
   "metadata": {},
   "outputs": [],
   "source": [
    "def knn_simulated_stream(stream_name, k_optimal, multiple, train_ratio):\n",
    "\n",
    "    table = Table.read(stream_name, format='fits')\n",
    "    stream = table.to_pandas()\n",
    "    \n",
    "    idx = cuts.index[cuts.stream_file==stream_name][0]\n",
    "\n",
    "    ra_min = cuts.loc[idx].ra_min\n",
    "    ra_max = cuts.loc[idx].ra_max\n",
    "    dec_min = cuts.loc[idx].dec_min\n",
    "    dec_max = cuts.loc[idx].dec_max\n",
    "\n",
    "    #restrict stream to relevant portion\n",
    "    stream = stream.query('ra > ' + str(ra_min) + ' & ra < ' + str(ra_max) + ' & dec > ' + str(dec_min) + ' & dec < ' + str(dec_max))\n",
    "\n",
    "    #label our data as \"part of the stream\"\n",
    "    stream['stream_mask'] = True\n",
    "\n",
    "    #split data into training and training data set\n",
    "    msk = np.random.rand(len(stream)) < train_ratio\n",
    "    stream_train = stream[msk]\n",
    "    stream_test = stream[~msk]\n",
    "\n",
    "\n",
    "    #obtain noise points such that:\n",
    "    #- the ratio of stream to noise points in the training set is 1:multiple\n",
    "    #- the ratio of stream to noise points in the test set is close to the 'real' ratio\n",
    "    name = \"noise_points/\" + stream_name[18:-8] + \"_mul_400_total_noise.csv\"\n",
    "    noise_points = pd.read_csv(name)\n",
    "    train_points = len(stream_train) * multiple\n",
    "\n",
    "    msk2 = np.random.rand(len(noise_points)) < (train_points / len(noise_points))\n",
    "    noise_train = noise_points[msk2]\n",
    "    noise_test = noise_points[~msk2]\n",
    "    \n",
    "    #label our data as \"not part of the stream\"\n",
    "    noise_points['stream_mask'] = False\n",
    "\n",
    "    #combine my stream and noise to obtain complete training and test data set\n",
    "    training_data = stream_train.append(noise_train, ignore_index = False, sort = True)\n",
    "    training_data = training_data[['ra', 'dec', 'pmra', 'pmdec', 'stream_mask']]\n",
    "\n",
    "    testing_data = stream_test.append(noise_test, ignore_index = False, sort = True)\n",
    "    testing_data = testing_data[['ra', 'dec', 'pmra', 'pmdec', 'stream_mask']]\n",
    "\n",
    "    #differentiate training and test data's X and y variables\n",
    "    X_train = training_data[['ra', 'dec', 'pmra', 'pmdec']]\n",
    "    y_train = training_data.stream_mask\n",
    "\n",
    "    X_test = testing_data[['ra', 'dec', 'pmra', 'pmdec']]\n",
    "    y_test = testing_data.stream_mask\n",
    "\n",
    "    #scale the features using standard scaler (scaling not required for logistic regression)\n",
    "    scaler = StandardScaler()\n",
    "    X_train_scaled = scaler.fit(X_train).transform(X_train)\n",
    "    X_test_scaled = scaler.fit(X_test).transform(X_test)\n",
    "\n",
    "    precision, recall, accuracy, auc, y_pred, y_true = knn_model(X_train_scaled, X_test_scaled, y_train, y_test, k_optimal)\n",
    "        \n",
    "    return precision, recall, accuracy, auc, y_pred, y_true\n"
   ]
  },
  {
   "cell_type": "markdown",
   "metadata": {},
   "source": [
    "#### we try a combination of hyperparameters and record their vote"
   ]
  },
  {
   "cell_type": "code",
   "execution_count": 15,
   "metadata": {},
   "outputs": [],
   "source": [
    "res1 = pd.read_csv('fixed_test_ratio_results.csv', index_col = 0)\n",
    "res2 = pd.read_csv('fixed_test_ratio_results2.csv', index_col = 0)\n",
    "res = res1.append(res2, ignore_index = True)\n",
    "\n",
    "res['f1']= 2*(res.precision * res.recall)/(res.precision + res.recall)\n",
    "#res.sort_values(by = 'f1',ascending = False).head(20)\n",
    "#res.query('f1 > 0.701')\n",
    "res3 = res.groupby(['k','multiple','training_ratio']).mean().sort_values(by = 'f1',ascending = False)\n",
    "res3 = res3.reset_index()[['k','multiple','training_ratio']]\n",
    "tuples_try = [(list(res3.k)[i], list(res3.multiple)[i], list(res3.training_ratio)[i]) for i in range(75)]"
   ]
  },
  {
   "cell_type": "code",
   "execution_count": 18,
   "metadata": {},
   "outputs": [
    {
     "data": {
      "text/plain": [
       "75"
      ]
     },
     "execution_count": 18,
     "metadata": {},
     "output_type": "execute_result"
    }
   ],
   "source": [
    "tuples_try[:2]\n",
    "len(tuples_try)"
   ]
  },
  {
   "cell_type": "code",
   "execution_count": 166,
   "metadata": {},
   "outputs": [
    {
     "name": "stderr",
     "output_type": "stream",
     "text": [
      "\n",
      "  0%|          | 0/19 [00:00<?, ?it/s]\u001b[A\n",
      "  5%|▌         | 1/19 [02:04<37:14, 124.14s/it]\u001b[A\n",
      " 11%|█         | 2/19 [04:30<37:03, 130.79s/it]\u001b[A\n",
      " 16%|█▌        | 3/19 [08:06<41:42, 156.39s/it]\u001b[A\n",
      " 21%|██        | 4/19 [11:11<41:13, 164.92s/it]\u001b[A\n",
      " 26%|██▋       | 5/19 [11:24<27:49, 119.24s/it]\u001b[A\n",
      " 32%|███▏      | 6/19 [11:49<19:44, 91.10s/it] \u001b[A\n",
      " 37%|███▋      | 7/19 [12:35<15:29, 77.49s/it]\u001b[A\n",
      " 42%|████▏     | 8/19 [14:37<16:40, 90.99s/it]\u001b[A\n",
      " 47%|████▋     | 9/19 [18:46<23:01, 138.18s/it]\u001b[A\n",
      " 53%|█████▎    | 10/19 [23:29<27:15, 181.67s/it]\u001b[A\n",
      " 58%|█████▊    | 11/19 [26:21<23:50, 178.83s/it]\u001b[A\n",
      " 63%|██████▎   | 12/19 [26:28<14:51, 127.33s/it]\u001b[A\n",
      " 68%|██████▊   | 13/19 [28:30<12:34, 125.75s/it]\u001b[A\n",
      " 74%|███████▎  | 14/19 [29:26<08:43, 104.75s/it]\u001b[A\n",
      " 79%|███████▉  | 15/19 [30:22<06:01, 90.32s/it] \u001b[A\n",
      " 84%|████████▍ | 16/19 [30:28<03:14, 64.80s/it]\u001b[A\n",
      " 89%|████████▉ | 17/19 [30:37<01:36, 48.11s/it]\u001b[A\n",
      " 95%|█████████▍| 18/19 [31:21<00:46, 46.88s/it]\u001b[A\n",
      "100%|██████████| 19/19 [31:41<00:00, 100.07s/it][A\n"
     ]
    }
   ],
   "source": [
    "results = {}\n",
    "\n",
    "\n",
    "for stream_name in tqdm(viable_new):\n",
    "    table = Table.read(stream_name, format='fits')\n",
    "    stream = table.to_pandas()\n",
    "\n",
    "    idx = cuts.index[cuts.stream_file==stream_name][0]\n",
    "\n",
    "    ra_min = cuts.loc[idx].ra_min\n",
    "    ra_max = cuts.loc[idx].ra_max\n",
    "    dec_min = cuts.loc[idx].dec_min\n",
    "    dec_max = cuts.loc[idx].dec_max\n",
    "\n",
    "    #restrict stream to relevant portion\n",
    "    stream = stream.query('ra > ' + str(ra_min) + ' & ra < ' + str(ra_max) + ' & dec > ' + str(dec_min) + ' & dec < ' + str(dec_max))\n",
    "\n",
    "    #label our data as \"part of the stream\"\n",
    "    stream['stream_mask'] = True\n",
    "    \n",
    "    votes = []\n",
    "    \n",
    "    number_of_votes = 25\n",
    "    for voter in tuples_try[:number_of_votes]:\n",
    "\n",
    "        k_optimal = voter[0]\n",
    "        multiple = voter[1]\n",
    "        training_ratio = voter[2]\n",
    "        \n",
    "        \n",
    "        #split data into training and training data set\n",
    "        stream_train, stream_test = train_test_split(stream, test_size=1-training_ratio)\n",
    "\n",
    "        #msk = np.random.rand(len(stream)) < training_ratio\n",
    "        #stream_train = stream[msk]\n",
    "        #stream_test = stream[~msk]\n",
    "\n",
    "\n",
    "        #obtain noise points such that:\n",
    "        #- the ratio of stream to noise points in the training set is 1:multiple\n",
    "        #- the ratio of stream to noise points in the test set is close to the 'real' ratio\n",
    "        name = \"noise_points/\" + stream_name[18:-8] + \"_mul_400_total_noise.csv\"\n",
    "        noise_points = pd.read_csv(name)\n",
    "        train_points = len(stream_train) * multiple\n",
    "        \n",
    "        noise_train = noise_points.sample(n=train_points,random_state = 25)\n",
    "        leftover_noise = pd.concat([noise_points,noise_train]).drop_duplicates(keep=False)\n",
    "        n_points = round(len(noise_points)*0.8)\n",
    "        noise_test = leftover_noise.sample(n=n_points,random_state = 25)\n",
    "        \n",
    "        #ratio2 = train_points / len(noise_points)\n",
    "        #noise_train, noise_test = train_test_split(noise_points, test_size= ratio2)\n",
    "        #msk2 = np.random.rand(len(noise_points)) < (train_points / len(noise_points))\n",
    "        #noise_train = noise_points[msk2]\n",
    "        #noise_test = noise_points[~msk2]\n",
    "\n",
    "        #label our data as \"not part of the stream\"\n",
    "        noise_points['stream_mask'] = False\n",
    "\n",
    "        #combine my stream and noise to obtain complete training and test data set\n",
    "        training_data = stream_train.append(noise_train, ignore_index = False, sort = True)\n",
    "        training_data = training_data[['ra', 'dec', 'pmra', 'pmdec', 'stream_mask']]\n",
    "\n",
    "        testing_data = stream_test.append(noise_test, ignore_index = False, sort = True)\n",
    "        testing_data = testing_data[['ra', 'dec', 'pmra', 'pmdec', 'stream_mask']]\n",
    "\n",
    "        #differentiate training and test data's X and y variables\n",
    "        X_train = training_data[['ra', 'dec', 'pmra', 'pmdec']]\n",
    "        y_train = training_data.stream_mask\n",
    "\n",
    "        X_test = testing_data[['ra', 'dec', 'pmra', 'pmdec']]\n",
    "        y_test = testing_data.stream_mask\n",
    "\n",
    "        #scale the features using standard scaler (scaling not required for logistic regression)\n",
    "        scaler = StandardScaler()\n",
    "        X_train_scaled = scaler.fit(X_train).transform(X_train)\n",
    "        X_test_scaled = scaler.fit(X_test).transform(X_test)\n",
    "\n",
    "        precision, recall, accuracy, auc, y_pred, y_true = knn_model(X_train_scaled, X_test_scaled, y_train, y_test, k_optimal)\n",
    "        votes.append(y_pred)\n",
    "        \n",
    "    for i in range(len(votes)):\n",
    "        name_of_vote = 'voter_' + str(i)\n",
    "        testing_data[name_of_vote] = votes[i]\n",
    "    \n",
    "        #trouble_shooting\n",
    "        #print(len(y_pred), len(stream_train), len(noise_points), train_points, len(noise_train), len(noise_test), len(leftover_noise))\n",
    "    \n",
    "    results[stream_name]=testing_data"
   ]
  },
  {
   "cell_type": "code",
   "execution_count": 168,
   "metadata": {},
   "outputs": [],
   "source": [
    "res_temp = pd.DataFrame([results])\n",
    "res_temp.to_csv('temp_results_ensemble.csv')"
   ]
  },
  {
   "cell_type": "markdown",
   "metadata": {},
   "source": [
    "#### We tune for threshold"
   ]
  },
  {
   "cell_type": "code",
   "execution_count": 169,
   "metadata": {},
   "outputs": [],
   "source": [
    "results_use = copy.deepcopy(results)\n",
    "streams = list(results_use.keys())\n",
    "\n",
    "#use the first 10 elements to tune the threshold\n",
    "streams_threshold_tuning = streams[:10]\n",
    "streams_predictions = streams[10:]\n",
    "thresholds = np.arange(0.1,1,0.02).tolist()"
   ]
  },
  {
   "cell_type": "code",
   "execution_count": 170,
   "metadata": {},
   "outputs": [],
   "source": [
    "for stream in streams_threshold_tuning:\n",
    "    sum_of_votes = results_use[stream].drop(['ra','dec','pmra','pmdec','stream_mask'],axis=1).sum(axis=1)\n",
    "    results_use[stream]['avg_of_votes'] = sum_of_votes / number_of_votes\n",
    "    for threshold in thresholds:\n",
    "        col_name = 'agg_vote'+str(round(threshold,2))\n",
    "        results_use[stream][col_name] = np.where(results_use[stream].avg_of_votes > threshold, True, False)"
   ]
  },
  {
   "cell_type": "code",
   "execution_count": 171,
   "metadata": {},
   "outputs": [
    {
     "data": {
      "text/html": [
       "<div>\n",
       "<style scoped>\n",
       "    .dataframe tbody tr th:only-of-type {\n",
       "        vertical-align: middle;\n",
       "    }\n",
       "\n",
       "    .dataframe tbody tr th {\n",
       "        vertical-align: top;\n",
       "    }\n",
       "\n",
       "    .dataframe thead th {\n",
       "        text-align: right;\n",
       "    }\n",
       "</style>\n",
       "<table border=\"1\" class=\"dataframe\">\n",
       "  <thead>\n",
       "    <tr style=\"text-align: right;\">\n",
       "      <th></th>\n",
       "      <th>ra</th>\n",
       "      <th>dec</th>\n",
       "      <th>pmra</th>\n",
       "      <th>pmdec</th>\n",
       "      <th>stream_mask</th>\n",
       "      <th>voter_0</th>\n",
       "      <th>voter_1</th>\n",
       "      <th>voter_2</th>\n",
       "      <th>voter_3</th>\n",
       "      <th>voter_4</th>\n",
       "      <th>...</th>\n",
       "      <th>agg_vote0.8</th>\n",
       "      <th>agg_vote0.82</th>\n",
       "      <th>agg_vote0.84</th>\n",
       "      <th>agg_vote0.86</th>\n",
       "      <th>agg_vote0.88</th>\n",
       "      <th>agg_vote0.9</th>\n",
       "      <th>agg_vote0.92</th>\n",
       "      <th>agg_vote0.94</th>\n",
       "      <th>agg_vote0.96</th>\n",
       "      <th>agg_vote0.98</th>\n",
       "    </tr>\n",
       "  </thead>\n",
       "  <tbody>\n",
       "    <tr>\n",
       "      <td>127</td>\n",
       "      <td>112.419592</td>\n",
       "      <td>-19.601840</td>\n",
       "      <td>0.788125</td>\n",
       "      <td>-1.209522</td>\n",
       "      <td>True</td>\n",
       "      <td>False</td>\n",
       "      <td>True</td>\n",
       "      <td>True</td>\n",
       "      <td>False</td>\n",
       "      <td>False</td>\n",
       "      <td>...</td>\n",
       "      <td>False</td>\n",
       "      <td>False</td>\n",
       "      <td>False</td>\n",
       "      <td>False</td>\n",
       "      <td>False</td>\n",
       "      <td>False</td>\n",
       "      <td>False</td>\n",
       "      <td>False</td>\n",
       "      <td>False</td>\n",
       "      <td>False</td>\n",
       "    </tr>\n",
       "    <tr>\n",
       "      <td>118</td>\n",
       "      <td>204.599372</td>\n",
       "      <td>-58.539855</td>\n",
       "      <td>31.170587</td>\n",
       "      <td>-4.289839</td>\n",
       "      <td>True</td>\n",
       "      <td>True</td>\n",
       "      <td>True</td>\n",
       "      <td>False</td>\n",
       "      <td>False</td>\n",
       "      <td>False</td>\n",
       "      <td>...</td>\n",
       "      <td>False</td>\n",
       "      <td>False</td>\n",
       "      <td>False</td>\n",
       "      <td>False</td>\n",
       "      <td>False</td>\n",
       "      <td>False</td>\n",
       "      <td>False</td>\n",
       "      <td>False</td>\n",
       "      <td>False</td>\n",
       "      <td>False</td>\n",
       "    </tr>\n",
       "    <tr>\n",
       "      <td>83</td>\n",
       "      <td>180.150932</td>\n",
       "      <td>-68.591539</td>\n",
       "      <td>-7.827223</td>\n",
       "      <td>1.673495</td>\n",
       "      <td>True</td>\n",
       "      <td>False</td>\n",
       "      <td>False</td>\n",
       "      <td>True</td>\n",
       "      <td>True</td>\n",
       "      <td>False</td>\n",
       "      <td>...</td>\n",
       "      <td>False</td>\n",
       "      <td>False</td>\n",
       "      <td>False</td>\n",
       "      <td>False</td>\n",
       "      <td>False</td>\n",
       "      <td>False</td>\n",
       "      <td>False</td>\n",
       "      <td>False</td>\n",
       "      <td>False</td>\n",
       "      <td>False</td>\n",
       "    </tr>\n",
       "    <tr>\n",
       "      <td>167</td>\n",
       "      <td>120.649869</td>\n",
       "      <td>-21.414516</td>\n",
       "      <td>0.152062</td>\n",
       "      <td>-0.349289</td>\n",
       "      <td>True</td>\n",
       "      <td>True</td>\n",
       "      <td>False</td>\n",
       "      <td>False</td>\n",
       "      <td>False</td>\n",
       "      <td>True</td>\n",
       "      <td>...</td>\n",
       "      <td>False</td>\n",
       "      <td>False</td>\n",
       "      <td>False</td>\n",
       "      <td>False</td>\n",
       "      <td>False</td>\n",
       "      <td>False</td>\n",
       "      <td>False</td>\n",
       "      <td>False</td>\n",
       "      <td>False</td>\n",
       "      <td>False</td>\n",
       "    </tr>\n",
       "    <tr>\n",
       "      <td>3</td>\n",
       "      <td>118.706305</td>\n",
       "      <td>-18.711075</td>\n",
       "      <td>1.110812</td>\n",
       "      <td>-1.580155</td>\n",
       "      <td>True</td>\n",
       "      <td>True</td>\n",
       "      <td>False</td>\n",
       "      <td>True</td>\n",
       "      <td>False</td>\n",
       "      <td>False</td>\n",
       "      <td>...</td>\n",
       "      <td>False</td>\n",
       "      <td>False</td>\n",
       "      <td>False</td>\n",
       "      <td>False</td>\n",
       "      <td>False</td>\n",
       "      <td>False</td>\n",
       "      <td>False</td>\n",
       "      <td>False</td>\n",
       "      <td>False</td>\n",
       "      <td>False</td>\n",
       "    </tr>\n",
       "    <tr>\n",
       "      <td>90</td>\n",
       "      <td>234.241156</td>\n",
       "      <td>-18.511026</td>\n",
       "      <td>23.409427</td>\n",
       "      <td>-16.363313</td>\n",
       "      <td>True</td>\n",
       "      <td>False</td>\n",
       "      <td>True</td>\n",
       "      <td>False</td>\n",
       "      <td>False</td>\n",
       "      <td>False</td>\n",
       "      <td>...</td>\n",
       "      <td>False</td>\n",
       "      <td>False</td>\n",
       "      <td>False</td>\n",
       "      <td>False</td>\n",
       "      <td>False</td>\n",
       "      <td>False</td>\n",
       "      <td>False</td>\n",
       "      <td>False</td>\n",
       "      <td>False</td>\n",
       "      <td>False</td>\n",
       "    </tr>\n",
       "    <tr>\n",
       "      <td>193</td>\n",
       "      <td>119.218855</td>\n",
       "      <td>-15.437300</td>\n",
       "      <td>0.353614</td>\n",
       "      <td>-0.640459</td>\n",
       "      <td>True</td>\n",
       "      <td>False</td>\n",
       "      <td>False</td>\n",
       "      <td>False</td>\n",
       "      <td>False</td>\n",
       "      <td>True</td>\n",
       "      <td>...</td>\n",
       "      <td>False</td>\n",
       "      <td>False</td>\n",
       "      <td>False</td>\n",
       "      <td>False</td>\n",
       "      <td>False</td>\n",
       "      <td>False</td>\n",
       "      <td>False</td>\n",
       "      <td>False</td>\n",
       "      <td>False</td>\n",
       "      <td>False</td>\n",
       "    </tr>\n",
       "    <tr>\n",
       "      <td>138</td>\n",
       "      <td>117.500401</td>\n",
       "      <td>-25.547407</td>\n",
       "      <td>-0.387056</td>\n",
       "      <td>-0.005236</td>\n",
       "      <td>True</td>\n",
       "      <td>True</td>\n",
       "      <td>False</td>\n",
       "      <td>False</td>\n",
       "      <td>False</td>\n",
       "      <td>False</td>\n",
       "      <td>...</td>\n",
       "      <td>False</td>\n",
       "      <td>False</td>\n",
       "      <td>False</td>\n",
       "      <td>False</td>\n",
       "      <td>False</td>\n",
       "      <td>False</td>\n",
       "      <td>False</td>\n",
       "      <td>False</td>\n",
       "      <td>False</td>\n",
       "      <td>False</td>\n",
       "    </tr>\n",
       "    <tr>\n",
       "      <td>4</td>\n",
       "      <td>155.622120</td>\n",
       "      <td>-65.738076</td>\n",
       "      <td>-4.256172</td>\n",
       "      <td>2.870330</td>\n",
       "      <td>True</td>\n",
       "      <td>False</td>\n",
       "      <td>True</td>\n",
       "      <td>False</td>\n",
       "      <td>True</td>\n",
       "      <td>False</td>\n",
       "      <td>...</td>\n",
       "      <td>False</td>\n",
       "      <td>False</td>\n",
       "      <td>False</td>\n",
       "      <td>False</td>\n",
       "      <td>False</td>\n",
       "      <td>False</td>\n",
       "      <td>False</td>\n",
       "      <td>False</td>\n",
       "      <td>False</td>\n",
       "      <td>False</td>\n",
       "    </tr>\n",
       "    <tr>\n",
       "      <td>169</td>\n",
       "      <td>331.557475</td>\n",
       "      <td>51.604628</td>\n",
       "      <td>-0.033348</td>\n",
       "      <td>0.090009</td>\n",
       "      <td>True</td>\n",
       "      <td>False</td>\n",
       "      <td>True</td>\n",
       "      <td>False</td>\n",
       "      <td>False</td>\n",
       "      <td>False</td>\n",
       "      <td>...</td>\n",
       "      <td>False</td>\n",
       "      <td>False</td>\n",
       "      <td>False</td>\n",
       "      <td>False</td>\n",
       "      <td>False</td>\n",
       "      <td>False</td>\n",
       "      <td>False</td>\n",
       "      <td>False</td>\n",
       "      <td>False</td>\n",
       "      <td>False</td>\n",
       "    </tr>\n",
       "  </tbody>\n",
       "</table>\n",
       "<p>10 rows × 76 columns</p>\n",
       "</div>"
      ],
      "text/plain": [
       "             ra        dec       pmra      pmdec  stream_mask  voter_0  \\\n",
       "127  112.419592 -19.601840   0.788125  -1.209522         True    False   \n",
       "118  204.599372 -58.539855  31.170587  -4.289839         True     True   \n",
       "83   180.150932 -68.591539  -7.827223   1.673495         True    False   \n",
       "167  120.649869 -21.414516   0.152062  -0.349289         True     True   \n",
       "3    118.706305 -18.711075   1.110812  -1.580155         True     True   \n",
       "90   234.241156 -18.511026  23.409427 -16.363313         True    False   \n",
       "193  119.218855 -15.437300   0.353614  -0.640459         True    False   \n",
       "138  117.500401 -25.547407  -0.387056  -0.005236         True     True   \n",
       "4    155.622120 -65.738076  -4.256172   2.870330         True    False   \n",
       "169  331.557475  51.604628  -0.033348   0.090009         True    False   \n",
       "\n",
       "     voter_1  voter_2  voter_3  voter_4  ...  agg_vote0.8  agg_vote0.82  \\\n",
       "127     True     True    False    False  ...        False         False   \n",
       "118     True    False    False    False  ...        False         False   \n",
       "83     False     True     True    False  ...        False         False   \n",
       "167    False    False    False     True  ...        False         False   \n",
       "3      False     True    False    False  ...        False         False   \n",
       "90      True    False    False    False  ...        False         False   \n",
       "193    False    False    False     True  ...        False         False   \n",
       "138    False    False    False    False  ...        False         False   \n",
       "4       True    False     True    False  ...        False         False   \n",
       "169     True    False    False    False  ...        False         False   \n",
       "\n",
       "     agg_vote0.84  agg_vote0.86  agg_vote0.88  agg_vote0.9  agg_vote0.92  \\\n",
       "127         False         False         False        False         False   \n",
       "118         False         False         False        False         False   \n",
       "83          False         False         False        False         False   \n",
       "167         False         False         False        False         False   \n",
       "3           False         False         False        False         False   \n",
       "90          False         False         False        False         False   \n",
       "193         False         False         False        False         False   \n",
       "138         False         False         False        False         False   \n",
       "4           False         False         False        False         False   \n",
       "169         False         False         False        False         False   \n",
       "\n",
       "     agg_vote0.94  agg_vote0.96  agg_vote0.98  \n",
       "127         False         False         False  \n",
       "118         False         False         False  \n",
       "83          False         False         False  \n",
       "167         False         False         False  \n",
       "3           False         False         False  \n",
       "90          False         False         False  \n",
       "193         False         False         False  \n",
       "138         False         False         False  \n",
       "4           False         False         False  \n",
       "169         False         False         False  \n",
       "\n",
       "[10 rows x 76 columns]"
      ]
     },
     "execution_count": 171,
     "metadata": {},
     "output_type": "execute_result"
    }
   ],
   "source": [
    "results_use[streams_threshold_tuning[0]].head(10)"
   ]
  },
  {
   "cell_type": "code",
   "execution_count": 172,
   "metadata": {},
   "outputs": [],
   "source": [
    "threshold_dictionary = {}\n",
    "\n",
    "for threshold in thresholds:\n",
    "    col_name = 'agg_vote'+str(round(threshold,2))\n",
    "\n",
    "    stream_name_ens = []\n",
    "    true_positives = []\n",
    "    false_positives = []\n",
    "    true_negatives = []\n",
    "    false_negatives = []\n",
    "\n",
    "    for stream_index in range(len(streams_threshold_tuning)):\n",
    "        y_test = results_use[streams_threshold_tuning[stream_index]].stream_mask\n",
    "        y_pred = results_use[streams_threshold_tuning[stream_index]][col_name]\n",
    "        #Truly in Cluster\n",
    "        X_correct = results_use[streams_threshold_tuning[stream_index]][y_test & y_pred] #predicted in cluster (true positives)\n",
    "        X_incorrect = results_use[streams_threshold_tuning[stream_index]][y_test & ~y_pred] #predicted not in cluster (false negative)\n",
    "        #Truly not in Cluster\n",
    "        X2_correct = results_use[streams_threshold_tuning[stream_index]][~y_test & ~y_pred] #predicted not in cluster (true negative)\n",
    "        X2_incorrect = results_use[streams_threshold_tuning[stream_index]][~y_test & y_pred] #predicted in cluster (false positive)\n",
    "\n",
    "        stream_name_ens.append(streams_threshold_tuning[stream_index])\n",
    "        true_positives.append(len(X_correct))\n",
    "        false_positives.append(len(X2_incorrect))\n",
    "        true_negatives.append(len(X2_correct))\n",
    "        false_negatives.append(len(X_incorrect))\n",
    "\n",
    "    final_result = pd.DataFrame()\n",
    "    final_result['stream']= stream_name_ens\n",
    "    final_result['true_positives']=true_positives\n",
    "    final_result['false_positives']=false_positives\n",
    "    final_result['true_negatives']=true_negatives\n",
    "    final_result['false_negatives']=false_negatives\n",
    "    final_result['precision'] = final_result.true_positives / (final_result.true_positives + final_result.false_positives)\n",
    "    final_result['recall'] = final_result.true_positives / (final_result.true_positives + final_result.false_negatives)\n",
    "    final_result['f1'] = 2*(final_result.precision * final_result.recall)/(final_result.precision + final_result.recall)\n",
    "    \n",
    "    threshold_dictionary[col_name] = final_result"
   ]
  },
  {
   "cell_type": "code",
   "execution_count": 176,
   "metadata": {},
   "outputs": [
    {
     "data": {
      "text/plain": [
       "0.16000000000000003"
      ]
     },
     "execution_count": 176,
     "metadata": {},
     "output_type": "execute_result"
    },
    {
     "data": {
      "image/png": "[encoded data removed]",
      "text/plain": [
       "<Figure size 432x288 with 1 Axes>"
      ]
     },
     "metadata": {
      "needs_background": "light"
     },
     "output_type": "display_data"
    }
   ],
   "source": [
    "precision_thresholds_average = []\n",
    "recall_thresholds_average = []\n",
    "f1_thresholds_average = []\n",
    "\n",
    "for threshold in thresholds:\n",
    "    col_name = 'agg_vote'+str(round(threshold,2))\n",
    "    precision_thresholds_average.append(threshold_dictionary[col_name].precision.mean())\n",
    "    recall_thresholds_average.append(threshold_dictionary[col_name].recall.mean())\n",
    "    f1_thresholds_average.append(threshold_dictionary[col_name].f1.mean())\n",
    "        \n",
    "plt.plot(thresholds,precision_thresholds_average, label = 'precision')\n",
    "plt.plot(thresholds,recall_thresholds_average, label = 'recall')\n",
    "plt.plot(thresholds,f1_thresholds_average, label = 'f1')\n",
    "plt.xlabel('threshold')\n",
    "plt.ylabel('precision, recall, F1')\n",
    "plt.legend()\n",
    "\n",
    "threshold_optimal = thresholds[np.argmax(f1_thresholds_average)]\n",
    "threshold_optimal"
   ]
  },
  {
   "cell_type": "code",
   "execution_count": 180,
   "metadata": {},
   "outputs": [
    {
     "name": "stdout",
     "output_type": "stream",
     "text": [
      "Number of true positives is 76\n",
      "Number of false positives is 2\n",
      "Number of true negatives is 30398\n",
      "Number of false negatives is 0\n"
     ]
    },
    {
     "data": {
      "image/png": "[encoded data removed]",
      "text/plain": [
       "<Figure size 432x288 with 1 Axes>"
      ]
     },
     "metadata": {
      "needs_background": "light"
     },
     "output_type": "display_data"
    }
   ],
   "source": [
    "#Plot performance for Stream in index from 0 to len(streams)\n",
    "stream_index = 4\n",
    "y_test = results_use[streams_predictions[stream_index]].stream_mask\n",
    "y_pred = results_use[streams_predictions[stream_index]].agg_vote\n",
    "#Truly in Cluster\n",
    "X_correct = results_use[streams_predictions[stream_index]][y_test & y_pred] #predicted in cluster (true positives)\n",
    "X_incorrect = results_use[streams_predictions[stream_index]][y_test & ~y_pred] #predicted not in cluster (false negative)\n",
    "#Truly not in Cluster\n",
    "X2_correct = results_use[streams_predictions[stream_index]][~y_test & ~y_pred] #predicted not in cluster (true negative)\n",
    "X2_incorrect = results_use[streams_predictions[stream_index]][~y_test & y_pred] #predicted in cluster (false positive)\n",
    "\n",
    "X_correct['label']=1\n",
    "X_incorrect['label']=1\n",
    "X2_correct['label']=0\n",
    "X2_incorrect['label']=0\n",
    "\n",
    "#visualize true and false positives\n",
    "plt.scatter(X_correct['ra'], X_correct['dec'])\n",
    "plt.scatter(X2_incorrect['ra'], X2_incorrect['dec'])\n",
    "\n",
    "\n",
    "#plt.scatter(X2_correct['pmra'], X2_correct['pmdec'])\n",
    "#plt.scatter(X_incorrect['pmra'], X_incorrect['pmdec'])\n",
    "\n",
    "#This takes true positives and false positives\n",
    "X_pred_pos = X_correct.append(X2_incorrect, ignore_index = False, sort = True)\n",
    "\n",
    "print('Number of true positives is ' + str(len(X_correct)))\n",
    "print('Number of false positives is ' + str(len(X2_incorrect)))\n",
    "print('Number of true negatives is ' + str(len(X2_correct)))\n",
    "print('Number of false negatives is ' + str(len(X_incorrect)))\n"
   ]
  },
  {
   "cell_type": "code",
   "execution_count": 181,
   "metadata": {},
   "outputs": [
    {
     "data": {
      "text/plain": [
       "<matplotlib.collections.PathCollection at 0x2b9755d8af28>"
      ]
     },
     "execution_count": 181,
     "metadata": {},
     "output_type": "execute_result"
    },
    {
     "data": {
      "image/png": "[encoded data removed]",
      "text/plain": [
       "<Figure size 432x288 with 1 Axes>"
      ]
     },
     "metadata": {
      "needs_background": "light"
     },
     "output_type": "display_data"
    }
   ],
   "source": [
    "#visualize true and false positives\n",
    "plt.scatter(X2_correct['ra'], X2_correct['dec'])\n",
    "plt.scatter(X_incorrect['ra'], X_incorrect['dec'])"
   ]
  },
  {
   "cell_type": "markdown",
   "metadata": {},
   "source": [
    "#### Performance"
   ]
  },
  {
   "cell_type": "code",
   "execution_count": 174,
   "metadata": {},
   "outputs": [],
   "source": [
    "threshold = threshold_optimal\n",
    "for stream in streams_predictions:\n",
    "    sum_of_votes = results_use[stream].drop(['ra','dec','pmra','pmdec','stream_mask'],axis=1).sum(axis=1)\n",
    "    results_use[stream]['avg_of_votes'] = sum_of_votes / number_of_votes\n",
    "    results_use[stream]['agg_vote'] = np.where(results_use[stream].avg_of_votes > threshold, True, False)\n",
    "\n",
    "stream_name_ens = []\n",
    "true_positives = []\n",
    "false_positives = []\n",
    "true_negatives = []\n",
    "false_negatives = []\n",
    "\n",
    "for stream_index in range(len(streams_predictions)):\n",
    "    y_test = results_use[streams_predictions[stream_index]].stream_mask\n",
    "    y_pred = results_use[streams_predictions[stream_index]].agg_vote\n",
    "    #Truly in Cluster\n",
    "    X_correct = results_use[streams_predictions[stream_index]][y_test & y_pred] #predicted in cluster (true positives)\n",
    "    X_incorrect = results_use[streams_predictions[stream_index]][y_test & ~y_pred] #predicted not in cluster (false negative)\n",
    "    #Truly not in Cluster\n",
    "    X2_correct = results_use[streams_predictions[stream_index]][~y_test & ~y_pred] #predicted not in cluster (true negative)\n",
    "    X2_incorrect = results_use[streams_predictions[stream_index]][~y_test & y_pred] #predicted in cluster (false positive)\n",
    "    \n",
    "    stream_name_ens.append(streams_predictions[stream_index])\n",
    "    true_positives.append(len(X_correct))\n",
    "    false_positives.append(len(X2_incorrect))\n",
    "    true_negatives.append(len(X2_correct))\n",
    "    false_negatives.append(len(X_incorrect))\n",
    "    \n",
    "final_result = pd.DataFrame()\n",
    "final_result['stream']= stream_name_ens\n",
    "final_result['true_positives']=true_positives\n",
    "final_result['false_positives']=false_positives\n",
    "final_result['true_negatives']=true_negatives\n",
    "final_result['false_negatives']=false_negatives\n",
    "final_result['precision'] = final_result.true_positives / (final_result.true_positives + final_result.false_positives)\n",
    "final_result['recall'] = final_result.true_positives / (final_result.true_positives + final_result.false_negatives)\n",
    "final_result['f1'] = 2*(final_result.precision * final_result.recall)/(final_result.precision + final_result.recall)"
   ]
  },
  {
   "cell_type": "code",
   "execution_count": 175,
   "metadata": {},
   "outputs": [
    {
     "data": {
      "text/html": [
       "<div>\n",
       "<style scoped>\n",
       "    .dataframe tbody tr th:only-of-type {\n",
       "        vertical-align: middle;\n",
       "    }\n",
       "\n",
       "    .dataframe tbody tr th {\n",
       "        vertical-align: top;\n",
       "    }\n",
       "\n",
       "    .dataframe thead th {\n",
       "        text-align: right;\n",
       "    }\n",
       "</style>\n",
       "<table border=\"1\" class=\"dataframe\">\n",
       "  <thead>\n",
       "    <tr style=\"text-align: right;\">\n",
       "      <th></th>\n",
       "      <th>stream</th>\n",
       "      <th>true_positives</th>\n",
       "      <th>false_positives</th>\n",
       "      <th>true_negatives</th>\n",
       "      <th>false_negatives</th>\n",
       "      <th>precision</th>\n",
       "      <th>recall</th>\n",
       "      <th>f1</th>\n",
       "    </tr>\n",
       "  </thead>\n",
       "  <tbody>\n",
       "    <tr>\n",
       "      <td>0</td>\n",
       "      <td>gaia_mock_streams/stream-3775.fits.gz</td>\n",
       "      <td>225</td>\n",
       "      <td>1</td>\n",
       "      <td>89919</td>\n",
       "      <td>0</td>\n",
       "      <td>0.995575</td>\n",
       "      <td>1.000000</td>\n",
       "      <td>0.997783</td>\n",
       "    </tr>\n",
       "    <tr>\n",
       "      <td>1</td>\n",
       "      <td>gaia_mock_streams/stream-1388.fits.gz</td>\n",
       "      <td>0</td>\n",
       "      <td>0</td>\n",
       "      <td>3200</td>\n",
       "      <td>8</td>\n",
       "      <td>NaN</td>\n",
       "      <td>0.000000</td>\n",
       "      <td>NaN</td>\n",
       "    </tr>\n",
       "    <tr>\n",
       "      <td>2</td>\n",
       "      <td>gaia_mock_streams/stream-5797.fits.gz</td>\n",
       "      <td>164</td>\n",
       "      <td>2</td>\n",
       "      <td>65278</td>\n",
       "      <td>0</td>\n",
       "      <td>0.987952</td>\n",
       "      <td>1.000000</td>\n",
       "      <td>0.993939</td>\n",
       "    </tr>\n",
       "    <tr>\n",
       "      <td>3</td>\n",
       "      <td>gaia_mock_streams/stream-1324.fits.gz</td>\n",
       "      <td>76</td>\n",
       "      <td>0</td>\n",
       "      <td>30080</td>\n",
       "      <td>0</td>\n",
       "      <td>1.000000</td>\n",
       "      <td>1.000000</td>\n",
       "      <td>1.000000</td>\n",
       "    </tr>\n",
       "    <tr>\n",
       "      <td>4</td>\n",
       "      <td>gaia_mock_streams/stream-9420.fits.gz</td>\n",
       "      <td>76</td>\n",
       "      <td>2</td>\n",
       "      <td>30398</td>\n",
       "      <td>0</td>\n",
       "      <td>0.974359</td>\n",
       "      <td>1.000000</td>\n",
       "      <td>0.987013</td>\n",
       "    </tr>\n",
       "    <tr>\n",
       "      <td>5</td>\n",
       "      <td>gaia_mock_streams/stream-6982.fits.gz</td>\n",
       "      <td>0</td>\n",
       "      <td>0</td>\n",
       "      <td>2240</td>\n",
       "      <td>6</td>\n",
       "      <td>NaN</td>\n",
       "      <td>0.000000</td>\n",
       "      <td>NaN</td>\n",
       "    </tr>\n",
       "    <tr>\n",
       "      <td>6</td>\n",
       "      <td>gaia_mock_streams/stream-1185.fits.gz</td>\n",
       "      <td>0</td>\n",
       "      <td>0</td>\n",
       "      <td>4480</td>\n",
       "      <td>12</td>\n",
       "      <td>NaN</td>\n",
       "      <td>0.000000</td>\n",
       "      <td>NaN</td>\n",
       "    </tr>\n",
       "    <tr>\n",
       "      <td>7</td>\n",
       "      <td>gaia_mock_streams/stream-3696.fits.gz</td>\n",
       "      <td>60</td>\n",
       "      <td>0</td>\n",
       "      <td>23680</td>\n",
       "      <td>0</td>\n",
       "      <td>1.000000</td>\n",
       "      <td>1.000000</td>\n",
       "      <td>1.000000</td>\n",
       "    </tr>\n",
       "    <tr>\n",
       "      <td>8</td>\n",
       "      <td>gaia_mock_streams/stream-9833.fits.gz</td>\n",
       "      <td>22</td>\n",
       "      <td>0</td>\n",
       "      <td>10240</td>\n",
       "      <td>4</td>\n",
       "      <td>1.000000</td>\n",
       "      <td>0.846154</td>\n",
       "      <td>0.916667</td>\n",
       "    </tr>\n",
       "  </tbody>\n",
       "</table>\n",
       "</div>"
      ],
      "text/plain": [
       "                                  stream  true_positives  false_positives  \\\n",
       "0  gaia_mock_streams/stream-3775.fits.gz             225                1   \n",
       "1  gaia_mock_streams/stream-1388.fits.gz               0                0   \n",
       "2  gaia_mock_streams/stream-5797.fits.gz             164                2   \n",
       "3  gaia_mock_streams/stream-1324.fits.gz              76                0   \n",
       "4  gaia_mock_streams/stream-9420.fits.gz              76                2   \n",
       "5  gaia_mock_streams/stream-6982.fits.gz               0                0   \n",
       "6  gaia_mock_streams/stream-1185.fits.gz               0                0   \n",
       "7  gaia_mock_streams/stream-3696.fits.gz              60                0   \n",
       "8  gaia_mock_streams/stream-9833.fits.gz              22                0   \n",
       "\n",
       "   true_negatives  false_negatives  precision    recall        f1  \n",
       "0           89919                0   0.995575  1.000000  0.997783  \n",
       "1            3200                8        NaN  0.000000       NaN  \n",
       "2           65278                0   0.987952  1.000000  0.993939  \n",
       "3           30080                0   1.000000  1.000000  1.000000  \n",
       "4           30398                0   0.974359  1.000000  0.987013  \n",
       "5            2240                6        NaN  0.000000       NaN  \n",
       "6            4480               12        NaN  0.000000       NaN  \n",
       "7           23680                0   1.000000  1.000000  1.000000  \n",
       "8           10240                4   1.000000  0.846154  0.916667  "
      ]
     },
     "execution_count": 175,
     "metadata": {},
     "output_type": "execute_result"
    }
   ],
   "source": [
    "final_result.to_csv('ensemble3.csv')\n",
    "final_result"
   ]
  },
  {
   "cell_type": "code",
   "execution_count": null,
   "metadata": {},
   "outputs": [],
   "source": []
  },
  {
   "cell_type": "code",
   "execution_count": null,
   "metadata": {},
   "outputs": [],
   "source": []
  },
  {
   "cell_type": "code",
   "execution_count": null,
   "metadata": {},
   "outputs": [],
   "source": []
  },
  {
   "cell_type": "code",
   "execution_count": null,
   "metadata": {},
   "outputs": [],
   "source": []
  },
  {
   "cell_type": "code",
   "execution_count": 107,
   "metadata": {},
   "outputs": [],
   "source": [
    "X = X_pred_pos[['ra', 'dec', 'pmra', 'pmdec']]\n",
    "y = X_pred_pos.label\n",
    "X_train, X_test, y_train, y_test = train_test_split(X, y, stratify = y, test_size=0.33, random_state=42)\n",
    "\n",
    "#training set to be used for all scenarios\n",
    "X_train_all = X_train\n",
    "y_train_all = y_train\n",
    "\n",
    "\n",
    "precision_log, recall_log, accuracy_log, auc_log, y_pred_log, y_true_log = log_reg_model(X_train, X_test, y_train, y_test)\n",
    "y_pred_log =list(y_pred_log)\n",
    "y_test_l = list(y_test)\n",
    "\n",
    "tp = 0\n",
    "fp = 0\n",
    "tn = 0\n",
    "fn = 0\n",
    "for i in range(len(X_test)):\n",
    "    if y_pred[i] == 1 and y_test_l[i] == 1:\n",
    "        tp += 1\n",
    "    elif y_pred[i] == 1 and y_test_l[i] ==0:\n",
    "        fp += 1\n",
    "    elif y_pred[i] == 0 and y_test_l[i] == 0:\n",
    "        tn += 1\n",
    "    else:\n",
    "        fn += 1\n",
    "\n",
    "precision = tp / (tp + fp)\n",
    "recall = tp / (tp + fn)\n",
    "tp, fp, tn, fn, precision, recall\n",
    "all we have here are true positives and false negatives\n",
    "    "
   ]
  },
  {
   "cell_type": "code",
   "execution_count": 104,
   "metadata": {},
   "outputs": [
    {
     "data": {
      "text/plain": [
       "(57, 53, 57, 37)"
      ]
     },
     "execution_count": 104,
     "metadata": {},
     "output_type": "execute_result"
    }
   ],
   "source": [
    "len(y_pred_log), sum(y_pred_log), len(y_test), sum(y_test)"
   ]
  },
  {
   "cell_type": "code",
   "execution_count": 106,
   "metadata": {},
   "outputs": [
    {
     "data": {
      "text/plain": [
       "(0.40540540540540543, 0.7894736842105263)"
      ]
     },
     "execution_count": 106,
     "metadata": {},
     "output_type": "execute_result"
    }
   ],
   "source": [
    "15/37, 15/19"
   ]
  },
  {
   "cell_type": "code",
   "execution_count": 118,
   "metadata": {},
   "outputs": [
    {
     "name": "stdout",
     "output_type": "stream",
     "text": [
      "19 16 34791 68\n",
      "0 0 34807 87\n",
      "-----end of stream--------\n",
      "27 39 63505 132\n",
      "0 0 63544 159\n",
      "-----end of stream--------\n",
      "129 79 105118 134\n",
      "125 70 105127 138\n",
      "-----end of stream--------\n",
      "113 46 60001 37\n",
      "0 0 60047 150\n",
      "-----end of stream--------\n",
      "33 19 39955 67\n",
      "0 0 39974 100\n",
      "-----end of stream--------\n",
      "178 51 85160 35\n",
      "1 2 85209 212\n",
      "-----end of stream--------\n",
      "133 59 100314 118\n",
      "122 51 100322 129\n",
      "-----end of stream--------\n"
     ]
    }
   ],
   "source": [
    "k_optimal = 7\n",
    "multiple = 400\n",
    "training_ratio = 0.2\n",
    "\n",
    "for stream_name in viable_new[1:]:\n",
    "    table = Table.read(stream_name, format='fits')\n",
    "    stream = table.to_pandas()\n",
    "    \n",
    "    idx = cuts.index[cuts.stream_file==stream_name][0]\n",
    "\n",
    "    ra_min = cuts.loc[idx].ra_min\n",
    "    ra_max = cuts.loc[idx].ra_max\n",
    "    dec_min = cuts.loc[idx].dec_min\n",
    "    dec_max = cuts.loc[idx].dec_max\n",
    "\n",
    "    #restrict stream to relevant portion\n",
    "    stream = stream.query('ra > ' + str(ra_min) + ' & ra < ' + str(ra_max) + ' & dec > ' + str(dec_min) + ' & dec < ' + str(dec_max))\n",
    "\n",
    "    #label our data as \"part of the stream\"\n",
    "    stream['stream_mask'] = True\n",
    "\n",
    "    #split data into training and training data set\n",
    "    msk = np.random.rand(len(stream)) < training_ratio\n",
    "    stream_train = stream[msk]\n",
    "    stream_test = stream[~msk]\n",
    "\n",
    "\n",
    "    #obtain noise points such that:\n",
    "    #- the ratio of stream to noise points in the training set is 1:multiple\n",
    "    #- the ratio of stream to noise points in the test set is close to the 'real' ratio\n",
    "    name = \"noise_points/\" + stream_name[18:-8] + \"_mul_400_total_noise.csv\"\n",
    "    noise_points = pd.read_csv(name)\n",
    "    train_points = len(stream_train) * multiple\n",
    "\n",
    "    msk2 = np.random.rand(len(noise_points)) < (train_points / len(noise_points))\n",
    "    noise_train = noise_points[msk2]\n",
    "    noise_test = noise_points[~msk2]\n",
    "    \n",
    "    #label our data as \"not part of the stream\"\n",
    "    noise_points['stream_mask'] = False\n",
    "\n",
    "    #combine my stream and noise to obtain complete training and test data set\n",
    "    training_data = stream_train.append(noise_train, ignore_index = False, sort = True)\n",
    "    training_data = training_data[['ra', 'dec', 'pmra', 'pmdec', 'stream_mask']]\n",
    "\n",
    "    testing_data = stream_test.append(noise_test, ignore_index = False, sort = True)\n",
    "    testing_data = testing_data[['ra', 'dec', 'pmra', 'pmdec', 'stream_mask']]\n",
    "\n",
    "    #differentiate training and test data's X and y variables\n",
    "    X_train = training_data[['ra', 'dec', 'pmra', 'pmdec']]\n",
    "    y_train = training_data.stream_mask\n",
    "\n",
    "    X_test = testing_data[['ra', 'dec', 'pmra', 'pmdec']]\n",
    "    y_test = testing_data.stream_mask\n",
    "\n",
    "    #scale the features using standard scaler (scaling not required for logistic regression)\n",
    "    scaler = StandardScaler()\n",
    "    X_train_scaled = scaler.fit(X_train).transform(X_train)\n",
    "    X_test_scaled = scaler.fit(X_test).transform(X_test)\n",
    "\n",
    "    precision, recall, accuracy, auc, y_pred, y_true = knn_model(X_train_scaled, X_test_scaled, y_train, y_test, k_optimal)\n",
    "    X_correct = X_test[y_test & y_pred] #predicted in cluster (true positives)\n",
    "    X_incorrect = X_test[y_test & ~y_pred] #predicted not in cluster (false negative)\n",
    "    #Truly not in Cluster\n",
    "    X2_correct = X_test[~y_test & ~y_pred] #predicted not in cluster (true negative)\n",
    "    X2_incorrect = X_test[~y_test & y_pred] #predicted in cluster (false positive)\n",
    "\n",
    "    X_correct['label']=1\n",
    "    X_incorrect['label']=1\n",
    "    X2_correct['label']=0\n",
    "    X2_incorrect['label']=0\n",
    "    \n",
    "    #This takes true positives and false positives\n",
    "    X_pred_pos = X_correct.append(X2_incorrect, ignore_index = False, sort = True)\n",
    "    #print('Number of true positives is ' + str(len(X_correct)))\n",
    "    #print('Number of false positives is ' + str(len(X2_incorrect)))\n",
    "    #print('Number of true negatives is ' + str(len(X2_correct)))\n",
    "    #print('Number of false negatives is ' + str(len(X_incorrect)))\n",
    "\n",
    "    true_positives = len(X_correct)\n",
    "    false_positives = len(X2_incorrect)\n",
    "    true_negatives = len(X2_correct)\n",
    "    false_negatives = len(X_incorrect)\n",
    "    \n",
    "    print(true_positives, false_positives, true_negatives, false_negatives)\n",
    "    \n",
    "    X_test = X_pred_pos[['ra', 'dec', 'pmra', 'pmdec']]\n",
    "    y_test = X_pred_pos.label\n",
    "    \n",
    "    #do the logistic regression modeling\n",
    "    log_reg = LogisticRegression(random_state=0, solver='lbfgs', max_iter=1000, multi_class='warn').fit(X_train_all, y_train_all)\n",
    "    y_pred = log_reg.predict(X_test)\n",
    "    y_true = np.array(y_test)\n",
    "    y_pred_log =list(y_pred)\n",
    "    y_test_l = list(y_test)\n",
    "    \n",
    "    #print(len(X_pred_pos))\n",
    "    #print(sum(y_pred))\n",
    "    #print(sum(y_test_l))\n",
    "    \n",
    "    tp = 0\n",
    "    fp = 0\n",
    "    tn = 0\n",
    "    fn = 0\n",
    "    for i in range(len(X_test)):\n",
    "        if y_pred[i] == 1 and y_test_l[i] == 1:\n",
    "            tp += 1\n",
    "        elif y_pred[i] == 1 and y_test_l[i] ==0:\n",
    "            fp += 1\n",
    "        elif y_pred[i] == 0 and y_test_l[i] == 0:\n",
    "            tn += 1\n",
    "        else:\n",
    "            fn += 1\n",
    "            \n",
    "    true_positives = tp\n",
    "    false_positives = fp\n",
    "    true_negatives += tn\n",
    "    false_negatives += fn\n",
    "    \n",
    "    print(true_positives, false_positives, true_negatives, false_negatives)\n",
    "    print('-----end of stream--------')\n"
   ]
  },
  {
   "cell_type": "code",
   "execution_count": null,
   "metadata": {},
   "outputs": [],
   "source": []
  },
  {
   "cell_type": "code",
   "execution_count": null,
   "metadata": {},
   "outputs": [],
   "source": []
  },
  {
   "cell_type": "code",
   "execution_count": null,
   "metadata": {},
   "outputs": [],
   "source": []
  },
  {
   "cell_type": "code",
   "execution_count": null,
   "metadata": {},
   "outputs": [],
   "source": []
  },
  {
   "cell_type": "code",
   "execution_count": null,
   "metadata": {},
   "outputs": [],
   "source": []
  },
  {
   "cell_type": "code",
   "execution_count": null,
   "metadata": {},
   "outputs": [],
   "source": []
  },
  {
   "cell_type": "code",
   "execution_count": null,
   "metadata": {},
   "outputs": [],
   "source": []
  },
  {
   "cell_type": "code",
   "execution_count": null,
   "metadata": {},
   "outputs": [],
   "source": []
  },
  {
   "cell_type": "code",
   "execution_count": null,
   "metadata": {},
   "outputs": [],
   "source": []
  },
  {
   "cell_type": "code",
   "execution_count": null,
   "metadata": {},
   "outputs": [],
   "source": []
  },
  {
   "cell_type": "code",
   "execution_count": null,
   "metadata": {},
   "outputs": [],
   "source": []
  },
  {
   "cell_type": "code",
   "execution_count": null,
   "metadata": {},
   "outputs": [],
   "source": []
  },
  {
   "cell_type": "code",
   "execution_count": null,
   "metadata": {},
   "outputs": [],
   "source": []
  },
  {
   "cell_type": "code",
   "execution_count": null,
   "metadata": {},
   "outputs": [],
   "source": []
  },
  {
   "cell_type": "code",
   "execution_count": null,
   "metadata": {},
   "outputs": [],
   "source": []
  },
  {
   "cell_type": "code",
   "execution_count": 14,
   "metadata": {},
   "outputs": [
    {
     "name": "stderr",
     "output_type": "stream",
     "text": [
      "  0%|          | 0/10 [00:00<?, ?it/s]"
     ]
    },
    {
     "name": "stdout",
     "output_type": "stream",
     "text": [
      "calculation 25 of 1600 done...\n",
      "calculation 50 of 1600 done...\n",
      "calculation 75 of 1600 done...\n",
      "calculation 100 of 1600 done...\n",
      "calculation 125 of 1600 done...\n",
      "calculation 150 of 1600 done...\n"
     ]
    },
    {
     "name": "stderr",
     "output_type": "stream",
     "text": [
      " 10%|█         | 1/10 [20:18<3:02:48, 1218.74s/it]"
     ]
    },
    {
     "name": "stdout",
     "output_type": "stream",
     "text": [
      "calculation 175 of 1600 done...\n",
      "calculation 200 of 1600 done...\n",
      "calculation 225 of 1600 done...\n",
      "calculation 250 of 1600 done...\n",
      "calculation 275 of 1600 done...\n",
      "calculation 300 of 1600 done...\n"
     ]
    },
    {
     "name": "stderr",
     "output_type": "stream",
     "text": [
      " 20%|██        | 2/10 [27:20<2:10:36, 979.51s/it] "
     ]
    },
    {
     "name": "stdout",
     "output_type": "stream",
     "text": [
      "calculation 325 of 1600 done...\n",
      "calculation 350 of 1600 done...\n",
      "calculation 375 of 1600 done...\n",
      "calculation 400 of 1600 done...\n",
      "calculation 425 of 1600 done...\n",
      "calculation 450 of 1600 done...\n",
      "calculation 475 of 1600 done...\n"
     ]
    },
    {
     "name": "stderr",
     "output_type": "stream",
     "text": [
      " 30%|███       | 3/10 [39:27<1:45:27, 903.90s/it]"
     ]
    },
    {
     "name": "stdout",
     "output_type": "stream",
     "text": [
      "calculation 500 of 1600 done...\n"
     ]
    },
    {
     "ename": "ValueError",
     "evalue": "Found array with 0 sample(s) (shape=(0, 4)) while a minimum of 1 is required by StandardScaler.",
     "output_type": "error",
     "traceback": [
      "\u001b[0;31m---------------------------------------------------------------------------\u001b[0m",
      "\u001b[0;31mValueError\u001b[0m                                Traceback (most recent call last)",
      "\u001b[0;32m<ipython-input-14-4faba41aa1dc>\u001b[0m in \u001b[0;36m<module>\u001b[0;34m\u001b[0m\n\u001b[1;32m     17\u001b[0m         \u001b[0;32mfor\u001b[0m \u001b[0mmultiple\u001b[0m \u001b[0;32min\u001b[0m \u001b[0mrange\u001b[0m\u001b[0;34m(\u001b[0m\u001b[0;36m1\u001b[0m\u001b[0;34m,\u001b[0m\u001b[0;36m400\u001b[0m\u001b[0;34m,\u001b[0m\u001b[0;36m25\u001b[0m\u001b[0;34m)\u001b[0m\u001b[0;34m:\u001b[0m\u001b[0;34m\u001b[0m\u001b[0m\n\u001b[1;32m     18\u001b[0m             \u001b[0;32mfor\u001b[0m \u001b[0mt_rat\u001b[0m \u001b[0;32min\u001b[0m \u001b[0mrange\u001b[0m\u001b[0;34m(\u001b[0m\u001b[0;36m1\u001b[0m\u001b[0;34m,\u001b[0m\u001b[0;36m3\u001b[0m\u001b[0;34m)\u001b[0m\u001b[0;34m:\u001b[0m\u001b[0;34m\u001b[0m\u001b[0m\n\u001b[0;32m---> 19\u001b[0;31m                 \u001b[0mprecision\u001b[0m\u001b[0;34m,\u001b[0m \u001b[0mrecall\u001b[0m\u001b[0;34m,\u001b[0m \u001b[0maccuracy\u001b[0m\u001b[0;34m,\u001b[0m \u001b[0mauc\u001b[0m\u001b[0;34m,\u001b[0m \u001b[0my_pred\u001b[0m\u001b[0;34m,\u001b[0m \u001b[0my_true\u001b[0m \u001b[0;34m=\u001b[0m \u001b[0mknn_simulated_stream\u001b[0m\u001b[0;34m(\u001b[0m\u001b[0mname\u001b[0m\u001b[0;34m,\u001b[0m \u001b[0mk\u001b[0m\u001b[0;34m,\u001b[0m \u001b[0mmultiple\u001b[0m\u001b[0;34m,\u001b[0m \u001b[0mt_rat\u001b[0m \u001b[0;34m*\u001b[0m\u001b[0;36m.1\u001b[0m\u001b[0;34m)\u001b[0m\u001b[0;34m\u001b[0m\u001b[0m\n\u001b[0m\u001b[1;32m     20\u001b[0m \u001b[0;34m\u001b[0m\u001b[0m\n\u001b[1;32m     21\u001b[0m                 \u001b[0mnames\u001b[0m\u001b[0;34m.\u001b[0m\u001b[0mappend\u001b[0m\u001b[0;34m(\u001b[0m\u001b[0mname\u001b[0m\u001b[0;34m)\u001b[0m\u001b[0;34m\u001b[0m\u001b[0m\n",
      "\u001b[0;32m<ipython-input-13-6f58fa9cf410>\u001b[0m in \u001b[0;36mknn_simulated_stream\u001b[0;34m(stream_name, k_optimal, multiple, train_ratio)\u001b[0m\n\u001b[1;32m     53\u001b[0m     \u001b[0;31m#scale the features using standard scaler (scaling not required for logistic regression)\u001b[0m\u001b[0;34m\u001b[0m\u001b[0;34m\u001b[0m\u001b[0m\n\u001b[1;32m     54\u001b[0m     \u001b[0mscaler\u001b[0m \u001b[0;34m=\u001b[0m \u001b[0mStandardScaler\u001b[0m\u001b[0;34m(\u001b[0m\u001b[0;34m)\u001b[0m\u001b[0;34m\u001b[0m\u001b[0m\n\u001b[0;32m---> 55\u001b[0;31m     \u001b[0mX_train_scaled\u001b[0m \u001b[0;34m=\u001b[0m \u001b[0mscaler\u001b[0m\u001b[0;34m.\u001b[0m\u001b[0mfit\u001b[0m\u001b[0;34m(\u001b[0m\u001b[0mX_train\u001b[0m\u001b[0;34m)\u001b[0m\u001b[0;34m.\u001b[0m\u001b[0mtransform\u001b[0m\u001b[0;34m(\u001b[0m\u001b[0mX_train\u001b[0m\u001b[0;34m)\u001b[0m\u001b[0;34m\u001b[0m\u001b[0m\n\u001b[0m\u001b[1;32m     56\u001b[0m     \u001b[0mX_test_scaled\u001b[0m \u001b[0;34m=\u001b[0m \u001b[0mscaler\u001b[0m\u001b[0;34m.\u001b[0m\u001b[0mfit\u001b[0m\u001b[0;34m(\u001b[0m\u001b[0mX_test\u001b[0m\u001b[0;34m)\u001b[0m\u001b[0;34m.\u001b[0m\u001b[0mtransform\u001b[0m\u001b[0;34m(\u001b[0m\u001b[0mX_test\u001b[0m\u001b[0;34m)\u001b[0m\u001b[0;34m\u001b[0m\u001b[0m\n\u001b[1;32m     57\u001b[0m \u001b[0;34m\u001b[0m\u001b[0m\n",
      "\u001b[0;32m/scratch/ao1584/myjupyter/ve2/lib/python3.6/site-packages/sklearn/preprocessing/data.py\u001b[0m in \u001b[0;36mfit\u001b[0;34m(self, X, y)\u001b[0m\n\u001b[1;32m    637\u001b[0m         \u001b[0;31m# Reset internal state before fitting\u001b[0m\u001b[0;34m\u001b[0m\u001b[0;34m\u001b[0m\u001b[0m\n\u001b[1;32m    638\u001b[0m         \u001b[0mself\u001b[0m\u001b[0;34m.\u001b[0m\u001b[0m_reset\u001b[0m\u001b[0;34m(\u001b[0m\u001b[0;34m)\u001b[0m\u001b[0;34m\u001b[0m\u001b[0m\n\u001b[0;32m--> 639\u001b[0;31m         \u001b[0;32mreturn\u001b[0m \u001b[0mself\u001b[0m\u001b[0;34m.\u001b[0m\u001b[0mpartial_fit\u001b[0m\u001b[0;34m(\u001b[0m\u001b[0mX\u001b[0m\u001b[0;34m,\u001b[0m \u001b[0my\u001b[0m\u001b[0;34m)\u001b[0m\u001b[0;34m\u001b[0m\u001b[0m\n\u001b[0m\u001b[1;32m    640\u001b[0m \u001b[0;34m\u001b[0m\u001b[0m\n\u001b[1;32m    641\u001b[0m     \u001b[0;32mdef\u001b[0m \u001b[0mpartial_fit\u001b[0m\u001b[0;34m(\u001b[0m\u001b[0mself\u001b[0m\u001b[0;34m,\u001b[0m \u001b[0mX\u001b[0m\u001b[0;34m,\u001b[0m \u001b[0my\u001b[0m\u001b[0;34m=\u001b[0m\u001b[0;32mNone\u001b[0m\u001b[0;34m)\u001b[0m\u001b[0;34m:\u001b[0m\u001b[0;34m\u001b[0m\u001b[0m\n",
      "\u001b[0;32m/scratch/ao1584/myjupyter/ve2/lib/python3.6/site-packages/sklearn/preprocessing/data.py\u001b[0m in \u001b[0;36mpartial_fit\u001b[0;34m(self, X, y)\u001b[0m\n\u001b[1;32m    661\u001b[0m         X = check_array(X, accept_sparse=('csr', 'csc'), copy=self.copy,\n\u001b[1;32m    662\u001b[0m                         \u001b[0mestimator\u001b[0m\u001b[0;34m=\u001b[0m\u001b[0mself\u001b[0m\u001b[0;34m,\u001b[0m \u001b[0mdtype\u001b[0m\u001b[0;34m=\u001b[0m\u001b[0mFLOAT_DTYPES\u001b[0m\u001b[0;34m,\u001b[0m\u001b[0;34m\u001b[0m\u001b[0m\n\u001b[0;32m--> 663\u001b[0;31m                         force_all_finite='allow-nan')\n\u001b[0m\u001b[1;32m    664\u001b[0m \u001b[0;34m\u001b[0m\u001b[0m\n\u001b[1;32m    665\u001b[0m         \u001b[0;31m# Even in the case of `with_mean=False`, we update the mean anyway\u001b[0m\u001b[0;34m\u001b[0m\u001b[0;34m\u001b[0m\u001b[0m\n",
      "\u001b[0;32m/scratch/ao1584/myjupyter/ve2/lib/python3.6/site-packages/sklearn/utils/validation.py\u001b[0m in \u001b[0;36mcheck_array\u001b[0;34m(array, accept_sparse, accept_large_sparse, dtype, order, copy, force_all_finite, ensure_2d, allow_nd, ensure_min_samples, ensure_min_features, warn_on_dtype, estimator)\u001b[0m\n\u001b[1;32m    548\u001b[0m                              \u001b[0;34m\" minimum of %d is required%s.\"\u001b[0m\u001b[0;34m\u001b[0m\u001b[0m\n\u001b[1;32m    549\u001b[0m                              % (n_samples, array.shape, ensure_min_samples,\n\u001b[0;32m--> 550\u001b[0;31m                                 context))\n\u001b[0m\u001b[1;32m    551\u001b[0m \u001b[0;34m\u001b[0m\u001b[0m\n\u001b[1;32m    552\u001b[0m     \u001b[0;32mif\u001b[0m \u001b[0mensure_min_features\u001b[0m \u001b[0;34m>\u001b[0m \u001b[0;36m0\u001b[0m \u001b[0;32mand\u001b[0m \u001b[0marray\u001b[0m\u001b[0;34m.\u001b[0m\u001b[0mndim\u001b[0m \u001b[0;34m==\u001b[0m \u001b[0;36m2\u001b[0m\u001b[0;34m:\u001b[0m\u001b[0;34m\u001b[0m\u001b[0m\n",
      "\u001b[0;31mValueError\u001b[0m: Found array with 0 sample(s) (shape=(0, 4)) while a minimum of 1 is required by StandardScaler."
     ]
    }
   ],
   "source": [
    "precisions = []\n",
    "recalls = []\n",
    "accuracies = []\n",
    "aucs = []\n",
    "\n",
    "names = []\n",
    "k_vals = []\n",
    "multiples = []\n",
    "training_ratios = []\n",
    "\n",
    "num_iters = len(viable_streams)*5*16*2\n",
    "count = 0\n",
    "\n",
    "#hyperparameter tuning / collation of results\n",
    "for name in tqdm(viable_streams):\n",
    "    for k in range(1,6):\n",
    "        for multiple in range(1,400,25):\n",
    "            for t_rat in range(1,3):\n",
    "                precision, recall, accuracy, auc, y_pred, y_true = knn_simulated_stream(name, k, multiple, t_rat *.1)\n",
    "                \n",
    "                names.append(name)\n",
    "                k_vals.append(k)\n",
    "                multiples.append(multiple)\n",
    "                training_ratios.append(0.1 * t_rat)\n",
    "                \n",
    "                precisions.append(precision)\n",
    "                recalls.append(recall)\n",
    "                accuracies.append(accuracy)\n",
    "                aucs.append(auc)\n",
    "                \n",
    "                count += 1\n",
    "                if count % 25 == 0:\n",
    "                    print('calculation ' + str(count) + ' of ' + str(num_iters) + ' done...')\n",
    "                "
   ]
  },
  {
   "cell_type": "code",
   "execution_count": 15,
   "metadata": {},
   "outputs": [],
   "source": [
    "df_results= pd.DataFrame()\n",
    "\n",
    "df_results['stream_name'] = names\n",
    "df_results['k'] = k_vals\n",
    "df_results['multiple'] = multiples\n",
    "df_results['training_ratio'] = training_ratios\n",
    "\n",
    "df_results['precision']=precisions\n",
    "df_results['recall'] = recalls\n",
    "df_results['accuracy'] = accuracies\n",
    "df_results['auc'] = aucs\n",
    "\n",
    "df_results.to_csv('fixed_test_ratio_results.csv')"
   ]
  },
  {
   "cell_type": "code",
   "execution_count": 17,
   "metadata": {},
   "outputs": [
    {
     "data": {
      "image/png": "[encoded data removed]",
      "text/plain": [
       "<Figure size 432x288 with 1 Axes>"
      ]
     },
     "metadata": {
      "needs_background": "light"
     },
     "output_type": "display_data"
    }
   ],
   "source": [
    "for i in range(3):\n",
    "    df_test = df_results[df_results.stream_name == viable_streams[i]]\n",
    "    plt.scatter(df_test.precision, df_test.recall)"
   ]
  },
  {
   "cell_type": "code",
   "execution_count": 89,
   "metadata": {},
   "outputs": [
    {
     "data": {
      "text/plain": [
       "'gaia_mock_streams/stream-9528.fits.gz'"
      ]
     },
     "execution_count": 89,
     "metadata": {},
     "output_type": "execute_result"
    }
   ],
   "source": [
    "viable_streams[1]"
   ]
  },
  {
   "cell_type": "code",
   "execution_count": 87,
   "metadata": {},
   "outputs": [
    {
     "data": {
      "text/html": [
       "<div>\n",
       "<style scoped>\n",
       "    .dataframe tbody tr th:only-of-type {\n",
       "        vertical-align: middle;\n",
       "    }\n",
       "\n",
       "    .dataframe tbody tr th {\n",
       "        vertical-align: top;\n",
       "    }\n",
       "\n",
       "    .dataframe thead th {\n",
       "        text-align: right;\n",
       "    }\n",
       "</style>\n",
       "<table border=\"1\" class=\"dataframe\">\n",
       "  <thead>\n",
       "    <tr style=\"text-align: right;\">\n",
       "      <th></th>\n",
       "      <th>stream_name</th>\n",
       "      <th>k</th>\n",
       "      <th>multiple</th>\n",
       "      <th>training_ratio</th>\n",
       "      <th>precision</th>\n",
       "      <th>recall</th>\n",
       "      <th>accuracy</th>\n",
       "      <th>auc</th>\n",
       "    </tr>\n",
       "  </thead>\n",
       "  <tbody>\n",
       "    <tr>\n",
       "      <td>0</td>\n",
       "      <td>gaia_mock_streams/stream-178.fits.gz</td>\n",
       "      <td>1</td>\n",
       "      <td>1</td>\n",
       "      <td>0.1</td>\n",
       "      <td>0.006832</td>\n",
       "      <td>0.934118</td>\n",
       "      <td>0.696045</td>\n",
       "      <td>0.814814</td>\n",
       "    </tr>\n",
       "    <tr>\n",
       "      <td>1</td>\n",
       "      <td>gaia_mock_streams/stream-178.fits.gz</td>\n",
       "      <td>1</td>\n",
       "      <td>1</td>\n",
       "      <td>0.2</td>\n",
       "      <td>0.009131</td>\n",
       "      <td>0.986877</td>\n",
       "      <td>0.785083</td>\n",
       "      <td>0.885777</td>\n",
       "    </tr>\n",
       "    <tr>\n",
       "      <td>2</td>\n",
       "      <td>gaia_mock_streams/stream-178.fits.gz</td>\n",
       "      <td>1</td>\n",
       "      <td>26</td>\n",
       "      <td>0.1</td>\n",
       "      <td>0.138202</td>\n",
       "      <td>0.832151</td>\n",
       "      <td>0.987989</td>\n",
       "      <td>0.910245</td>\n",
       "    </tr>\n",
       "    <tr>\n",
       "      <td>3</td>\n",
       "      <td>gaia_mock_streams/stream-178.fits.gz</td>\n",
       "      <td>1</td>\n",
       "      <td>26</td>\n",
       "      <td>0.2</td>\n",
       "      <td>0.113879</td>\n",
       "      <td>0.874317</td>\n",
       "      <td>0.986450</td>\n",
       "      <td>0.930493</td>\n",
       "    </tr>\n",
       "    <tr>\n",
       "      <td>4</td>\n",
       "      <td>gaia_mock_streams/stream-178.fits.gz</td>\n",
       "      <td>1</td>\n",
       "      <td>51</td>\n",
       "      <td>0.1</td>\n",
       "      <td>0.156700</td>\n",
       "      <td>0.817768</td>\n",
       "      <td>0.989310</td>\n",
       "      <td>0.903740</td>\n",
       "    </tr>\n",
       "    <tr>\n",
       "      <td>...</td>\n",
       "      <td>...</td>\n",
       "      <td>...</td>\n",
       "      <td>...</td>\n",
       "      <td>...</td>\n",
       "      <td>...</td>\n",
       "      <td>...</td>\n",
       "      <td>...</td>\n",
       "      <td>...</td>\n",
       "    </tr>\n",
       "    <tr>\n",
       "      <td>155</td>\n",
       "      <td>gaia_mock_streams/stream-178.fits.gz</td>\n",
       "      <td>5</td>\n",
       "      <td>326</td>\n",
       "      <td>0.2</td>\n",
       "      <td>0.507042</td>\n",
       "      <td>0.574468</td>\n",
       "      <td>0.997657</td>\n",
       "      <td>0.786568</td>\n",
       "    </tr>\n",
       "    <tr>\n",
       "      <td>156</td>\n",
       "      <td>gaia_mock_streams/stream-178.fits.gz</td>\n",
       "      <td>5</td>\n",
       "      <td>351</td>\n",
       "      <td>0.1</td>\n",
       "      <td>0.516129</td>\n",
       "      <td>0.405530</td>\n",
       "      <td>0.997597</td>\n",
       "      <td>0.702295</td>\n",
       "    </tr>\n",
       "    <tr>\n",
       "      <td>157</td>\n",
       "      <td>gaia_mock_streams/stream-178.fits.gz</td>\n",
       "      <td>5</td>\n",
       "      <td>351</td>\n",
       "      <td>0.2</td>\n",
       "      <td>0.546703</td>\n",
       "      <td>0.534946</td>\n",
       "      <td>0.997809</td>\n",
       "      <td>0.766937</td>\n",
       "    </tr>\n",
       "    <tr>\n",
       "      <td>158</td>\n",
       "      <td>gaia_mock_streams/stream-178.fits.gz</td>\n",
       "      <td>5</td>\n",
       "      <td>376</td>\n",
       "      <td>0.1</td>\n",
       "      <td>0.500000</td>\n",
       "      <td>0.298122</td>\n",
       "      <td>0.997522</td>\n",
       "      <td>0.648691</td>\n",
       "    </tr>\n",
       "    <tr>\n",
       "      <td>159</td>\n",
       "      <td>gaia_mock_streams/stream-178.fits.gz</td>\n",
       "      <td>5</td>\n",
       "      <td>376</td>\n",
       "      <td>0.2</td>\n",
       "      <td>0.577465</td>\n",
       "      <td>0.432718</td>\n",
       "      <td>0.997828</td>\n",
       "      <td>0.715969</td>\n",
       "    </tr>\n",
       "  </tbody>\n",
       "</table>\n",
       "<p>160 rows × 8 columns</p>\n",
       "</div>"
      ],
      "text/plain": [
       "                              stream_name  k  multiple  training_ratio  \\\n",
       "0    gaia_mock_streams/stream-178.fits.gz  1         1             0.1   \n",
       "1    gaia_mock_streams/stream-178.fits.gz  1         1             0.2   \n",
       "2    gaia_mock_streams/stream-178.fits.gz  1        26             0.1   \n",
       "3    gaia_mock_streams/stream-178.fits.gz  1        26             0.2   \n",
       "4    gaia_mock_streams/stream-178.fits.gz  1        51             0.1   \n",
       "..                                    ... ..       ...             ...   \n",
       "155  gaia_mock_streams/stream-178.fits.gz  5       326             0.2   \n",
       "156  gaia_mock_streams/stream-178.fits.gz  5       351             0.1   \n",
       "157  gaia_mock_streams/stream-178.fits.gz  5       351             0.2   \n",
       "158  gaia_mock_streams/stream-178.fits.gz  5       376             0.1   \n",
       "159  gaia_mock_streams/stream-178.fits.gz  5       376             0.2   \n",
       "\n",
       "     precision    recall  accuracy       auc  \n",
       "0     0.006832  0.934118  0.696045  0.814814  \n",
       "1     0.009131  0.986877  0.785083  0.885777  \n",
       "2     0.138202  0.832151  0.987989  0.910245  \n",
       "3     0.113879  0.874317  0.986450  0.930493  \n",
       "4     0.156700  0.817768  0.989310  0.903740  \n",
       "..         ...       ...       ...       ...  \n",
       "155   0.507042  0.574468  0.997657  0.786568  \n",
       "156   0.516129  0.405530  0.997597  0.702295  \n",
       "157   0.546703  0.534946  0.997809  0.766937  \n",
       "158   0.500000  0.298122  0.997522  0.648691  \n",
       "159   0.577465  0.432718  0.997828  0.715969  \n",
       "\n",
       "[160 rows x 8 columns]"
      ]
     },
     "execution_count": 87,
     "metadata": {},
     "output_type": "execute_result"
    }
   ],
   "source": [
    "df_test1"
   ]
  },
  {
   "cell_type": "markdown",
   "metadata": {},
   "source": [
    "#### Let us visualize the precisions and recalls as we change our training_ratio and multiple"
   ]
  },
  {
   "cell_type": "markdown",
   "metadata": {},
   "source": [
    "#### Consider we are interested in visualizing the model's predictions vs. the actual results. The following filters help visualize those results."
   ]
  },
  {
   "cell_type": "code",
   "execution_count": 32,
   "metadata": {},
   "outputs": [],
   "source": [
    "X_correct = X_test[y_test & y_pred]\n",
    "X_incorrect = X_test[y_test & ~y_pred]"
   ]
  },
  {
   "cell_type": "code",
   "execution_count": 33,
   "metadata": {},
   "outputs": [
    {
     "data": {
      "text/plain": [
       "<matplotlib.collections.PathCollection at 0x2b04de82fa58>"
      ]
     },
     "execution_count": 33,
     "metadata": {},
     "output_type": "execute_result"
    },
    {
     "data": {
      "image/png": "[encoded data removed]",
      "text/plain": [
       "<Figure size 432x288 with 1 Axes>"
      ]
     },
     "metadata": {
      "needs_background": "light"
     },
     "output_type": "display_data"
    }
   ],
   "source": [
    "plt.scatter(X_correct['ra'], X_correct['dec'])\n",
    "plt.scatter(X_incorrect['ra'], X_incorrect['dec'])"
   ]
  },
  {
   "cell_type": "code",
   "execution_count": 35,
   "metadata": {},
   "outputs": [
    {
     "data": {
      "text/plain": [
       "<matplotlib.collections.PathCollection at 0x2b04deab03c8>"
      ]
     },
     "execution_count": 35,
     "metadata": {},
     "output_type": "execute_result"
    },
    {
     "data": {
      "image/png": "[encoded data removed]",
      "text/plain": [
       "<Figure size 432x288 with 1 Axes>"
      ]
     },
     "metadata": {
      "needs_background": "light"
     },
     "output_type": "display_data"
    }
   ],
   "source": [
    "X2_correct = X_test[~y_test & ~y_pred]\n",
    "X2_incorrect = X_test[~y_test & y_pred]\n",
    "\n",
    "plt.scatter(X2_correct['ra'], X2_correct['dec'])\n",
    "plt.scatter(X2_incorrect['ra'], X2_incorrect['dec'])"
   ]
  },
  {
   "cell_type": "code",
   "execution_count": 98,
   "metadata": {},
   "outputs": [
    {
     "data": {
      "text/plain": [
       "<matplotlib.legend.Legend at 0x2abec50067f0>"
      ]
     },
     "execution_count": 98,
     "metadata": {},
     "output_type": "execute_result"
    },
    {
     "data": {
      "image/png": "[encoded data removed]",
      "text/plain": [
       "<Figure size 1440x1080 with 1 Axes>"
      ]
     },
     "metadata": {
      "needs_background": "light"
     },
     "output_type": "display_data"
    }
   ],
   "source": [
    "fig = plt.figure(figsize = (20,15))\n",
    "simulated_streams_index = [i for i in range(1,len(cuts)+1)]\n",
    "\n",
    "plt.scatter(simulated_streams_index, precisions_simulated_knn, label = 'precisions')\n",
    "plt.scatter(simulated_streams_index, recalls_simulated_knn, label = 'recalls')\n",
    "plt.scatter(simulated_streams_index, accuracy_simulated_knn, label = 'accuracies')\n",
    "plt.scatter(simulated_streams_index, auc_simulated_knn, label = 'aucs')\n",
    "plt.title('Precisions, Recalls, Accuracies, AUCs for each of our ' + str(len(cuts)) + ' Stellar Stream using KNN')\n",
    "\n",
    "plt.legend()"
   ]
  },
  {
   "cell_type": "code",
   "execution_count": 99,
   "metadata": {},
   "outputs": [
    {
     "name": "stdout",
     "output_type": "stream",
     "text": [
      "The average precision through KNN is: 0.8531116826511564\n",
      "The average recall through KNN is: 0.8215276416662981\n",
      "The average accuracy through KNN is: 0.9875389641150127\n",
      "The average AUC through KNN is: 0.9078559133379018\n"
     ]
    }
   ],
   "source": [
    "print('The average precision through KNN is: ' + str(sum(precisions_simulated_knn)/len(cuts)))\n",
    "print('The average recall through KNN is: ' + str(sum(recalls_simulated_knn)/len(cuts)))\n",
    "print('The average accuracy through KNN is: ' + str(sum(accuracy_simulated_knn)/len(cuts)))\n",
    "print('The average AUC through KNN is: ' + str(sum(auc_simulated_knn)/len(cuts)))"
   ]
  }
 ],
 "metadata": {
  "kernelspec": {
   "display_name": "Python 3",
   "language": "python",
   "name": "python3"
  },
  "language_info": {
   "codemirror_mode": {
    "name": "ipython",
    "version": 3
   },
   "file_extension": ".py",
   "mimetype": "text/x-python",
   "name": "python",
   "nbconvert_exporter": "python",
   "pygments_lexer": "ipython3",
   "version": "3.6.3"
  }
 },
 "nbformat": 4,
 "nbformat_minor": 4
}
