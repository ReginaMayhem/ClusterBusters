{
 "cells": [
  {
   "cell_type": "markdown",
   "metadata": {
    "deletable": true,
    "editable": true,
    "heading_collapsed": true
   },
   "source": [
    "# FIND BELOW THE (RECURRENT) RANDOM FOREST ANALYSIS"
   ]
  },
  {
   "cell_type": "markdown",
   "metadata": {
    "heading_collapsed": true
   },
   "source": [
    "# Install Packages"
   ]
  },
  {
   "cell_type": "code",
   "execution_count": 1,
   "metadata": {
    "collapsed": true,
    "deletable": true,
    "editable": true,
    "hidden": true
   },
   "outputs": [],
   "source": [
    "# !pip install jupyter_contrib_nbextensions\n",
    "# !jupyter contrib nbextension install --user\n",
    "# !jupyter nbextension enable collapsible_headings/main\n",
    "# !pip install astropy\n",
    "# !pip install seaborn\n",
    "# !pip install site"
   ]
  },
  {
   "cell_type": "markdown",
   "metadata": {
    "deletable": true,
    "editable": true,
    "heading_collapsed": true
   },
   "source": [
    "# Import Packages"
   ]
  },
  {
   "cell_type": "code",
   "execution_count": 1,
   "metadata": {
    "collapsed": false,
    "deletable": true,
    "editable": true,
    "hidden": true
   },
   "outputs": [
    {
     "name": "stderr",
     "output_type": "stream",
     "text": [
      "/share/apps/python3/3.5.3/intel/lib/python3.5/site-packages/matplotlib-2.0.0-py3.5-linux-x86_64.egg/matplotlib/__init__.py:1401: UserWarning:  This call to matplotlib.use() has no effect\n",
      "because the backend has already been chosen;\n",
      "matplotlib.use() must be called *before* pylab, matplotlib.pyplot,\n",
      "or matplotlib.backends is imported for the first time.\n",
      "\n",
      "  warnings.warn(_use_error_msg)\n"
     ]
    }
   ],
   "source": [
    "#astrology packages\n",
    "from astropy.table import Table\n",
    "import astropy.coordinates as coord\n",
    "import glob\n",
    "from astropy import units as u\n",
    "from astroquery.gaia import Gaia\n",
    "\n",
    "#data processing\n",
    "import pandas as pd\n",
    "import numpy as np\n",
    "import math as math\n",
    "from tqdm import tqdm\n",
    "import collections\n",
    "import copy\n",
    "\n",
    "#visualizations\n",
    "import matplotlib.pyplot as plt\n",
    "import matplotlib as mpl\n",
    "mpl.use('Agg')\n",
    "%matplotlib inline\n",
    "from mpl_toolkits.mplot3d import Axes3D\n",
    "#import plotly.graph_objects as go\n",
    "#import seaborn as sns\n",
    "\n",
    "#models\n",
    "from sklearn.cluster import DBSCAN\n",
    "from sklearn.linear_model import LogisticRegression\n",
    "from sklearn.neighbors import KNeighborsClassifier\n",
    "from sklearn.tree import DecisionTreeClassifier\n",
    "from sklearn.ensemble import RandomForestClassifier\n",
    "from sklearn.ensemble import GradientBoostingClassifier\n",
    "from sklearn.svm import OneClassSVM\n",
    "from sklearn.metrics import confusion_matrix\n",
    "from sklearn.utils.multiclass import unique_labels\n",
    "from sklearn.model_selection import RandomizedSearchCV\n",
    "\n",
    "#data manipulation\n",
    "from sklearn.model_selection import train_test_split\n",
    "from sklearn.preprocessing import StandardScaler\n",
    "from sklearn import metrics\n",
    "from sklearn.metrics import matthews_corrcoef\n",
    "\n",
    "\n",
    "#for my sanity\n",
    "import warnings\n",
    "warnings.filterwarnings('ignore')"
   ]
  },
  {
   "cell_type": "markdown",
   "metadata": {
    "deletable": true,
    "editable": true,
    "hidden": true
   },
   "source": [
    "We now have all the stream files:"
   ]
  },
  {
   "cell_type": "markdown",
   "metadata": {
    "deletable": true,
    "editable": true,
    "heading_collapsed": true
   },
   "source": [
    "# Define Relevant Non-Model Functions"
   ]
  },
  {
   "cell_type": "code",
   "execution_count": 15,
   "metadata": {
    "collapsed": true,
    "deletable": true,
    "editable": true,
    "hidden": true
   },
   "outputs": [],
   "source": [
    "def obtain_noise(min_ra, max_ra, min_dec, max_dec, max_rel_err, n_points):\n",
    "    \n",
    "    qry = f\" \\n\\\n",
    "    select top {n_points} source_id, \\n\\\n",
    "    dr2.ra, \\n\\\n",
    "    dr2.dec, \\n\\\n",
    "    parallax, \\n\\\n",
    "    parallax_error, \\n\\\n",
    "    pmra, \\n\\\n",
    "    pmdec, \\n\\\n",
    "    phot_g_mean_mag,\\n\\\n",
    "    phot_bp_mean_mag, \\n\\\n",
    "    phot_rp_mean_mag, \\n\\\n",
    "    bp_rp, \\n\\\n",
    "    bp_g, \\n\\\n",
    "    g_rp\\n\\\n",
    "    from gaiadr2.gaia_source as dr2 \\n\\\n",
    "    where dr2.ra > {min_ra} and dr2.ra < {max_ra} and dr2.dec > {min_dec} and dr2.dec < {max_dec} \\n\\\n",
    "    and parallax is not null \\n\\\n",
    "    and parallax_error is not null \\n\\\n",
    "    and abs(dr2.parallax/dr2.parallax_error) < {max_rel_err} \\n\\\n",
    "    and pmra is not null \\n\\\n",
    "    and pmdec is not null \\n\\\n",
    "    and phot_g_mean_mag is not null \\n\\\n",
    "    and phot_bp_mean_mag is not null \\n\\\n",
    "    and phot_rp_mean_mag is not null \\n\\\n",
    "    and bp_rp is not null \\n\\\n",
    "    and bp_g is not null \\n\\\n",
    "    and g_rp is not null \\n\\\n",
    "    order by random_index\"\n",
    "\n",
    "    data_noise = Gaia.launch_job_async(qry).get_results().to_pandas()\n",
    "    \n",
    "    return data_noise\n",
    "\n",
    "#For each mock stream, we wish to obtain a fixed test set that represents the realistic ratio of non-stream stars to stream stars\n",
    "def obtain_test_set(list_of_stellar_streams, multiple):\n",
    "\n",
    "    for i in list_of_stellar_streams:\n",
    "        table = Table.read(i, format='fits')\n",
    "        stream = table.to_pandas()\n",
    "        \n",
    "        idx = cuts.index[cuts.stream_file==str(i)][0]\n",
    "\n",
    "        ra_min = cuts.loc[idx].ra_min\n",
    "        ra_max = cuts.loc[idx].ra_max\n",
    "        dec_min = cuts.loc[idx].dec_min\n",
    "        dec_max = cuts.loc[idx].dec_max\n",
    "        \n",
    "        #restrict stream to relevant portion\n",
    "        stream = stream.query('ra > ' + str(ra_min) + ' & ra < ' + str(ra_max) + ' & dec > ' + str(dec_min) + ' & dec < ' + str(dec_max))\n",
    "\n",
    "        #obtain noise points such that:\n",
    "        #- the ratio of stream to noise points in the test set is 1:multiple\n",
    "        #- this is required because KNN introduces bias when the ratios are imbalanced\n",
    "        n_points = len(stream) * multiple\n",
    "        #use max_rel_err of 0.5\n",
    "        max_rel_err =  0.5\n",
    "\n",
    "        #we now select our noise points that we will incorporate into our training and test set\n",
    "        noise_points = obtain_noise(ra_min, ra_max, dec_min, dec_max, max_rel_err, n_points)\n",
    "\n",
    "        #label our data as \"not part of the stream\"\n",
    "        noise_points['stream_mask'] = False\n",
    "        \n",
    "        #send to csv\n",
    "        name = i[18:-8]+'_mul_400_total_noise.csv'\n",
    "        noise_points.to_csv(name)\n",
    "\n",
    "    return noise_points"
   ]
  },
  {
   "cell_type": "markdown",
   "metadata": {
    "deletable": true,
    "editable": true,
    "heading_collapsed": true
   },
   "source": [
    "# Define Relevant Model Functions"
   ]
  },
  {
   "cell_type": "code",
   "execution_count": 23,
   "metadata": {
    "collapsed": true,
    "deletable": true,
    "editable": true,
    "hidden": true
   },
   "outputs": [],
   "source": [
    "#let us define a function to run logistic regression on our data set and evaluate the results\n",
    "def log_reg_model(X_train, X_test, y_train, y_test, threshold_log):\n",
    "    #do the logistic regression modeling\n",
    "    log_reg = LogisticRegression(random_state=0, solver='lbfgs', max_iter=1000, multi_class='ovr').fit(X_train, y_train)\n",
    "    \n",
    "    THRESHOLD = threshold_log\n",
    "    y_pred = np.where(log_reg.predict_proba(X_test)[:,1] > THRESHOLD, 1, 0)\n",
    "    \n",
    "    y_pred = log_reg.predict(X_test)\n",
    "    y_true = np.array(y_test)\n",
    "    \n",
    "    #calculate metrics\n",
    "    precision = metrics.precision_score(y_true, y_pred)\n",
    "    recall = metrics.recall_score(y_true, y_pred)\n",
    "    accuracy = metrics.accuracy_score(y_true, y_pred)\n",
    "\n",
    "    #calculate the AUC\n",
    "    fpr, tpr, thresholds = metrics.roc_curve(y_true, y_pred)\n",
    "    auc = metrics.auc(fpr, tpr)\n",
    "    \n",
    "    return precision, recall, accuracy, auc, y_pred, y_true\n",
    "\n",
    "#defaults for hyperparameters are set to match those used in sklearn\n",
    "def random_forest_model(X_train, X_test, y_train, y_test, n_trees = 100, criterion = \"gini\", max_depth = None,\n",
    "                       min_samples_split = 2, min_samples_leaf = 1, min_weight_fraction_leaf = 0, max_features = \"auto\", \n",
    "                        max_leaf_nodes = None, min_impurity_split = 1e-7, bootstrap = True,\n",
    "                        oob_score = False, n_jobs = None, random_state = None, verbose = 0, warm_start = False, class_weight = {0:1,1:1}):\n",
    "    #do the random forest modeling\n",
    "    random_forest = RandomForestClassifier(\n",
    "                                            n_estimators = n_trees, criterion = criterion, \n",
    "                                            max_depth = max_depth, min_samples_split = min_samples_split, \n",
    "                                            min_samples_leaf = min_samples_leaf, \n",
    "                                            min_weight_fraction_leaf = min_weight_fraction_leaf, \n",
    "                                            max_features = max_features, max_leaf_nodes = max_leaf_nodes,  \n",
    "                                            min_impurity_split = min_impurity_split, bootstrap = bootstrap, \n",
    "                                            oob_score = oob_score, n_jobs = n_jobs, \n",
    "                                            random_state = random_state, verbose = verbose, warm_start = False,\n",
    "                                            class_weight = {0:weight_0,1:weight_1}\n",
    "                                          ).fit(X_train, y_train)\n",
    "    \n",
    "    y_pred = random_forest.predict(X_test)\n",
    "    y_true = np.array(y_test)\n",
    "    \n",
    "    #calculate metrics\n",
    "    precision = metrics.precision_score(y_true, y_pred)\n",
    "    recall = metrics.recall_score(y_true, y_pred)\n",
    "    accuracy = metrics.accuracy_score(y_true, y_pred)\n",
    "\n",
    "    #calculate the AUC\n",
    "    fpr, tpr, thresholds = metrics.roc_curve(y_true, y_pred)\n",
    "    auc = metrics.auc(fpr, tpr)\n",
    "    \n",
    "    return precision, recall, accuracy, auc, y_pred, y_true, random_forest\n",
    "\n",
    "#defaults for hyperparameters are set to match those used in sklearn\n",
    "def gradient_boost_model(X_train, X_test, y_train, y_test, loss = 'deviance', learning_rate = 0.1, n_estimators = 100, \n",
    "                         subsample = 1.0, criterion = \"friedman_mse\", min_samples_split = 2, \n",
    "                         min_samples_leaf = 1, min_weight_fraction_leaf = 0., max_depth = 3, \n",
    "                         min_impurity_decrease = 0, min_impurity_split = 1e-7, init = None,\n",
    "                         random_state = None, max_features = None, max_leaf_nodes = None, verbose = 0,\n",
    "                         warm_start  = False): #validation_fraction = 0.1, \n",
    "                         #n_iter_no_change = None, tol = 1e-4, ccp_alpha = 0.0):\n",
    "    #do the gradient boosting modeling\n",
    "    gradient_boost = GradientBoostingClassifier(\n",
    "                                                loss = loss, learning_rate = learning_rate, \n",
    "                                                n_estimators = n_estimators, \n",
    "                                                subsample = subsample, criterion = criterion, \n",
    "                                                min_samples_split = min_samples_split, \n",
    "                                                min_samples_leaf = min_samples_leaf, \n",
    "                                                min_weight_fraction_leaf = min_weight_fraction_leaf, \n",
    "                                                max_depth = max_depth, \n",
    "                                                min_impurity_decrease = min_impurity_decrease, \n",
    "                                                min_impurity_split = min_impurity_split, init = init,\n",
    "                                                random_state = random_state, max_features = max_features, \n",
    "                                                max_leaf_nodes = max_leaf_nodes, verbose = verbose,\n",
    "                                                warm_start = warm_start #validation_fraction = validation_fraction, \n",
    "                                                #n_iter_no_change = n_iter_no_change, tol = tol, ccp_alpha = ccp_alpha\n",
    "                                              ).fit(X_train, y_train)\n",
    "    \n",
    "    y_pred = gradient_boost.predict(X_test)\n",
    "    y_true = np.array(y_test)\n",
    "    \n",
    "    #calculate metrics\n",
    "    precision = metrics.precision_score(y_true, y_pred)\n",
    "    recall = metrics.recall_score(y_true, y_pred)\n",
    "    accuracy = metrics.accuracy_score(y_true, y_pred)\n",
    "\n",
    "    #calculate the AUC\n",
    "    fpr, tpr, thresholds = metrics.roc_curve(y_true, y_pred)\n",
    "    auc = metrics.auc(fpr, tpr)\n",
    "    \n",
    "    return precision, recall, accuracy, auc, y_pred, y_true\n",
    "\n",
    "#defaults for hyperparameters are set to match those used in sklearn\n",
    "def one_class_svm_model(X_train, X_test, y_train, y_test, \n",
    "                        kernel = 'rbf', degree = 3, gamma = 0.001, \n",
    "                        coef0 = 0.0, tol = 0.001, nu = 0.5, shrinking = True, \n",
    "                        cache_size = 200, verbose = False, max_iter = -1, random_state = None):\n",
    "    #do the random forest modeling\n",
    "    one_class_svm = OneClassSVM(\n",
    "                                kernel = kernel, degree = degree, gamma = gamma, coef0 = coef0, \n",
    "                                tol = tol, nu = nu, shrinking = shrinking, cache_size = cache_size, \n",
    "                                verbose = verbose, max_iter = max_iter, random_state = random_state\n",
    "                               ).fit(X_train, y_train)\n",
    "    \n",
    "    y_pred = one_class_svm.predict(X_test)\n",
    "    y_true = np.array(y_test)\n",
    "    \n",
    "    #calculate metrics\n",
    "    precision = metrics.precision_score(y_true, y_pred, average='micro')\n",
    "    recall = metrics.recall_score(y_true, y_pred, average='micro')\n",
    "    accuracy = metrics.accuracy_score(y_true, y_pred)\n",
    "\n",
    "    #calculate the AUC\n",
    "    fpr, tpr, thresholds = metrics.roc_curve(y_true, y_pred)\n",
    "    auc = metrics.auc(fpr, tpr)\n",
    "    \n",
    "    return precision, recall, accuracy, auc, y_pred, y_true\n",
    "\n",
    "def knn_model(X_train, X_test, y_train, y_test, k):\n",
    "    #do the KNN modeling\n",
    "    neigh = KNeighborsClassifier(n_neighbors=k)\n",
    "    neigh.fit(X_train, y_train)\n",
    "    y_pred = neigh.predict(X_test)\n",
    "    y_true = np.array(y_test)\n",
    "    \n",
    "    #calculate metrics\n",
    "    precision = metrics.precision_score(y_true, y_pred)\n",
    "    recall = metrics.recall_score(y_true, y_pred)\n",
    "    accuracy = metrics.accuracy_score(y_true, y_pred)\n",
    "\n",
    "    #calculate the AUC\n",
    "    fpr, tpr, thresholds = metrics.roc_curve(y_true, y_pred)\n",
    "    auc = metrics.auc(fpr, tpr)\n",
    "    \n",
    "    return precision, recall, accuracy, auc, y_pred, y_true"
   ]
  },
  {
   "cell_type": "markdown",
   "metadata": {
    "heading_collapsed": true
   },
   "source": [
    "# Introduce and Load our Data Set"
   ]
  },
  {
   "cell_type": "code",
   "execution_count": 2,
   "metadata": {
    "collapsed": false,
    "deletable": true,
    "editable": true,
    "hidden": true
   },
   "outputs": [],
   "source": [
    "filename = \"data/gd1_in_gaia.h5\"\n",
    "dataset = pd.read_hdf(filename, 'df')"
   ]
  },
  {
   "cell_type": "code",
   "execution_count": 36,
   "metadata": {
    "collapsed": true,
    "deletable": true,
    "editable": true,
    "hidden": true
   },
   "outputs": [],
   "source": [
    "#separate the data points that belong to GD1\n",
    "dataset_gd1 = dataset[dataset['pm_mask'] == True]\n",
    "dataset_gd1 = dataset_gd1[dataset_gd1['gi_cmd_mask'] == True]\n",
    "dataset_gd1 = dataset_gd1[dataset_gd1['stream_track_mask'] == True]\n",
    "dataset_gd1['in_gd1'] = 1\n",
    "\n",
    "#separate the data points that do not belong to GD1 AND have passed through the isochrone filter\n",
    "dataset_nongd = dataset[(dataset['pm_mask']== False) | (dataset['stream_track_mask'] == False)]\n",
    "dataset_nongd = dataset_nongd[dataset_nongd['gi_cmd_mask'] == True]\n",
    "dataset_nongd['in_gd1'] = 0"
   ]
  },
  {
   "cell_type": "code",
   "execution_count": 39,
   "metadata": {
    "collapsed": true,
    "deletable": true,
    "editable": true,
    "hidden": true
   },
   "outputs": [],
   "source": [
    "#stars known to model\n",
    "stream_train_gd1 = pd.read_csv('stream_stars_split/gd1/gd1_stellar_stream_known_to_model.csv', index_col = 0)\n",
    "\n",
    "#unknown to model\n",
    "stream_test_gd1 = pd.read_csv('stream_stars_split/gd1/gd1_stellar_stream_unknown_to_model.csv', index_col = 0)"
   ]
  },
  {
   "cell_type": "code",
   "execution_count": 41,
   "metadata": {
    "collapsed": true,
    "deletable": true,
    "editable": true,
    "hidden": true
   },
   "outputs": [],
   "source": [
    "multiple_test = 150\n",
    "multiple_train = 400\n",
    "#we want a ratio of 150:1 for each value in the test set where the test is 90% of our data set\n",
    "len_noise_test = len(stream_test_gd1) * multiple_test\n",
    "gd1_noise_test = dataset_nongd.sample(n=len_noise_test,random_state=1)\n",
    "indices_test = list(gd1_noise_test.index)\n",
    "gd1_noise_train_pool = dataset_nongd[~dataset_nongd.index.isin(indices_test)]\n",
    "#we want a ratio of 400:1 for each value in the training set where the training set is 10% of our data set.\n",
    "len_noise_train = len(stream_train_gd1) * multiple_train\n",
    "gd1_noise_train = gd1_noise_train_pool.sample(n=len_noise_train,random_state=1)"
   ]
  },
  {
   "cell_type": "markdown",
   "metadata": {},
   "source": [
    "# Test Random Forest Model"
   ]
  },
  {
   "cell_type": "markdown",
   "metadata": {
    "heading_collapsed": true
   },
   "source": [
    "## Define Function for Recursive Portion"
   ]
  },
  {
   "cell_type": "code",
   "execution_count": 47,
   "metadata": {
    "collapsed": true,
    "deletable": true,
    "editable": true,
    "hidden": true
   },
   "outputs": [],
   "source": [
    "def rf_recursion_gd1 (training_streams, testing_streams, correct_X, incorrect_X2, self_labs, final_result_rf, plot_permit, X_correct_cum, X2_incorrect_cum):\n",
    "\n",
    "    true_positives = []\n",
    "    false_positives = []\n",
    "    true_negatives = []\n",
    "    false_negatives = []\n",
    "    y_preds = []\n",
    "    testing_datas = []\n",
    "    training_datas = []\n",
    "    multiple = 150\n",
    "\n",
    "    weight_1_options = [1]\n",
    "    precisions = []\n",
    "    recalls = []\n",
    "    f1s_weights = []\n",
    "\n",
    "    training_streams_2 = []\n",
    "    testing_streams_2 = []\n",
    "    correct_X_2 = []\n",
    "    incorrect_X2_2 = []\n",
    "    self_labs_2 = []\n",
    "\n",
    "    stream_train_prev = training_streams[0]\n",
    "    stream_test_prev = testing_streams[0]\n",
    "    X_correct_prev = correct_X[0]\n",
    "    X2_incorrect_prev = incorrect_X2[0]\n",
    "\n",
    "\n",
    "#     stellar_stream = pd.read_csv('stream_stars_split/group_c_intelligent/'+stream_name+ '_intelligent_cut.csv')\n",
    "#     stellar_stream_valid_b = stellar_stream[stellar_stream['meets_b_req']==True]\n",
    "#     #stream_primer1 = 'stream_stars_split/train_known/' + stream_name + \"_known_to_model.csv\"\n",
    "#     #stream_primer2 = 'stream_stars_split/test_unknown/' + stream_name + \"_unknown_to_model.csv\"\n",
    "\n",
    "    #stars known to model\n",
    "    stream_train2 = stream_train_prev.append(stream_test_prev[stream_test_prev.index.isin(X_correct_prev.index)], ignore_index = False, sort = True)\n",
    "    stream_train2 = stream_train2.append(stream_test_prev[stream_test_prev.index.isin(X2_incorrect_prev.index)], ignore_index = False, sort = True)\n",
    "    stream_train2['stream_mask'] = True\n",
    "\n",
    "    #unknown to model\n",
    "    stream_test2 = stream_test_prev[~stream_test_prev.index.isin(X_correct_prev.index)]\n",
    "    stream_test2['stream_mask'] = True  \n",
    "\n",
    "#     #obtain noise points such that:\n",
    "#     #- the ratio of stream to noise points in the training set is 1:multiple\n",
    "#     #- the ratio of stream to noise points in the test set is close to the 'real' ratio\n",
    "#     test_primer = 'stream_stars_split/simulated_noise_points/ratios_intelligent/'\n",
    "#     name_test = test_primer + stream_name + \"_mul_150_total_noise.csv\"\n",
    "\n",
    "#     train_primer = 'stream_stars_split/simulated_noise_points/ratios_intelligent/'\n",
    "#     name_train = train_primer + stream_name + \"_mul_400_total_noise.csv\"\n",
    "\n",
    "#     noise_test = pd.read_csv(name_test, index_col = 0)\n",
    "#     noise_points = pd.read_csv(name_train, index_col = 0)\n",
    "\n",
    "#     #add back the test points into the muck and assume they're background stars from which to draw\n",
    "#     noise_points = noise_points.append(stream_test2, ignore_index = False, sort = True)\n",
    "#     train_points = len(stream_train2) * multiple\n",
    "\n",
    "#     #label our data as \"not part of the stream\"\n",
    "#     noise_points['stream_mask'] = False\n",
    "\n",
    "#     msk2 = np.random.rand(len(noise_points)) < (train_points / len(noise_points))\n",
    "#     noise_train = noise_points[msk2]\n",
    "#     #noise_test = noise_points[~msk2]\n",
    "    \n",
    "    noise_train = gd1_noise_train\n",
    "    noise_train['stream_mask'] = False\n",
    "    noise_test = gd1_noise_test\n",
    "    noise_test['stream_mask'] = False\n",
    "    \n",
    "    #add back the test points into the muck and assume they're background stars from which to draw\n",
    "    noise_train = noise_train.append(stream_test2, ignore_index = False, sort = True)\n",
    "\n",
    "    #re-label our data as \"not part of the stream\"\n",
    "    noise_train['stream_mask'] = False\n",
    "\n",
    "    #combine my stream and noise to obtain complete training and test data set\n",
    "    training_data = stream_train2.append(noise_train, ignore_index = False, sort = True)\n",
    "    training_data = training_data[['ra', 'dec', 'pmra_x', 'pmdec_x', 'g', 'g_bp', 'g_rp', 'stream_mask']]\n",
    "\n",
    "    testing_data = stream_test2.append(noise_test, ignore_index = False, sort = True)\n",
    "    testing_data = testing_data[['ra', 'dec', 'pmra_x', 'pmdec_x',  'g', 'g_bp', 'g_rp', 'stream_mask']]\n",
    "    \n",
    "    #there is only stream\n",
    "    testing_data = self_labs[0]\n",
    "    testing_data = testing_data[~testing_data.index.isin(X_correct_prev.index)] #TP\n",
    "    testing_data = testing_data[~testing_data.index.isin(X2_incorrect_prev.index)] #FP\n",
    "\n",
    "    #Convert to Angular Coordinates\n",
    "    #ang_coord_1 = -pmdec * cos(ra) - pmra * cos(dec) * sin(dec) * sin(ra)\n",
    "    #ang_coord_2 = -pmra * cos(dec) * cos(ra) * sin(dec) + pmdec * sin(ra)\n",
    "    #ang_coord_3 =  pmra ( cos(dec) * cos(dec) )\n",
    "\n",
    "    deg2rad = lambda deg: deg/180.*np.pi\n",
    "\n",
    "    #Convert data to angular velocities\n",
    "    training_data['ra_rad'] = deg2rad(training_data['ra'])\n",
    "    training_data['dec_rad'] = deg2rad(training_data['dec'])\n",
    "\n",
    "    training_data['ang_coord_1'] = -1 * training_data.pmdec_x * ( np.cos(training_data.ra_rad)) -  training_data.pmdec_x * np.cos(training_data.dec_rad) * np.sin(training_data.dec_rad * np.sin(training_data.ra_rad))\n",
    "    training_data['ang_coord_2'] = -1 * training_data.pmra_x *    np.cos(training_data.dec_rad) * np.cos(training_data.ra_rad) * np.sin(training_data.dec_rad + training_data.pmra_x * np.sin(training_data.ra_rad))\n",
    "    training_data['ang_coord_3'] = training_data.pmra_x * ( np.cos(training_data.dec_rad) * np.cos(training_data.dec_rad) )\n",
    "\n",
    "\n",
    "    testing_data['ra_rad'] = deg2rad(testing_data['ra'])\n",
    "    testing_data['dec_rad'] = deg2rad(testing_data['dec'])\n",
    "\n",
    "    testing_data['ang_coord_1'] = -1 * testing_data.pmdec_x * ( np.cos(testing_data.ra_rad)) -  testing_data.pmdec_x * np.cos(testing_data.dec_rad) * np.sin(testing_data.dec_rad * np.sin(testing_data.ra_rad))\n",
    "    testing_data['ang_coord_2'] = -1 * testing_data.pmra_x *    np.cos(testing_data.dec_rad) * np.cos(testing_data.ra_rad) * np.sin(testing_data.dec_rad + testing_data.pmra_x * np.sin(testing_data.ra_rad))\n",
    "    testing_data['ang_coord_3'] = testing_data.pmra_x * ( np.cos(testing_data.dec_rad) * np.cos(testing_data.dec_rad) )\n",
    "\n",
    "    self_labs_2.append(testing_data)\n",
    "\n",
    "\n",
    "    #differentiate training and test data's X and y variables\n",
    "    #X_train = training_data[['x', 'y', 'z', 'vx', 'vy', 'vz']] #[['ra', 'dec', 'pmra', 'pmdec']]\n",
    "    #y_train = training_data.stream_mask\n",
    "\n",
    "    #X_test = testing_data[['x', 'y', 'z', 'vx', 'vy', 'vz']] #[['ra', 'dec', 'pmra', 'pmdec']]\n",
    "    #y_test = testing_data.stream_mask\n",
    "\n",
    "\n",
    "    #differentiate training and test data's X and y variables\n",
    "    #X_train = training_data[['ra', 'dec', 'pmra', 'pmdec', 'phot_g_mean_mag', 'phot_bp_mean_mag', 'phot_rp_mean_mag']]\n",
    "    X_train = training_data[['ra', 'dec', 'pmra_x', 'pmdec_x', 'ang_coord_1', 'ang_coord_2', 'ang_coord_3', 'g', 'g_bp', 'g_rp']]\n",
    "    y_train = training_data.stream_mask\n",
    "\n",
    "    #X_test = testing_data[['ra', 'dec', 'pmra', 'pmdec', 'phot_g_mean_mag', 'phot_bp_mean_mag', 'phot_rp_mean_mag']]\n",
    "    X_test = testing_data[['ra', 'dec', 'pmra_x', 'pmdec_x','ang_coord_1', 'ang_coord_2', 'ang_coord_3', 'g', 'g_bp', 'g_rp']]\n",
    "    y_test = testing_data.stream_mask\n",
    "\n",
    "\n",
    "    #scale the features using standard scaler (scaling not required for logistic regression)\n",
    "    scaler = StandardScaler()\n",
    "    X_train_scaled = scaler.fit(X_train).transform(X_train)\n",
    "    X_test_scaled = scaler.fit(X_train).transform(X_test)\n",
    "\n",
    "\n",
    "    #use mean square sum for angular velocity (wx/N, wy/N, wz/N), where N = sqrt(wx^2 + wy^2 + wz^2)\n",
    "#     X_train_scaled = pd.DataFrame(X_train_scaled, columns = ['ra', 'dec', 'pmra', 'pmdec','ang_coord_1', 'ang_coord_2', 'ang_coord_3', 'phot_g_mean_mag', 'phot_bp_mean_mag', 'phot_rp_mean_mag'])\n",
    "#     X_test_scaled = pd.DataFrame(X_test_scaled, columns = ['ra', 'dec', 'pmra', 'pmdec','ang_coord_1', 'ang_coord_2', 'ang_coord_3', 'phot_g_mean_mag', 'phot_bp_mean_mag', 'phot_rp_mean_mag']) \n",
    "\n",
    "#     X_train_scaled['mean_square_sum'] = X_train_scaled['ang_coord_1']**2+X_train_scaled['ang_coord_2']**2+X_train_scaled['ang_coord_3']**2\n",
    "#     X_train_scaled['ang_coord_1'] = X_train_scaled['ang_coord_1'] / X_train_scaled['mean_square_sum']\n",
    "#     X_train_scaled['ang_coord_2'] = X_train_scaled['ang_coord_2'] / X_train_scaled['mean_square_sum']\n",
    "#     X_train_scaled['ang_coord_3'] = X_train_scaled['ang_coord_3'] / X_train_scaled['mean_square_sum']\n",
    "#     X_train_scaled = X_train_scaled.drop(['mean_square_sum'], axis = 1)\n",
    "#     X_train_scaled = np.array(X_train_scaled)\n",
    "\n",
    "#     X_test_scaled['mean_square_sum'] = X_test_scaled['ang_coord_1']**2+X_test_scaled['ang_coord_2']**2+X_test_scaled['ang_coord_3']**2\n",
    "#     X_test_scaled['ang_coord_1'] = X_test_scaled['ang_coord_1'] / X_test_scaled['mean_square_sum']\n",
    "#     X_test_scaled['ang_coord_2'] = X_test_scaled['ang_coord_2'] / X_test_scaled['mean_square_sum']\n",
    "#     X_test_scaled['ang_coord_3'] = X_test_scaled['ang_coord_3'] / X_test_scaled['mean_square_sum']\n",
    "#     X_test_scaled = X_test_scaled.drop(['mean_square_sum'], axis = 1)\n",
    "#     X_test_scaled = np.array(X_test_scaled)    \n",
    "\n",
    "    precision, recall, accuracy, auc, y_pred, y_true, forest = random_forest_model(X_train_scaled, X_test_scaled, y_train, y_test, \n",
    "                                                                           n_trees = n_estimator_opt, criterion = \"gini\", max_depth = depth_opt,\n",
    "                                                                           min_samples_split = min_split_opt, min_samples_leaf = min_leaf_opt, \n",
    "                                                                           min_weight_fraction_leaf = 0, max_features = max_feature_opt, \n",
    "                                                                           max_leaf_nodes = None, min_impurity_decrease = 0, \n",
    "                                                                           min_impurity_split = 1e-7, bootstrap = bootstrap_opt,\n",
    "                                                                           oob_score = False, n_jobs = 1, \n",
    "                                                                           random_state = None, verbose = 0, warm_start = False, class_weight = {0:weight_0,1:weight_1})\n",
    "\n",
    "\n",
    "    #y_test = results_use[streams_threshold_tuning[stream_index]].stream_mask\n",
    "    #y_pred = results_use[streams_threshold_tuning[stream_index]][col_name]\n",
    "    #Truly in Cluster\n",
    "    X_correct = testing_data[y_test & y_pred] #predicted in cluster (true positives)\n",
    "    X_incorrect = testing_data[y_test & ~y_pred] #predicted not in cluster (false negative)\n",
    "    #Truly not in Cluster\n",
    "    X2_correct = testing_data[~y_test & ~y_pred] #predicted not in cluster (true negative)\n",
    "    X2_incorrect = testing_data[~y_test & y_pred] #predicted in cluster (false positive)\n",
    "\n",
    "    X_correct_cum = X_correct_cum.append(X_correct, ignore_index = False, sort = True) #true positives\n",
    "    #X_incorrect_cum.append(X_incorrect, ignore_index = False, sort = True)\n",
    "    #X2_correct_cum.append(X2_correct, ignore_index = False, sort = True)\n",
    "    X2_incorrect_cum = X2_incorrect_cum.append(X2_incorrect, ignore_index = False, sort = True) #false positives\n",
    "\n",
    "    if plot_permit == 'yes':\n",
    "        X_correct_cum['species']='TP'\n",
    "        X_incorrect_cum['species']='FN'\n",
    "        X2_incorrect['species']='FP'\n",
    "\n",
    "        sns_frame = X_correct_cum.append(X_incorrect_cum, ignore_index = False, sort = True)\n",
    "        sns_frame = sns_frame.append(X2_incorrect, ignore_index = False, sort = True)\n",
    "\n",
    "        sns_frame = sns_frame[['ra','dec','pmra_x','pmdec_x', 'g', 'g_bp', 'g_rp', 'ang_coord_1', 'ang_coord_2', 'ang_coord_3', 'species']]\n",
    "\n",
    "        g = sns.pairplot(sns_frame, hue = 'species', hue_order = ['TP', 'FN', 'FP'])\n",
    "        g.fig.suptitle('Pairwise Plot for GD1', y = 1.08)\n",
    "\n",
    "    true_positives.append(len(X_correct))\n",
    "    false_positives.append(len(X2_incorrect))\n",
    "    true_negatives.append(len(X2_correct))\n",
    "    false_negatives.append(len(X_incorrect))\n",
    "    y_preds.append(y_pred)\n",
    "    testing_datas.append(testing_data)\n",
    "    training_datas.append(training_data)\n",
    "    training_streams_2.append(stream_train2)\n",
    "    testing_streams_2.append(stream_test2)\n",
    "    correct_X_2.append(X_correct)\n",
    "    incorrect_X2_2.append(X2_incorrect)\n",
    "\n",
    "    final_result_rf2 = pd.DataFrame()\n",
    "    final_result_rf2['true_positives']=true_positives+recursive_frames[(len(recursive_frames)-1)].true_positives\n",
    "    final_result_rf2['false_positives']=false_positives+recursive_frames[(len(recursive_frames)-1)].false_positives\n",
    "    final_result_rf2['true_negatives']=true_negatives\n",
    "    final_result_rf2['false_negatives']=false_negatives\n",
    "    #final_result['auc'] = aucs\n",
    "    final_result_rf2['precision'] = final_result_rf2.true_positives / (final_result_rf2.true_positives + final_result_rf2.false_positives)\n",
    "    final_result_rf2['recall'] = final_result_rf2.true_positives / (final_result_rf2.true_positives + final_result_rf2.false_negatives)\n",
    "    final_result_rf2['f1'] = 2*(final_result_rf2.precision * final_result_rf2.recall)/(final_result_rf2.precision + final_result_rf2.recall)\n",
    "#     beta = 0.1\n",
    "#     final_result_rf2['f1_prec_10'] = (1 + beta**2) * (final_result_rf2.precision * final_result_rf2.recall) / (beta**2 * final_result_rf2.precision + final_result_rf2.recall)\n",
    "    beta = 0.5\n",
    "    final_result_rf2['f0.5'] = (1 + beta**2) * (final_result_rf2.precision * final_result_rf2.recall) / (beta**2 * final_result_rf2.precision + final_result_rf2.recall)\n",
    "    beta = 2\n",
    "    final_result_rf2['f2'] = (1 + beta**2) * (final_result_rf2.precision * final_result_rf2.recall) / (beta**2 * final_result_rf2.precision + final_result_rf2.recall)\n",
    "    final_result_rf2['bal_acc']= (final_result_rf2.true_positives/(final_result_rf2.true_positives + final_result_rf2.false_negatives)+ final_result_rf2.true_negatives/(final_result_rf2.true_negatives+final_result_rf2.false_positives))/2\n",
    "    final_result_rf2['matt_coef'] = (final_result_rf2.true_positives * final_result_rf2.true_negatives - final_result_rf2.false_positives * final_result_rf2.false_negatives)/((final_result_rf2.true_positives + final_result_rf2.false_positives)*(final_result_rf2.true_positives + final_result_rf2.false_negatives)*(final_result_rf2.true_negatives + final_result_rf2.false_positives)*(final_result_rf2.true_negatives + final_result_rf2.false_negatives))**0.5\n",
    "\n",
    "    #     precisions.append(final_result_rf.mean().precision)\n",
    "    #     recalls.append(final_result_rf.mean().recall)\n",
    "    #     f1s_weights.append(final_result_rf.mean().f1)\n",
    "\n",
    "    #     recursive_frames.append(final_result_rf2)\n",
    "\n",
    "    return training_streams_2, testing_streams_2, correct_X_2, incorrect_X2_2, self_labs_2, final_result_rf2, X_correct_cum, X2_incorrect_cum, forest"
   ]
  },
  {
   "cell_type": "markdown",
   "metadata": {
    "heading_collapsed": true
   },
   "source": [
    "## Run Recursive Random Forest"
   ]
  },
  {
   "cell_type": "code",
   "execution_count": 48,
   "metadata": {
    "collapsed": true,
    "deletable": true,
    "editable": true,
    "hidden": true
   },
   "outputs": [],
   "source": [
    "# #define optimal parameters\n",
    "# n_estimator_opt = params_opt[0]\n",
    "# max_feature_opt = params_opt[1]\n",
    "# depth_opt = params_opt[2]\n",
    "# min_split_opt = params_opt[3]\n",
    "# min_leaf_opt = params_opt[4]\n",
    "# bootstrap_opt = params_opt[5]\n",
    "iteration_1 = []\n",
    "iteration_final = []\n",
    "\n",
    "#weight_1_ops = [1,5,10,25,50,100,150,250,400,500] #all options\n",
    "weight_1_ops = [50]\n",
    "\n",
    "for weight_1_option in weight_1_ops:\n",
    "    n_estimator_opt = 200\n",
    "    max_feature_opt = 'auto'\n",
    "    depth_opt = 10\n",
    "    min_split_opt = 2\n",
    "    min_leaf_opt = 1\n",
    "    bootstrap_opt = True\n",
    "    weight_0 = 1\n",
    "    weight_1 = weight_1_option #high precision model has this = 1; alternatively, balanced model has this = 500\n",
    "\n",
    "    recursive_frames = []\n",
    "\n",
    "    stream_name_rf = []\n",
    "    true_positives = []\n",
    "    false_positives = []\n",
    "    true_negatives = []\n",
    "    false_negatives = []\n",
    "    y_preds = []\n",
    "    testing_datas = []\n",
    "    training_datas = []\n",
    "    multiple = 150\n",
    "    self_labs = []\n",
    "\n",
    "    precisions = []\n",
    "    recalls = []\n",
    "    f1s_weights = []\n",
    "\n",
    "    training_streams = []\n",
    "    testing_streams = []\n",
    "    correct_X = []\n",
    "    incorrect_X2 = []\n",
    "\n",
    "    #stars known to model\n",
    "    stream_train = stream_train_gd1\n",
    "    stream_train['stream_mask'] = True\n",
    "    \n",
    "    #unknown to model\n",
    "    stream_test = stream_test_gd1\n",
    "    stream_test['stream_mask'] = True\n",
    "    \n",
    "    noise_train = gd1_noise_train\n",
    "    noise_train['stream_mask'] = False\n",
    "    noise_test = gd1_noise_test\n",
    "    noise_test['stream_mask'] = False\n",
    "    \n",
    "    #add back the test points into the muck and assume they're background stars from which to draw\n",
    "    noise_train = noise_train.append(stream_test, ignore_index = False, sort = True)\n",
    "\n",
    "    #re-label our data as \"not part of the stream\"\n",
    "    noise_train['stream_mask'] = False\n",
    "    \n",
    "    #pmdec_x, pmra_x, g, g_bp, g_rp\n",
    "    #combine my stream and noise to obtain complete training and test data set\n",
    "    training_data = stream_train.append(noise_train, ignore_index = False, sort = True)\n",
    "    training_data = training_data[['ra', 'dec', 'pmra_x', 'pmdec_x', 'g', 'g_bp', 'g_rp', 'stream_mask']]\n",
    "\n",
    "    testing_data = stream_test.append(noise_test, ignore_index = False, sort = True)\n",
    "    testing_data = testing_data[['ra', 'dec', 'pmra_x', 'pmdec_x',  'g', 'g_bp', 'g_rp', 'stream_mask']]\n",
    "\n",
    "    #Convert to Angular Coordinates\n",
    "    #ang_coord_1 = -pmdec * cos(ra) - pmra * cos(dec) * sin(dec) * sin(ra)\n",
    "    #ang_coord_2 = -pmra * cos(dec) * cos(ra) * sin(dec) + pmdec * sin(ra)\n",
    "    #ang_coord_3 =  pmra ( cos(dec) * cos(dec) )\n",
    "\n",
    "    deg2rad = lambda deg: deg/180.*np.pi\n",
    "\n",
    "    #Convert data to angular velocities\n",
    "    training_data['ra_rad'] = deg2rad(training_data['ra'])\n",
    "    training_data['dec_rad'] = deg2rad(training_data['dec'])\n",
    "\n",
    "    training_data['ang_coord_1'] = -1 * training_data.pmdec_x * ( np.cos(training_data.ra_rad)) -  training_data.pmdec_x * np.cos(training_data.dec_rad) * np.sin(training_data.dec_rad * np.sin(training_data.ra_rad))\n",
    "    training_data['ang_coord_2'] = -1 * training_data.pmra_x *    np.cos(training_data.dec_rad) * np.cos(training_data.ra_rad) * np.sin(training_data.dec_rad + training_data.pmra_x * np.sin(training_data.ra_rad))\n",
    "    training_data['ang_coord_3'] = training_data.pmra_x * ( np.cos(training_data.dec_rad) * np.cos(training_data.dec_rad) )\n",
    "\n",
    "    testing_data['ra_rad'] = deg2rad(testing_data['ra'])\n",
    "    testing_data['dec_rad'] = deg2rad(testing_data['dec'])\n",
    "\n",
    "    testing_data['ang_coord_1'] = -1 * testing_data.pmdec_x * ( np.cos(testing_data.ra_rad)) -  testing_data.pmdec_x * np.cos(testing_data.dec_rad) * np.sin(testing_data.dec_rad * np.sin(testing_data.ra_rad))\n",
    "    testing_data['ang_coord_2'] = -1 * testing_data.pmra_x *    np.cos(testing_data.dec_rad) * np.cos(testing_data.ra_rad) * np.sin(testing_data.dec_rad + testing_data.pmra_x * np.sin(testing_data.ra_rad))\n",
    "    testing_data['ang_coord_3'] = testing_data.pmra_x * ( np.cos(testing_data.dec_rad) * np.cos(testing_data.dec_rad) )\n",
    "\n",
    "    testing_data_eval, testing_data_selflab = train_test_split(testing_data, test_size=0.5)\n",
    "    self_labs.append(testing_data_selflab)\n",
    "\n",
    "#     #differentiate training and test data's X and y variables\n",
    "#     X_train = training_data[['x', 'y', 'z', 'vx', 'vy', 'vz']] #[['ra', 'dec', 'pmra', 'pmdec']]\n",
    "#     y_train = training_data.stream_mask\n",
    "\n",
    "#     X_test = testing_data[['x', 'y', 'z', 'vx', 'vy', 'vz']] #[['ra', 'dec', 'pmra', 'pmdec']]\n",
    "#     y_test = testing_data.stream_mask\n",
    "\n",
    "\n",
    "    #differentiate training and test data's X and y variables\n",
    "    #X_train = training_data[['ra', 'dec', 'pmra', 'pmdec', 'phot_g_mean_mag', 'phot_bp_mean_mag', 'phot_rp_mean_mag']]\n",
    "    X_train = training_data[['ra', 'dec', 'pmra_x', 'pmdec_x', 'ang_coord_1', 'ang_coord_2', 'ang_coord_3', 'g', 'g_bp', 'g_rp']]\n",
    "    y_train = training_data.stream_mask\n",
    "\n",
    "    ##eval\n",
    "    #X_test = testing_data_eval[['ra', 'dec', 'pmra', 'pmdec', 'phot_g_mean_mag', 'phot_bp_mean_mag', 'phot_rp_mean_mag']]\n",
    "    X_test_eval = testing_data_eval[['ra', 'dec', 'pmra_x', 'pmdec_x','ang_coord_1', 'ang_coord_2', 'ang_coord_3', 'g', 'g_bp', 'g_rp']]\n",
    "    y_test_eval = testing_data_eval.stream_mask\n",
    "\n",
    "    ##self_lab\n",
    "    #X_test = testing_data_selflab[['ra', 'dec', 'pmra', 'pmdec', 'phot_g_mean_mag', 'phot_bp_mean_mag', 'phot_rp_mean_mag']]\n",
    "    X_test_selflab = testing_data_selflab[['ra', 'dec', 'pmra_x', 'pmdec_x','ang_coord_1', 'ang_coord_2', 'ang_coord_3', 'g', 'g_bp', 'g_rp']]\n",
    "    y_test_selflab = testing_data_selflab.stream_mask\n",
    "\n",
    "\n",
    "    #scale the features using standard scaler (scaling not required for logistic regression)\n",
    "    scaler = StandardScaler()\n",
    "    X_train_scaled = scaler.fit(X_train).transform(X_train)\n",
    "    X_test_scaled_eval = scaler.fit(X_train).transform(X_test_eval)\n",
    "    X_test_scaled_selflab = scaler.fit(X_train).transform(X_test_selflab)\n",
    "\n",
    "\n",
    "\n",
    "\n",
    "    #use mean square sum for angular velocity (wx/N, wy/N, wz/N), where N = sqrt(wx^2 + wy^2 + wz^2)\n",
    "#     X_train_scaled = pd.DataFrame(X_train_scaled, columns = ['ra', 'dec', 'pmra', 'pmdec','ang_coord_1', 'ang_coord_2', 'ang_coord_3', 'phot_g_mean_mag', 'phot_bp_mean_mag', 'phot_rp_mean_mag'])\n",
    "#     X_test_scaled = pd.DataFrame(X_test_scaled, columns = ['ra', 'dec', 'pmra', 'pmdec','ang_coord_1', 'ang_coord_2', 'ang_coord_3', 'phot_g_mean_mag', 'phot_bp_mean_mag', 'phot_rp_mean_mag']) \n",
    "\n",
    "#     X_train_scaled['mean_square_sum'] = X_train_scaled['ang_coord_1']**2+X_train_scaled['ang_coord_2']**2+X_train_scaled['ang_coord_3']**2\n",
    "#     X_train_scaled['ang_coord_1'] = X_train_scaled['ang_coord_1'] / X_train_scaled['mean_square_sum']\n",
    "#     X_train_scaled['ang_coord_2'] = X_train_scaled['ang_coord_2'] / X_train_scaled['mean_square_sum']\n",
    "#     X_train_scaled['ang_coord_3'] = X_train_scaled['ang_coord_3'] / X_train_scaled['mean_square_sum']\n",
    "#     X_train_scaled = X_train_scaled.drop(['mean_square_sum'], axis = 1)\n",
    "#     X_train_scaled = np.array(X_train_scaled)\n",
    "\n",
    "#     X_test_scaled['mean_square_sum'] = X_test_scaled['ang_coord_1']**2+X_test_scaled['ang_coord_2']**2+X_test_scaled['ang_coord_3']**2\n",
    "#     X_test_scaled['ang_coord_1'] = X_test_scaled['ang_coord_1'] / X_test_scaled['mean_square_sum']\n",
    "#     X_test_scaled['ang_coord_2'] = X_test_scaled['ang_coord_2'] / X_test_scaled['mean_square_sum']\n",
    "#     X_test_scaled['ang_coord_3'] = X_test_scaled['ang_coord_3'] / X_test_scaled['mean_square_sum']\n",
    "#     X_test_scaled = X_test_scaled.drop(['mean_square_sum'], axis = 1)\n",
    "#     X_test_scaled = np.array(X_test_scaled)    \n",
    "\n",
    "    precision, recall, accuracy, auc, y_pred, y_true, forest = random_forest_model(X_train_scaled, X_test_scaled_selflab, y_train, y_test_selflab, \n",
    "                                                                           n_trees = n_estimator_opt, criterion = \"gini\", max_depth = depth_opt,\n",
    "                                                                           min_samples_split = min_split_opt, min_samples_leaf = min_leaf_opt, \n",
    "                                                                           min_weight_fraction_leaf = 0, max_features = max_feature_opt, \n",
    "                                                                           max_leaf_nodes = None, min_impurity_decrease = 0, \n",
    "                                                                           min_impurity_split = 1e-7, bootstrap = bootstrap_opt,\n",
    "                                                                           oob_score = False, n_jobs = 1, \n",
    "                                                                           random_state = None, verbose = 0, warm_start = False, class_weight = {0:weight_0,1:weight_1}) #\"balanced\"\n",
    "\n",
    "\n",
    "    #y_test = results_use[streams_threshold_tuning[stream_index]].stream_mask\n",
    "    #y_pred = results_use[streams_threshold_tuning[stream_index]][col_name]\n",
    "    #Truly in Cluster\n",
    "    X_correct = testing_data_selflab[y_test_selflab & y_pred] #predicted in cluster (true positives)\n",
    "    X_incorrect = testing_data_selflab[y_test_selflab & ~y_pred] #predicted not in cluster (false negative)\n",
    "    #Truly not in Cluster\n",
    "    X2_correct = testing_data_selflab[~y_test_selflab & ~y_pred] #predicted not in cluster (true negative)\n",
    "    X2_incorrect = testing_data_selflab[~y_test_selflab & y_pred] #predicted in cluster (false positive)\n",
    "\n",
    "    X_correct_cum = X_correct\n",
    "    X_incorrect_cum = X_incorrect\n",
    "    X2_correct_cum = X2_correct\n",
    "    X2_incorrect_cum = X2_incorrect\n",
    "\n",
    "    true_positives.append(len(X_correct))\n",
    "    false_positives.append(len(X2_incorrect))\n",
    "    true_negatives.append(len(X2_correct))\n",
    "    false_negatives.append(len(X_incorrect))\n",
    "    y_preds.append(y_pred)\n",
    "    testing_datas.append(testing_data_selflab)\n",
    "    training_datas.append(training_data)\n",
    "    training_streams.append(stream_train)\n",
    "    testing_streams.append(stream_test)\n",
    "    correct_X.append(X_correct)\n",
    "    incorrect_X2.append(X2_incorrect)\n",
    "\n",
    "    final_result_rf = pd.DataFrame()\n",
    "    final_result_rf['true_positives']=true_positives\n",
    "    final_result_rf['false_positives']=false_positives\n",
    "    final_result_rf['true_negatives']=true_negatives\n",
    "    final_result_rf['false_negatives']=false_negatives\n",
    "    #final_result['auc'] = aucs\n",
    "    final_result_rf['precision'] = final_result_rf.true_positives / (final_result_rf.true_positives + final_result_rf.false_positives)\n",
    "    final_result_rf['recall'] = final_result_rf.true_positives / (final_result_rf.true_positives + final_result_rf.false_negatives)\n",
    "    final_result_rf['f1'] = 2*(final_result_rf.precision * final_result_rf.recall)/(final_result_rf.precision + final_result_rf.recall)\n",
    "#     beta = 0.1\n",
    "#     final_result_rf['f1_prec_10'] = (1 + beta**2) * (final_result_rf.precision * final_result_rf.recall) / (beta**2 * final_result_rf.precision + final_result_rf.recall)\n",
    "    beta = 0.5\n",
    "    final_result_rf['f0.5'] = (1 + beta**2) * (final_result_rf.precision * final_result_rf.recall) / (beta**2 * final_result_rf.precision + final_result_rf.recall)\n",
    "    beta = 2\n",
    "    final_result_rf['f2'] = (1 + beta**2) * (final_result_rf.precision * final_result_rf.recall) / (beta**2 * final_result_rf.precision + final_result_rf.recall)\n",
    "    \n",
    "    final_result_rf['bal_acc']= (final_result_rf.true_positives/(final_result_rf.true_positives + final_result_rf.false_negatives)+ final_result_rf.true_negatives/(final_result_rf.true_negatives+final_result_rf.false_positives))/2\n",
    "    final_result_rf['matt_coef'] = (final_result_rf.true_positives * final_result_rf.true_negatives - final_result_rf.false_positives * final_result_rf.false_negatives)/((final_result_rf.true_positives + final_result_rf.false_positives)*(final_result_rf.true_positives + final_result_rf.false_negatives)*(final_result_rf.true_negatives + final_result_rf.false_positives)*(final_result_rf.true_negatives + final_result_rf.false_negatives))**0.5\n",
    "\n",
    "    recursive_frames.append(final_result_rf)\n",
    "    iteration_1.append(final_result_rf)\n",
    "    \n",
    "    plt.figure(figsize=(10,6))\n",
    "    plt.scatter(X_correct_cum['ra'], X_correct_cum['dec'], label = 'Added Stars TP')\n",
    "    plt.scatter(X2_incorrect_cum['ra'], X2_incorrect_cum['dec'], label = 'Added Stars FP')\n",
    "    plt.scatter(stream_train_gd1['ra'], stream_train_gd1['dec'], label = 'Original Stars')\n",
    "    plt.legend()\n",
    "    plt.title('Iteration 1: Original Training vs. Added Stars')\n",
    "\n",
    "    #do the recursion more times\n",
    "    for i in tqdm(range(1,15)): #do it 14 more times\n",
    "        plot_permit = 'no'\n",
    "        if i == 14:\n",
    "            plot_permit = 'yes'\n",
    "        training_streams, testing_streams, correct_X, incorrect_X2, self_labs, final_result_rf_updated,X_correct_cum, X2_incorrect_cum, forest = rf_recursion_gd1(training_streams, testing_streams, correct_X, incorrect_X2, self_labs, final_result_rf, plot_permit, X_correct_cum,X2_incorrect_cum)\n",
    "#         plt.figure(figsize=(10,6))\n",
    "#         plt.scatter(X_correct_cum['ra'], X_correct_cum['dec'], label = 'Added Stars TP')\n",
    "#         plt.scatter(X2_incorrect_cum['ra'], X2_incorrect_cum['dec'], label = 'Added Stars FP')\n",
    "#         plt.scatter(stream_train_gd1['ra'], stream_train_gd1['dec'], label = 'Original Stars')\n",
    "#         plt.legend()\n",
    "#         plt.title(\"Iteration \" + str(i+1) + \": Original Training vs. Added Stars\")\n",
    "        recursive_frames.append(final_result_rf_updated)\n",
    "    iteration_final.append(final_result_rf_updated)\n",
    " "
   ]
  },
  {
   "cell_type": "markdown",
   "metadata": {},
   "source": [
    "# Analyze Results"
   ]
  },
  {
   "cell_type": "markdown",
   "metadata": {
    "heading_collapsed": true
   },
   "source": [
    "## Plot Metric Evolution"
   ]
  },
  {
   "cell_type": "code",
   "execution_count": 49,
   "metadata": {
    "collapsed": false,
    "deletable": true,
    "editable": true,
    "hidden": true
   },
   "outputs": [
    {
     "data": {
      "text/plain": [
       "<matplotlib.legend.Legend at 0x2acb8167db38>"
      ]
     },
     "execution_count": 49,
     "metadata": {},
     "output_type": "execute_result"
    },
    {
     "data": {
      "image/png": "[encoded data removed]",
      "text/plain": [
       "<Figure size 720x432 with 1 Axes>"
      ]
     },
     "metadata": {
      "needs_background": "light"
     },
     "output_type": "display_data"
    }
   ],
   "source": [
    "#plot performance\n",
    "x_vals = [1,2,3,4,5,6,7,8,9,10,11,12,13,14,15]\n",
    "precs_plt = [recursive_frames_adj[i-1].mean().precision for i in x_vals]\n",
    "recs_plt = [recursive_frames_adj[i-1].mean().recall for i in x_vals]\n",
    "f1s_plt = [recursive_frames_adj[i-1].mean().f1 for i in x_vals]\n",
    "bal_acc_plt = [recursive_frames_adj[i-1].mean().bal_acc for i in x_vals]\n",
    "matt_coeff_plt = [recursive_frames_adj[i-1].mean().matt_coef for i in x_vals]\n",
    "\n",
    "plt.figure(figsize = (10,6))\n",
    "plt.plot(x_vals, precs_plt,label= 'precision')\n",
    "plt.plot(x_vals, recs_plt, label = 'recall')\n",
    "plt.plot(x_vals, f1s_plt, label = 'F1')\n",
    "plt.plot(x_vals, bal_acc_plt, label = 'bal_accuracy')\n",
    "plt.plot(x_vals, matt_coeff_plt, label = 'MCC')\n",
    "plt.xlabel('iteration')\n",
    "plt.ylabel('Metric')\n",
    "plt.title('Metric as Function of Iteration with class_weight ratio of '+str(weight_1), fontsize = 20)\n",
    "plt.legend()\n",
    "    \n",
    "    \n",
    "    "
   ]
  },
  {
   "cell_type": "markdown",
   "metadata": {
    "heading_collapsed": true
   },
   "source": [
    "## Obtain Feature Importances"
   ]
  },
  {
   "cell_type": "code",
   "execution_count": 50,
   "metadata": {
    "collapsed": false,
    "deletable": true,
    "editable": true,
    "hidden": true
   },
   "outputs": [
    {
     "name": "stdout",
     "output_type": "stream",
     "text": [
      "Feature ranking:\n",
      "1. feature 4 (0.280051)\n",
      "2. feature 2 (0.233492)\n",
      "3. feature 6 (0.204176)\n",
      "4. feature 3 (0.106397)\n",
      "5. feature 5 (0.073073)\n",
      "6. feature 1 (0.062187)\n",
      "7. feature 0 (0.035476)\n",
      "8. feature 7 (0.002124)\n",
      "9. feature 9 (0.001665)\n",
      "10. feature 8 (0.001359)\n"
     ]
    },
    {
     "data": {
      "image/png": "[encoded data removed]",
      "text/plain": [
       "<Figure size 432x288 with 1 Axes>"
      ]
     },
     "metadata": {
      "needs_background": "light"
     },
     "output_type": "display_data"
    }
   ],
   "source": [
    "importances = forest.feature_importances_\n",
    "std = np.std([tree.feature_importances_ for tree in forest.estimators_],\n",
    "             axis=0)\n",
    "indices = np.argsort(importances)[::-1]\n",
    "\n",
    "# Print the feature ranking\n",
    "print(\"Feature ranking:\")\n",
    "\n",
    "for f in range(X_train_scaled.shape[1]):\n",
    "    print(\"%d. feature %d (%f)\" % (f + 1, indices[f], importances[indices[f]]))\n",
    "\n",
    "# Plot the impurity-based feature importances of the forest\n",
    "plt.figure()\n",
    "plt.title(\"Feature importances\")\n",
    "plt.bar(range(X_train_scaled.shape[1]), importances[indices],\n",
    "        color=\"r\", yerr=std[indices], align=\"center\")\n",
    "plt.xticks(range(X_train_scaled.shape[1]), indices)\n",
    "plt.xlim([-1, X_train_scaled.shape[1]])\n",
    "plt.show()"
   ]
  },
  {
   "cell_type": "markdown",
   "metadata": {},
   "source": [
    "## Show Table of RF and Recurrent RF Result for GD1 (One Iteration)"
   ]
  },
  {
   "cell_type": "code",
   "execution_count": 54,
   "metadata": {
    "collapsed": false,
    "deletable": true,
    "editable": true
   },
   "outputs": [
    {
     "data": {
      "text/html": [
       "<div>\n",
       "<style scoped>\n",
       "    .dataframe tbody tr th:only-of-type {\n",
       "        vertical-align: middle;\n",
       "    }\n",
       "\n",
       "    .dataframe tbody tr th {\n",
       "        vertical-align: top;\n",
       "    }\n",
       "\n",
       "    .dataframe thead th {\n",
       "        text-align: right;\n",
       "    }\n",
       "</style>\n",
       "<table border=\"1\" class=\"dataframe\">\n",
       "  <thead>\n",
       "    <tr style=\"text-align: right;\">\n",
       "      <th></th>\n",
       "      <th>true_positives</th>\n",
       "      <th>false_positives</th>\n",
       "      <th>true_negatives</th>\n",
       "      <th>false_negatives</th>\n",
       "      <th>precision</th>\n",
       "      <th>recall</th>\n",
       "      <th>f1</th>\n",
       "      <th>f1_prec_10</th>\n",
       "      <th>f1_prec_5</th>\n",
       "      <th>f1_rec_5</th>\n",
       "      <th>f1_rec_10</th>\n",
       "    </tr>\n",
       "  </thead>\n",
       "  <tbody>\n",
       "    <tr>\n",
       "      <td>0</td>\n",
       "      <td>533</td>\n",
       "      <td>129</td>\n",
       "      <td>133500</td>\n",
       "      <td>379</td>\n",
       "      <td>0.805136</td>\n",
       "      <td>0.58443</td>\n",
       "      <td>0.677255</td>\n",
       "      <td>0.802137</td>\n",
       "      <td>0.793609</td>\n",
       "      <td>0.590657</td>\n",
       "      <td>0.58602</td>\n",
       "    </tr>\n",
       "  </tbody>\n",
       "</table>\n",
       "</div>"
      ],
      "text/plain": [
       "   true_positives  false_positives  true_negatives  false_negatives  \\\n",
       "0             533              129          133500              379   \n",
       "\n",
       "   precision   recall        f1  f1_prec_10  f1_prec_5  f1_rec_5  f1_rec_10  \n",
       "0   0.805136  0.58443  0.677255    0.802137   0.793609  0.590657    0.58602  "
      ]
     },
     "execution_count": 54,
     "metadata": {},
     "output_type": "execute_result"
    }
   ],
   "source": [
    "recursive_frames[0]"
   ]
  },
  {
   "cell_type": "code",
   "execution_count": 55,
   "metadata": {
    "collapsed": false,
    "deletable": true,
    "editable": true
   },
   "outputs": [
    {
     "data": {
      "text/html": [
       "<div>\n",
       "<style scoped>\n",
       "    .dataframe tbody tr th:only-of-type {\n",
       "        vertical-align: middle;\n",
       "    }\n",
       "\n",
       "    .dataframe tbody tr th {\n",
       "        vertical-align: top;\n",
       "    }\n",
       "\n",
       "    .dataframe thead th {\n",
       "        text-align: right;\n",
       "    }\n",
       "</style>\n",
       "<table border=\"1\" class=\"dataframe\">\n",
       "  <thead>\n",
       "    <tr style=\"text-align: right;\">\n",
       "      <th></th>\n",
       "      <th>true_positives</th>\n",
       "      <th>false_positives</th>\n",
       "      <th>true_negatives</th>\n",
       "      <th>false_negatives</th>\n",
       "      <th>precision</th>\n",
       "      <th>recall</th>\n",
       "      <th>f1</th>\n",
       "      <th>f1_prec_10</th>\n",
       "      <th>f1_prec_5</th>\n",
       "      <th>f1_rec_5</th>\n",
       "      <th>f1_rec_10</th>\n",
       "    </tr>\n",
       "  </thead>\n",
       "  <tbody>\n",
       "    <tr>\n",
       "      <td>0</td>\n",
       "      <td>785</td>\n",
       "      <td>942</td>\n",
       "      <td>132545</td>\n",
       "      <td>125</td>\n",
       "      <td>0.454545</td>\n",
       "      <td>0.862637</td>\n",
       "      <td>0.595374</td>\n",
       "      <td>0.456685</td>\n",
       "      <td>0.462969</td>\n",
       "      <td>0.833844</td>\n",
       "      <td>0.855037</td>\n",
       "    </tr>\n",
       "  </tbody>\n",
       "</table>\n",
       "</div>"
      ],
      "text/plain": [
       "   true_positives  false_positives  true_negatives  false_negatives  \\\n",
       "0             785              942          132545              125   \n",
       "\n",
       "   precision    recall        f1  f1_prec_10  f1_prec_5  f1_rec_5  f1_rec_10  \n",
       "0   0.454545  0.862637  0.595374    0.456685   0.462969  0.833844   0.855037  "
      ]
     },
     "execution_count": 55,
     "metadata": {},
     "output_type": "execute_result"
    }
   ],
   "source": [
    "recursive_frames[14]"
   ]
  },
  {
   "cell_type": "markdown",
   "metadata": {
    "heading_collapsed": true
   },
   "source": [
    "## Visualize GD1"
   ]
  },
  {
   "cell_type": "code",
   "execution_count": 51,
   "metadata": {
    "collapsed": false,
    "deletable": true,
    "editable": true,
    "hidden": true
   },
   "outputs": [
    {
     "data": {
      "text/plain": [
       "<matplotlib.legend.Legend at 0x2b897a4e3cc0>"
      ]
     },
     "execution_count": 51,
     "metadata": {},
     "output_type": "execute_result"
    },
    {
     "data": {
      "image/png": "[encoded data removed]",
      "text/plain": [
       "<Figure size 720x432 with 1 Axes>"
      ]
     },
     "metadata": {
      "needs_background": "light"
     },
     "output_type": "display_data"
    }
   ],
   "source": [
    "plt.figure(figsize=(10,6))\n",
    "plt.scatter(dataset_gd1['ra'],dataset_gd1['dec'], label = 'GD1 Stars')\n",
    "plt.scatter(dataset_nongd['ra'], dataset_nongd['dec'], label = 'background stars', s = 0.1, alpha = 0.2)\n",
    "plt.title('Original Data Set')\n",
    "plt.xlabel(\"ra\")\n",
    "plt.ylabel(\"dec\")\n",
    "plt.legend()"
   ]
  },
  {
   "cell_type": "markdown",
   "metadata": {
    "heading_collapsed": true
   },
   "source": [
    "## Visualize True Positives and False Positives"
   ]
  },
  {
   "cell_type": "code",
   "execution_count": 81,
   "metadata": {
    "collapsed": false,
    "deletable": true,
    "editable": true,
    "hidden": true
   },
   "outputs": [
    {
     "data": {
      "text/plain": [
       "Text(0.5, 1.0, 'Original Training vs. Added Stars')"
      ]
     },
     "execution_count": 81,
     "metadata": {},
     "output_type": "execute_result"
    },
    {
     "data": {
      "image/png": "[encoded data removed]",
      "text/plain": [
       "<Figure size 720x432 with 1 Axes>"
      ]
     },
     "metadata": {
      "needs_background": "light"
     },
     "output_type": "display_data"
    }
   ],
   "source": [
    "#X_added = X_correct_cum.append(X2_incorrect_cum, ignore_index = False, sort = False)\n",
    "plt.figure(figsize=(10,6))\n",
    "plt.scatter(X_correct_cum['ra'], X_correct_cum['dec'], label = 'Added Stars TP')\n",
    "plt.scatter(X2_incorrect_cum['ra'], X2_incorrect_cum['dec'], label = 'Added Stars FP')\n",
    "plt.scatter(stream_train_gd1['ra'], stream_train_gd1['dec'], label = 'Original Stars')\n",
    "plt.legend()\n",
    "plt.title('Original Training vs. Added Stars')"
   ]
  }
 ],
 "metadata": {
  "kernelspec": {
   "display_name": "Python 3",
   "language": "python",
   "name": "python3"
  },
  "language_info": {
   "codemirror_mode": {
    "name": "ipython",
    "version": 3
   },
   "file_extension": ".py",
   "mimetype": "text/x-python",
   "name": "python",
   "nbconvert_exporter": "python",
   "pygments_lexer": "ipython3",
   "version": "3.5.3"
  }
 },
 "nbformat": 4,
 "nbformat_minor": 4
}
