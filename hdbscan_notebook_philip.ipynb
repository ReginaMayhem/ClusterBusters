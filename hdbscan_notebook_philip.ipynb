{
 "cells": [
  {
   "cell_type": "code",
   "execution_count": 1,
   "metadata": {},
   "outputs": [
    {
     "name": "stdout",
     "output_type": "stream",
     "text": [
      "3.6.3 (default, Oct 13 2017, 12:12:21) \n",
      "[GCC Intel(R) C++ gcc 4.8.5 mode]\n"
     ]
    }
   ],
   "source": [
    "import pandas as pd\n",
    "import os\n",
    "import sys\n",
    "import hdbscan\n",
    "import pickle\n",
    "print(sys.version)\n",
    "import numpy as np"
   ]
  },
  {
   "cell_type": "code",
   "execution_count": 2,
   "metadata": {},
   "outputs": [
    {
     "data": {
      "text/plain": [
       "'0.25.1'"
      ]
     },
     "execution_count": 2,
     "metadata": {},
     "output_type": "execute_result"
    }
   ],
   "source": [
    "pd.__version__"
   ]
  },
  {
   "cell_type": "code",
   "execution_count": 3,
   "metadata": {},
   "outputs": [],
   "source": [
    "filename = \"../gd1.h5\""
   ]
  },
  {
   "cell_type": "code",
   "execution_count": 4,
   "metadata": {},
   "outputs": [],
   "source": [
    "dataset = pd.read_hdf(filename, \"df\")"
   ]
  },
  {
   "cell_type": "code",
   "execution_count": 5,
   "metadata": {},
   "outputs": [
    {
     "data": {
      "text/plain": [
       "Index(['source_id_x', 'ra', 'dec', 'parallax_x', 'parallax_error_x', 'pmra_x',\n",
       "       'pmra_error_x', 'pmdec_x', 'pmdec_error_x', 'ra_parallax_corr',\n",
       "       'ra_pmra_corr', 'ra_pmdec_corr', 'dec_parallax_corr', 'dec_pmra_corr',\n",
       "       'dec_pmdec_corr', 'parallax_pmra_corr', 'parallax_pmdec_corr',\n",
       "       'pmra_pmdec_corr', 'visibility_periods_used', 'g',\n",
       "       'phot_g_mean_flux_over_error', 'bp', 'phot_bp_mean_flux_over_error',\n",
       "       'rp', 'phot_rp_mean_flux_over_error', 'phot_bp_rp_excess_factor',\n",
       "       'astrometric_chi2_al_x', 'astrometric_n_good_obs_al_x', 'pm_mask',\n",
       "       'gi_cmd_mask', 'phi1', 'phi2', 'pm_phi1_cosphi2_no_reflex',\n",
       "       'pm_phi2_no_reflex', 'pm_phi1_cosphi2', 'pm_phi2', 'stream_track_mask',\n",
       "       'g_bp', 'g_rp', 'x', 'y', 'z', 'vx', 'vy', 'vz', 'wx', 'wy', 'wz',\n",
       "       'wrad', 'wtheta', 'wphi', 'bp_rp', 'bp_g', 'phot_g_mean_mag',\n",
       "       'parallax_y', 'parallax_error_y', 'astrometric_chi2_al_y',\n",
       "       'astrometric_n_good_obs_al_y', 'source_id_y', 'pmra_y', 'pmdec_y',\n",
       "       'pmra_error_y', 'pmdec_error_y', 'uwe', 'ruwe', 'rlen', 'parallax',\n",
       "       'parallax_error', 'parallax_over_error', 'distance', 'distance_std'],\n",
       "      dtype='object')"
      ]
     },
     "execution_count": 5,
     "metadata": {},
     "output_type": "execute_result"
    }
   ],
   "source": [
    "dataset.columns"
   ]
  },
  {
   "cell_type": "code",
   "execution_count": 6,
   "metadata": {},
   "outputs": [],
   "source": [
    "dataset[\"label\"] = dataset.pm_mask & dataset.gi_cmd_mask & dataset.stream_track_mask"
   ]
  },
  {
   "cell_type": "code",
   "execution_count": 54,
   "metadata": {},
   "outputs": [],
   "source": [
    "datasets = {}\n",
    "datasets[\"non_gd1\"] = dataset[~dataset[\"label\"]]\n",
    "datasets[\"gd1\"] = dataset[dataset[\"label\"]]"
   ]
  },
  {
   "cell_type": "code",
   "execution_count": 85,
   "metadata": {},
   "outputs": [],
   "source": [
    "sample_size = 1*10**5\n",
    "sample = pd.concat((datasets[\"gd1\"], datasets[\"non_gd1\"].sample(sample_size) ), axis=0, ignore_index=True)"
   ]
  },
  {
   "cell_type": "code",
   "execution_count": 86,
   "metadata": {},
   "outputs": [],
   "source": [
    "sample_clust = sample[[\"ra\", \"dec\", \"pmdec_x\", \"pmra_x\"]]"
   ]
  },
  {
   "cell_type": "code",
   "execution_count": 124,
   "metadata": {},
   "outputs": [],
   "source": [
    "clusterer = hdbscan.HDBSCAN(min_cluster_size = 1000, metric=\"mahalanobis\", allow_single_cluster=True, V = np.cov(sample_clust.T))"
   ]
  },
  {
   "cell_type": "code",
   "execution_count": 125,
   "metadata": {},
   "outputs": [],
   "source": [
    "clusterer.fit(sample_clust)\n",
    "pickle.dump( clusterer, open( \"cluster_test.p\", \"wb\" ) )\n",
    "\n"
   ]
  },
  {
   "cell_type": "code",
   "execution_count": 97,
   "metadata": {},
   "outputs": [],
   "source": [
    "test = pickle.load(open(\"cluster_test.p\", \"rb\"))"
   ]
  },
  {
   "cell_type": "code",
   "execution_count": 98,
   "metadata": {},
   "outputs": [
    {
     "data": {
      "text/plain": [
       "HDBSCAN(algorithm='best', allow_single_cluster=True, alpha=1.0,\n",
       "        approx_min_span_tree=True, cluster_selection_method='eom',\n",
       "        core_dist_n_jobs=4, gen_min_span_tree=False, leaf_size=40,\n",
       "        match_reference_implementation=False, memory=Memory(location=None),\n",
       "        metric='mahalanobis', min_cluster_size=500, min_samples=None, p=None,\n",
       "        prediction_data=False)"
      ]
     },
     "execution_count": 98,
     "metadata": {},
     "output_type": "execute_result"
    }
   ],
   "source": [
    "test"
   ]
  },
  {
   "cell_type": "code",
   "execution_count": 120,
   "metadata": {},
   "outputs": [],
   "source": [
    "test.labels_\n",
    "n_clusters = len(np.unique(test.labels_)) - 1\n",
    "predicted_labels = (test.labels_ + 1) == 2"
   ]
  },
  {
   "cell_type": "code",
   "execution_count": 121,
   "metadata": {},
   "outputs": [],
   "source": [
    "from sklearn import metrics"
   ]
  },
  {
   "cell_type": "code",
   "execution_count": 122,
   "metadata": {},
   "outputs": [],
   "source": [
    "precision = metrics.precision_score(sample[\"label\"], predicted_labels)\n",
    "recall = metrics.recall_score(sample[\"label\"], predicted_labels)\n",
    "f1 = metrics.f1_score(sample[\"label\"], predicted_labels)"
   ]
  },
  {
   "cell_type": "code",
   "execution_count": 123,
   "metadata": {},
   "outputs": [
    {
     "name": "stdout",
     "output_type": "stream",
     "text": [
      "0.9278996865203761 0.2991409802930773 0.45242644249140235\n"
     ]
    }
   ],
   "source": [
    "print(precision, recall, f1)"
   ]
  },
  {
   "cell_type": "code",
   "execution_count": 108,
   "metadata": {},
   "outputs": [
    {
     "data": {
      "text/plain": [
       "2"
      ]
     },
     "execution_count": 108,
     "metadata": {},
     "output_type": "execute_result"
    }
   ],
   "source": [
    "n_clusters"
   ]
  },
  {
   "cell_type": "code",
   "execution_count": 109,
   "metadata": {},
   "outputs": [],
   "source": [
    "df = pd.DataFrame({\"label\": test.labels_})"
   ]
  },
  {
   "cell_type": "code",
   "execution_count": 115,
   "metadata": {},
   "outputs": [
    {
     "data": {
      "text/html": [
       "<div>\n",
       "<style scoped>\n",
       "    .dataframe tbody tr th:only-of-type {\n",
       "        vertical-align: middle;\n",
       "    }\n",
       "\n",
       "    .dataframe tbody tr th {\n",
       "        vertical-align: top;\n",
       "    }\n",
       "\n",
       "    .dataframe thead th {\n",
       "        text-align: right;\n",
       "    }\n",
       "</style>\n",
       "<table border=\"1\" class=\"dataframe\">\n",
       "  <thead>\n",
       "    <tr style=\"text-align: right;\">\n",
       "      <th></th>\n",
       "    </tr>\n",
       "    <tr>\n",
       "      <th>label</th>\n",
       "    </tr>\n",
       "  </thead>\n",
       "  <tbody>\n",
       "    <tr>\n",
       "      <td>-1</td>\n",
       "    </tr>\n",
       "    <tr>\n",
       "      <td>0</td>\n",
       "    </tr>\n",
       "    <tr>\n",
       "      <td>1</td>\n",
       "    </tr>\n",
       "  </tbody>\n",
       "</table>\n",
       "</div>"
      ],
      "text/plain": [
       "Empty DataFrame\n",
       "Columns: []\n",
       "Index: [-1, 0, 1]"
      ]
     },
     "execution_count": 115,
     "metadata": {},
     "output_type": "execute_result"
    }
   ],
   "source": [
    "df.groupby(\"label\").count()"
   ]
  },
  {
   "cell_type": "code",
   "execution_count": 117,
   "metadata": {},
   "outputs": [],
   "source": [
    "from collections import Counter"
   ]
  },
  {
   "cell_type": "code",
   "execution_count": 118,
   "metadata": {},
   "outputs": [],
   "source": [
    "c = Counter(test.labels_)"
   ]
  },
  {
   "cell_type": "code",
   "execution_count": 119,
   "metadata": {},
   "outputs": [
    {
     "data": {
      "text/plain": [
       "Counter({-1: 27487, 0: 73854, 1: 638})"
      ]
     },
     "execution_count": 119,
     "metadata": {},
     "output_type": "execute_result"
    }
   ],
   "source": [
    "c"
   ]
  },
  {
   "cell_type": "code",
   "execution_count": null,
   "metadata": {},
   "outputs": [],
   "source": []
  }
 ],
 "metadata": {
  "kernelspec": {
   "display_name": "Python 3",
   "language": "python",
   "name": "python3"
  },
  "language_info": {
   "codemirror_mode": {
    "name": "ipython",
    "version": 3
   },
   "file_extension": ".py",
   "mimetype": "text/x-python",
   "name": "python",
   "nbconvert_exporter": "python",
   "pygments_lexer": "ipython3",
   "version": "3.6.3"
  }
 },
 "nbformat": 4,
 "nbformat_minor": 4
}
