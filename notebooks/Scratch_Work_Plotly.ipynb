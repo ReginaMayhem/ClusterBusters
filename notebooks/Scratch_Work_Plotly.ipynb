{
 "cells": [
  {
   "cell_type": "code",
   "execution_count": 2,
   "metadata": {},
   "outputs": [],
   "source": [
    "test_dict = {(0.1,\n",
    "  1): [[0.9047619047619048,\n",
    "   0.75,\n",
    "   0.9378531073446328,\n",
    "   0.9444444444444444,\n",
    "   0.5,\n",
    "   0.9285714285714286,\n",
    "   0.90625,\n",
    "   0.9615384615384616,\n",
    "   0.8709677419354839,\n",
    "   0.8333333333333334], [0.9743589743589743,\n",
    "   1.0,\n",
    "   0.9378531073446328,\n",
    "   0.8947368421052632,\n",
    "   1.0,\n",
    "   1.0,\n",
    "   0.9354838709677419,\n",
    "   1.0,\n",
    "   0.9878048780487805,\n",
    "   0.8333333333333334], [0.946236559139785,\n",
    "   0.8571428571428571,\n",
    "   0.9351032448377581,\n",
    "   0.926829268292683,\n",
    "   0.8,\n",
    "   0.9661016949152542,\n",
    "   0.9206349206349206,\n",
    "   0.9767441860465116,\n",
    "   0.9216867469879518,\n",
    "   0.8461538461538461], [0.9501424501424502,\n",
    "   0.875,\n",
    "   0.9349759363883657,\n",
    "   0.9246411483253589,\n",
    "   0.875,\n",
    "   0.9696969696969697,\n",
    "   0.920866935483871,\n",
    "   0.9722222222222222,\n",
    "   0.922473867595819,\n",
    "   0.8452380952380953]],\n",
    " (0.1,\n",
    "  5): [[0.8,\n",
    "   0.7777777777777778,\n",
    "   0.8641304347826086,\n",
    "   0.8666666666666667,\n",
    "   1.0,\n",
    "   0.7941176470588235,\n",
    "   0.8823529411764706,\n",
    "   0.8125,\n",
    "   0.78,\n",
    "   1.0], [0.9473684210526315,\n",
    "   0.7777777777777778,\n",
    "   0.8688524590163934,\n",
    "   0.8125,\n",
    "   1.0,\n",
    "   0.9642857142857143,\n",
    "   1.0,\n",
    "   0.9285714285714286,\n",
    "   0.9176470588235294,\n",
    "   0.3333333333333333], [0.9592592592592593,\n",
    "   0.9285714285714286,\n",
    "   0.9496402877697842,\n",
    "   0.9537037037037037,\n",
    "   1.0,\n",
    "   0.9583333333333334,\n",
    "   0.9746835443037974,\n",
    "   0.9646017699115044,\n",
    "   0.945179584120983,\n",
    "   0.9130434782608695], [0.9542876588021777,\n",
    "   0.8676122931442081,\n",
    "   0.9186034446980701,\n",
    "   0.8953804347826088,\n",
    "   1.0,\n",
    "   0.960801393728223,\n",
    "   0.984375,\n",
    "   0.9491341991341993,\n",
    "   0.9340487546369898,\n",
    "   0.6666666666666666]],\n",
    " (0.2,\n",
    "  1): [[0.9622641509433962,\n",
    "   0.7222222222222222,\n",
    "   0.9393939393939394,\n",
    "   0.8636363636363636,\n",
    "   0.75,\n",
    "   0.8666666666666667,\n",
    "   0.8571428571428571,\n",
    "   1.0,\n",
    "   0.8981481481481481,\n",
    "   1.0], [0.9807692307692307,\n",
    "   1.0,\n",
    "   0.9393939393939394,\n",
    "   0.9047619047619048,\n",
    "   1.0,\n",
    "   0.9629629629629629,\n",
    "   0.967741935483871,\n",
    "   1.0,\n",
    "   0.97,\n",
    "   0.8333333333333334], [0.9659090909090909,\n",
    "   0.84375,\n",
    "   0.934640522875817,\n",
    "   0.8936170212765957,\n",
    "   0.8333333333333334,\n",
    "   0.9230769230769231,\n",
    "   0.9047619047619048,\n",
    "   1.0,\n",
    "   0.9292929292929293,\n",
    "   0.9090909090909091], [0.9626068376068376,\n",
    "   0.868421052631579,\n",
    "   0.9342359767891684,\n",
    "   0.8946886446886446,\n",
    "   0.8333333333333334,\n",
    "   0.928849902534113,\n",
    "   0.9057459677419355,\n",
    "   1.0,\n",
    "   0.9288775510204081,\n",
    "   0.9166666666666667]],\n",
    " (0.2,\n",
    "  5): [[0.8541666666666666,\n",
    "   0.9166666666666666,\n",
    "   0.8397435897435898,\n",
    "   0.9047619047619048,\n",
    "   1.0,\n",
    "   0.7931034482758621,\n",
    "   0.9375,\n",
    "   0.8421052631578947,\n",
    "   0.8020833333333334,\n",
    "   0.875], [0.9534883720930233,\n",
    "   1.0,\n",
    "   0.8733333333333333,\n",
    "   0.7916666666666666,\n",
    "   0.875,\n",
    "   1.0,\n",
    "   0.8108108108108109,\n",
    "   1.0,\n",
    "   0.9166666666666666,\n",
    "   0.7], [0.9672727272727273,\n",
    "   0.9807692307692307,\n",
    "   0.9527896995708155,\n",
    "   0.9396551724137931,\n",
    "   0.96875,\n",
    "   0.9634146341463414,\n",
    "   0.9563106796116505,\n",
    "   0.9761904761904762,\n",
    "   0.9498069498069498,\n",
    "   0.8857142857142857], [0.96165797914996,\n",
    "   0.9878048780487805,\n",
    "   0.9206820119352088,\n",
    "   0.8849637681159419,\n",
    "   0.9375,\n",
    "   0.9787234042553192,\n",
    "   0.899488245642092,\n",
    "   0.9863636363636364,\n",
    "   0.9364439324116743,\n",
    "   0.83]]}"
   ]
  },
  {
   "cell_type": "code",
   "execution_count": 14,
   "metadata": {},
   "outputs": [],
   "source": [
    "training_ratio = [i[0] for i in list(test_dict.keys())]\n",
    "multiple = [i[1] for i in list(test_dict.keys())]\n",
    "precisions = [sum(i[0])/len(i[0]) for i in list(test_dict.values())]\n",
    "recalls = [sum(i[1])/len(i[1]) for i in list(test_dict.values())]"
   ]
  },
  {
   "cell_type": "code",
   "execution_count": 15,
   "metadata": {},
   "outputs": [
    {
     "data": {
      "text/plain": [
       "([0.1, 0.1, 0.2, 0.2],\n",
       " [1, 5, 1, 5],\n",
       " [0.853772042192969,\n",
       "  0.8577545467462346,\n",
       "  0.8859474348153593,\n",
       "  0.8765130872605917])"
      ]
     },
     "execution_count": 15,
     "metadata": {},
     "output_type": "execute_result"
    }
   ],
   "source": [
    "training_ratio, multiple, precisions"
   ]
  },
  {
   "cell_type": "code",
   "execution_count": 29,
   "metadata": {},
   "outputs": [
    {
     "name": "stdout",
     "output_type": "stream",
     "text": [
      "Collecting nodejs\n",
      "  Downloading https://files.pythonhosted.org/packages/eb/ee/97ee0b973d072702eb2927c0eb90647cc0e4598663ed8e591c1ca4120dd9/nodejs-0.1.1.tar.gz\n",
      "Collecting optional-django==0.1.0 (from nodejs)\n",
      "  Downloading https://files.pythonhosted.org/packages/da/9e/b9b6a3854c613da94d695a2a52ca70ad1f0c65337c1b6e37f5f447964d19/optional-django-0.1.0.tar.gz\n",
      "Building wheels for collected packages: nodejs, optional-django\n",
      "  Building wheel for nodejs (setup.py) ... \u001b[?25ldone\n",
      "\u001b[?25h  Created wheel for nodejs: filename=nodejs-0.1.1-cp36-none-any.whl size=3494 sha256=6dde4d830ea748485dd561d2dab3e4e85b385e853a5ba9f9a08090624e2a39b8\n",
      "  Stored in directory: /home/ao1584/.cache/pip/wheels/08/dd/8a/460c064dd7665365011f49f5431df98d59970d3b8a1599436b\n",
      "  Building wheel for optional-django (setup.py) ... \u001b[?25ldone\n",
      "\u001b[?25h  Created wheel for optional-django: filename=optional_django-0.1.0-cp36-none-any.whl size=9980 sha256=d5a184b34a7eb0e0a409116c1f129610c4004bea51418a99b09ea7b0e1920024\n",
      "  Stored in directory: /home/ao1584/.cache/pip/wheels/b9/0f/04/efd2745af85731eae4a16fd4c33a95d3ba243b5ad9ab43a5c7\n",
      "Successfully built nodejs optional-django\n",
      "Installing collected packages: optional-django, nodejs\n",
      "Successfully installed nodejs-0.1.1 optional-django-0.1.0\n",
      "\u001b[33mWARNING: You are using pip version 19.2.3, however version 19.3.1 is available.\n",
      "You should consider upgrading via the 'pip install --upgrade pip' command.\u001b[0m\n"
     ]
    }
   ],
   "source": [
    "!pip install nodejs"
   ]
  },
  {
   "cell_type": "code",
   "execution_count": 30,
   "metadata": {},
   "outputs": [
    {
     "name": "stdout",
     "output_type": "stream",
     "text": [
      "Collecting npm\n",
      "  Downloading https://files.pythonhosted.org/packages/ca/4d/7d59d82b777f3f7a1128608195655a1b36c1de89c292363d53d52d92a807/npm-0.1.1.tar.gz\n",
      "Requirement already satisfied: optional-django==0.1.0 in ./ve2/lib/python3.6/site-packages (from npm) (0.1.0)\n",
      "Building wheels for collected packages: npm\n",
      "  Building wheel for npm (setup.py) ... \u001b[?25ldone\n",
      "\u001b[?25h  Created wheel for npm: filename=npm-0.1.1-cp36-none-any.whl size=3712 sha256=805187023698cdfbfd315079d1147c072c625b1efb0b26ea8c0f33a12ba62535\n",
      "  Stored in directory: /home/ao1584/.cache/pip/wheels/32/a5/78/963e7cdc19e4e0f2ba522148903f8fd0687e2ea8491e463db2\n",
      "Successfully built npm\n",
      "Installing collected packages: npm\n",
      "Successfully installed npm-0.1.1\n",
      "\u001b[33mWARNING: You are using pip version 19.2.3, however version 19.3.1 is available.\n",
      "You should consider upgrading via the 'pip install --upgrade pip' command.\u001b[0m\n"
     ]
    }
   ],
   "source": [
    "!pip install npm"
   ]
  },
  {
   "cell_type": "code",
   "execution_count": 5,
   "metadata": {},
   "outputs": [
    {
     "name": "stdout",
     "output_type": "stream",
     "text": [
      "Requirement already up-to-date: pip in ./ve2/lib/python3.6/site-packages (19.3.1)\n",
      "\u001b[31mERROR: Could not find a version that satisfies the requirement jupyterlab-plotly (from versions: none)\u001b[0m\n",
      "\u001b[31mERROR: No matching distribution found for jupyterlab-plotly\u001b[0m\n"
     ]
    }
   ],
   "source": [
    "!pip install --upgrade pip\n",
    "!pip install jupyterlab-plotly"
   ]
  },
  {
   "cell_type": "code",
   "execution_count": 9,
   "metadata": {},
   "outputs": [
    {
     "data": {
      "text/plain": [
       "(6, 8)"
      ]
     },
     "execution_count": 9,
     "metadata": {},
     "output_type": "execute_result"
    }
   ],
   "source": [
    "3+3, 4+4"
   ]
  },
  {
   "cell_type": "code",
   "execution_count": 13,
   "metadata": {},
   "outputs": [
    {
     "data": {
      "text/plain": [
       "Text(0.5, 0, 'precisions')"
      ]
     },
     "execution_count": 13,
     "metadata": {},
     "output_type": "execute_result"
    },
    {
     "data": {
      "image/png": "[encoded data removed]",
      "text/plain": [
       "<Figure size 1440x1080 with 1 Axes>"
      ]
     },
     "metadata": {
      "needs_background": "light"
     },
     "output_type": "display_data"
    }
   ],
   "source": [
    "import matplotlib.pyplot as plt\n",
    "from mpl_toolkits.mplot3d import Axes3D\n",
    "\n",
    "fig = plt.figure(figsize = (20,15))\n",
    "ax = fig.add_subplot(111, projection='3d')\n",
    "ax.scatter(training_ratio, multiple, precisions, c = 'r', alpha = 1)\n",
    "ax.scatter(training_ratio, multiple, recalls, c = 'b', alpha = 1)\n",
    "ax.set_xlabel('training_ratio')\n",
    "ax.set_ylabel('multiple')\n",
    "ax.set_zlabel('precisions')\n"
   ]
  },
  {
   "cell_type": "code",
   "execution_count": 11,
   "metadata": {},
   "outputs": [
    {
     "data": {
      "text/html": [
       "        <script type=\"text/javascript\">\n",
       "        window.PlotlyConfig = {MathJaxConfig: 'local'};\n",
       "        if (window.MathJax) {MathJax.Hub.Config({SVG: {font: \"STIX-Web\"}});}\n",
       "        if (typeof require !== 'undefined') {\n",
       "        require.undef(\"plotly\");\n",
       "        requirejs.config({\n",
       "            paths: {\n",
       "                'plotly': ['https://cdn.plot.ly/plotly-latest.min']\n",
       "            }\n",
       "        });\n",
       "        require(['plotly'], function(Plotly) {\n",
       "            window._Plotly = Plotly;\n",
       "        });\n",
       "        }\n",
       "        </script>\n",
       "        "
      ]
     },
     "metadata": {},
     "output_type": "display_data"
    },
    {
     "data": {
      "application/vnd.plotly.v1+json": {
       "config": {
        "plotlyServerURL": "https://plot.ly"
       },
       "data": [
        {
         "mode": "markers",
         "type": "scatter3d",
         "x": [
          0.1,
          0.1,
          0.2,
          0.2
         ],
         "y": [
          0.1,
          0.1,
          0.2,
          0.2
         ],
         "z": [
          0.853772042192969,
          0.8577545467462346,
          0.8859474348153593,
          0.8765130872605917
         ]
        }
       ],
       "layout": {
        "template": {
         "data": {
          "bar": [
           {
            "error_x": {
             "color": "#2a3f5f"
            },
            "error_y": {
             "color": "#2a3f5f"
            },
            "marker": {
             "line": {
              "color": "#E5ECF6",
              "width": 0.5
             }
            },
            "type": "bar"
           }
          ],
          "barpolar": [
           {
            "marker": {
             "line": {
              "color": "#E5ECF6",
              "width": 0.5
             }
            },
            "type": "barpolar"
           }
          ],
          "carpet": [
           {
            "aaxis": {
             "endlinecolor": "#2a3f5f",
             "gridcolor": "white",
             "linecolor": "white",
             "minorgridcolor": "white",
             "startlinecolor": "#2a3f5f"
            },
            "baxis": {
             "endlinecolor": "#2a3f5f",
             "gridcolor": "white",
             "linecolor": "white",
             "minorgridcolor": "white",
             "startlinecolor": "#2a3f5f"
            },
            "type": "carpet"
           }
          ],
          "choropleth": [
           {
            "colorbar": {
             "outlinewidth": 0,
             "ticks": ""
            },
            "type": "choropleth"
           }
          ],
          "contour": [
           {
            "colorbar": {
             "outlinewidth": 0,
             "ticks": ""
            },
            "colorscale": [
             [
              0,
              "#0d0887"
             ],
             [
              0.1111111111111111,
              "#46039f"
             ],
             [
              0.2222222222222222,
              "#7201a8"
             ],
             [
              0.3333333333333333,
              "#9c179e"
             ],
             [
              0.4444444444444444,
              "#bd3786"
             ],
             [
              0.5555555555555556,
              "#d8576b"
             ],
             [
              0.6666666666666666,
              "#ed7953"
             ],
             [
              0.7777777777777778,
              "#fb9f3a"
             ],
             [
              0.8888888888888888,
              "#fdca26"
             ],
             [
              1,
              "#f0f921"
             ]
            ],
            "type": "contour"
           }
          ],
          "contourcarpet": [
           {
            "colorbar": {
             "outlinewidth": 0,
             "ticks": ""
            },
            "type": "contourcarpet"
           }
          ],
          "heatmap": [
           {
            "colorbar": {
             "outlinewidth": 0,
             "ticks": ""
            },
            "colorscale": [
             [
              0,
              "#0d0887"
             ],
             [
              0.1111111111111111,
              "#46039f"
             ],
             [
              0.2222222222222222,
              "#7201a8"
             ],
             [
              0.3333333333333333,
              "#9c179e"
             ],
             [
              0.4444444444444444,
              "#bd3786"
             ],
             [
              0.5555555555555556,
              "#d8576b"
             ],
             [
              0.6666666666666666,
              "#ed7953"
             ],
             [
              0.7777777777777778,
              "#fb9f3a"
             ],
             [
              0.8888888888888888,
              "#fdca26"
             ],
             [
              1,
              "#f0f921"
             ]
            ],
            "type": "heatmap"
           }
          ],
          "heatmapgl": [
           {
            "colorbar": {
             "outlinewidth": 0,
             "ticks": ""
            },
            "colorscale": [
             [
              0,
              "#0d0887"
             ],
             [
              0.1111111111111111,
              "#46039f"
             ],
             [
              0.2222222222222222,
              "#7201a8"
             ],
             [
              0.3333333333333333,
              "#9c179e"
             ],
             [
              0.4444444444444444,
              "#bd3786"
             ],
             [
              0.5555555555555556,
              "#d8576b"
             ],
             [
              0.6666666666666666,
              "#ed7953"
             ],
             [
              0.7777777777777778,
              "#fb9f3a"
             ],
             [
              0.8888888888888888,
              "#fdca26"
             ],
             [
              1,
              "#f0f921"
             ]
            ],
            "type": "heatmapgl"
           }
          ],
          "histogram": [
           {
            "marker": {
             "colorbar": {
              "outlinewidth": 0,
              "ticks": ""
             }
            },
            "type": "histogram"
           }
          ],
          "histogram2d": [
           {
            "colorbar": {
             "outlinewidth": 0,
             "ticks": ""
            },
            "colorscale": [
             [
              0,
              "#0d0887"
             ],
             [
              0.1111111111111111,
              "#46039f"
             ],
             [
              0.2222222222222222,
              "#7201a8"
             ],
             [
              0.3333333333333333,
              "#9c179e"
             ],
             [
              0.4444444444444444,
              "#bd3786"
             ],
             [
              0.5555555555555556,
              "#d8576b"
             ],
             [
              0.6666666666666666,
              "#ed7953"
             ],
             [
              0.7777777777777778,
              "#fb9f3a"
             ],
             [
              0.8888888888888888,
              "#fdca26"
             ],
             [
              1,
              "#f0f921"
             ]
            ],
            "type": "histogram2d"
           }
          ],
          "histogram2dcontour": [
           {
            "colorbar": {
             "outlinewidth": 0,
             "ticks": ""
            },
            "colorscale": [
             [
              0,
              "#0d0887"
             ],
             [
              0.1111111111111111,
              "#46039f"
             ],
             [
              0.2222222222222222,
              "#7201a8"
             ],
             [
              0.3333333333333333,
              "#9c179e"
             ],
             [
              0.4444444444444444,
              "#bd3786"
             ],
             [
              0.5555555555555556,
              "#d8576b"
             ],
             [
              0.6666666666666666,
              "#ed7953"
             ],
             [
              0.7777777777777778,
              "#fb9f3a"
             ],
             [
              0.8888888888888888,
              "#fdca26"
             ],
             [
              1,
              "#f0f921"
             ]
            ],
            "type": "histogram2dcontour"
           }
          ],
          "mesh3d": [
           {
            "colorbar": {
             "outlinewidth": 0,
             "ticks": ""
            },
            "type": "mesh3d"
           }
          ],
          "parcoords": [
           {
            "line": {
             "colorbar": {
              "outlinewidth": 0,
              "ticks": ""
             }
            },
            "type": "parcoords"
           }
          ],
          "scatter": [
           {
            "marker": {
             "colorbar": {
              "outlinewidth": 0,
              "ticks": ""
             }
            },
            "type": "scatter"
           }
          ],
          "scatter3d": [
           {
            "line": {
             "colorbar": {
              "outlinewidth": 0,
              "ticks": ""
             }
            },
            "marker": {
             "colorbar": {
              "outlinewidth": 0,
              "ticks": ""
             }
            },
            "type": "scatter3d"
           }
          ],
          "scattercarpet": [
           {
            "marker": {
             "colorbar": {
              "outlinewidth": 0,
              "ticks": ""
             }
            },
            "type": "scattercarpet"
           }
          ],
          "scattergeo": [
           {
            "marker": {
             "colorbar": {
              "outlinewidth": 0,
              "ticks": ""
             }
            },
            "type": "scattergeo"
           }
          ],
          "scattergl": [
           {
            "marker": {
             "colorbar": {
              "outlinewidth": 0,
              "ticks": ""
             }
            },
            "type": "scattergl"
           }
          ],
          "scattermapbox": [
           {
            "marker": {
             "colorbar": {
              "outlinewidth": 0,
              "ticks": ""
             }
            },
            "type": "scattermapbox"
           }
          ],
          "scatterpolar": [
           {
            "marker": {
             "colorbar": {
              "outlinewidth": 0,
              "ticks": ""
             }
            },
            "type": "scatterpolar"
           }
          ],
          "scatterpolargl": [
           {
            "marker": {
             "colorbar": {
              "outlinewidth": 0,
              "ticks": ""
             }
            },
            "type": "scatterpolargl"
           }
          ],
          "scatterternary": [
           {
            "marker": {
             "colorbar": {
              "outlinewidth": 0,
              "ticks": ""
             }
            },
            "type": "scatterternary"
           }
          ],
          "surface": [
           {
            "colorbar": {
             "outlinewidth": 0,
             "ticks": ""
            },
            "colorscale": [
             [
              0,
              "#0d0887"
             ],
             [
              0.1111111111111111,
              "#46039f"
             ],
             [
              0.2222222222222222,
              "#7201a8"
             ],
             [
              0.3333333333333333,
              "#9c179e"
             ],
             [
              0.4444444444444444,
              "#bd3786"
             ],
             [
              0.5555555555555556,
              "#d8576b"
             ],
             [
              0.6666666666666666,
              "#ed7953"
             ],
             [
              0.7777777777777778,
              "#fb9f3a"
             ],
             [
              0.8888888888888888,
              "#fdca26"
             ],
             [
              1,
              "#f0f921"
             ]
            ],
            "type": "surface"
           }
          ],
          "table": [
           {
            "cells": {
             "fill": {
              "color": "#EBF0F8"
             },
             "line": {
              "color": "white"
             }
            },
            "header": {
             "fill": {
              "color": "#C8D4E3"
             },
             "line": {
              "color": "white"
             }
            },
            "type": "table"
           }
          ]
         },
         "layout": {
          "annotationdefaults": {
           "arrowcolor": "#2a3f5f",
           "arrowhead": 0,
           "arrowwidth": 1
          },
          "colorscale": {
           "diverging": [
            [
             0,
             "#8e0152"
            ],
            [
             0.1,
             "#c51b7d"
            ],
            [
             0.2,
             "#de77ae"
            ],
            [
             0.3,
             "#f1b6da"
            ],
            [
             0.4,
             "#fde0ef"
            ],
            [
             0.5,
             "#f7f7f7"
            ],
            [
             0.6,
             "#e6f5d0"
            ],
            [
             0.7,
             "#b8e186"
            ],
            [
             0.8,
             "#7fbc41"
            ],
            [
             0.9,
             "#4d9221"
            ],
            [
             1,
             "#276419"
            ]
           ],
           "sequential": [
            [
             0,
             "#0d0887"
            ],
            [
             0.1111111111111111,
             "#46039f"
            ],
            [
             0.2222222222222222,
             "#7201a8"
            ],
            [
             0.3333333333333333,
             "#9c179e"
            ],
            [
             0.4444444444444444,
             "#bd3786"
            ],
            [
             0.5555555555555556,
             "#d8576b"
            ],
            [
             0.6666666666666666,
             "#ed7953"
            ],
            [
             0.7777777777777778,
             "#fb9f3a"
            ],
            [
             0.8888888888888888,
             "#fdca26"
            ],
            [
             1,
             "#f0f921"
            ]
           ],
           "sequentialminus": [
            [
             0,
             "#0d0887"
            ],
            [
             0.1111111111111111,
             "#46039f"
            ],
            [
             0.2222222222222222,
             "#7201a8"
            ],
            [
             0.3333333333333333,
             "#9c179e"
            ],
            [
             0.4444444444444444,
             "#bd3786"
            ],
            [
             0.5555555555555556,
             "#d8576b"
            ],
            [
             0.6666666666666666,
             "#ed7953"
            ],
            [
             0.7777777777777778,
             "#fb9f3a"
            ],
            [
             0.8888888888888888,
             "#fdca26"
            ],
            [
             1,
             "#f0f921"
            ]
           ]
          },
          "colorway": [
           "#636efa",
           "#EF553B",
           "#00cc96",
           "#ab63fa",
           "#FFA15A",
           "#19d3f3",
           "#FF6692",
           "#B6E880",
           "#FF97FF",
           "#FECB52"
          ],
          "font": {
           "color": "#2a3f5f"
          },
          "geo": {
           "bgcolor": "white",
           "lakecolor": "white",
           "landcolor": "#E5ECF6",
           "showlakes": true,
           "showland": true,
           "subunitcolor": "white"
          },
          "hoverlabel": {
           "align": "left"
          },
          "hovermode": "closest",
          "mapbox": {
           "style": "light"
          },
          "paper_bgcolor": "white",
          "plot_bgcolor": "#E5ECF6",
          "polar": {
           "angularaxis": {
            "gridcolor": "white",
            "linecolor": "white",
            "ticks": ""
           },
           "bgcolor": "#E5ECF6",
           "radialaxis": {
            "gridcolor": "white",
            "linecolor": "white",
            "ticks": ""
           }
          },
          "scene": {
           "xaxis": {
            "backgroundcolor": "#E5ECF6",
            "gridcolor": "white",
            "gridwidth": 2,
            "linecolor": "white",
            "showbackground": true,
            "ticks": "",
            "zerolinecolor": "white"
           },
           "yaxis": {
            "backgroundcolor": "#E5ECF6",
            "gridcolor": "white",
            "gridwidth": 2,
            "linecolor": "white",
            "showbackground": true,
            "ticks": "",
            "zerolinecolor": "white"
           },
           "zaxis": {
            "backgroundcolor": "#E5ECF6",
            "gridcolor": "white",
            "gridwidth": 2,
            "linecolor": "white",
            "showbackground": true,
            "ticks": "",
            "zerolinecolor": "white"
           }
          },
          "shapedefaults": {
           "line": {
            "color": "#2a3f5f"
           }
          },
          "ternary": {
           "aaxis": {
            "gridcolor": "white",
            "linecolor": "white",
            "ticks": ""
           },
           "baxis": {
            "gridcolor": "white",
            "linecolor": "white",
            "ticks": ""
           },
           "bgcolor": "#E5ECF6",
           "caxis": {
            "gridcolor": "white",
            "linecolor": "white",
            "ticks": ""
           }
          },
          "title": {
           "x": 0.05
          },
          "xaxis": {
           "automargin": true,
           "gridcolor": "white",
           "linecolor": "white",
           "ticks": "",
           "zerolinecolor": "white",
           "zerolinewidth": 2
          },
          "yaxis": {
           "automargin": true,
           "gridcolor": "white",
           "linecolor": "white",
           "ticks": "",
           "zerolinecolor": "white",
           "zerolinewidth": 2
          }
         }
        }
       }
      },
      "text/html": [
       "<div>\n",
       "        \n",
       "        \n",
       "            <div id=\"b1e6b0a4-a5bc-4ba3-a443-e0def410d23a\" class=\"plotly-graph-div\" style=\"height:525px; width:100%;\"></div>\n",
       "            <script type=\"text/javascript\">\n",
       "                require([\"plotly\"], function(Plotly) {\n",
       "                    window.PLOTLYENV=window.PLOTLYENV || {};\n",
       "                    \n",
       "                if (document.getElementById(\"b1e6b0a4-a5bc-4ba3-a443-e0def410d23a\")) {\n",
       "                    Plotly.newPlot(\n",
       "                        'b1e6b0a4-a5bc-4ba3-a443-e0def410d23a',\n",
       "                        [{\"mode\": \"markers\", \"type\": \"scatter3d\", \"x\": [0.1, 0.1, 0.2, 0.2], \"y\": [0.1, 0.1, 0.2, 0.2], \"z\": [0.853772042192969, 0.8577545467462346, 0.8859474348153593, 0.8765130872605917]}],\n",
       "                        {\"template\": {\"data\": {\"bar\": [{\"error_x\": {\"color\": \"#2a3f5f\"}, \"error_y\": {\"color\": \"#2a3f5f\"}, \"marker\": {\"line\": {\"color\": \"#E5ECF6\", \"width\": 0.5}}, \"type\": \"bar\"}], \"barpolar\": [{\"marker\": {\"line\": {\"color\": \"#E5ECF6\", \"width\": 0.5}}, \"type\": \"barpolar\"}], \"carpet\": [{\"aaxis\": {\"endlinecolor\": \"#2a3f5f\", \"gridcolor\": \"white\", \"linecolor\": \"white\", \"minorgridcolor\": \"white\", \"startlinecolor\": \"#2a3f5f\"}, \"baxis\": {\"endlinecolor\": \"#2a3f5f\", \"gridcolor\": \"white\", \"linecolor\": \"white\", \"minorgridcolor\": \"white\", \"startlinecolor\": \"#2a3f5f\"}, \"type\": \"carpet\"}], \"choropleth\": [{\"colorbar\": {\"outlinewidth\": 0, \"ticks\": \"\"}, \"type\": \"choropleth\"}], \"contour\": [{\"colorbar\": {\"outlinewidth\": 0, \"ticks\": \"\"}, \"colorscale\": [[0.0, \"#0d0887\"], [0.1111111111111111, \"#46039f\"], [0.2222222222222222, \"#7201a8\"], [0.3333333333333333, \"#9c179e\"], [0.4444444444444444, \"#bd3786\"], [0.5555555555555556, \"#d8576b\"], [0.6666666666666666, \"#ed7953\"], [0.7777777777777778, \"#fb9f3a\"], [0.8888888888888888, \"#fdca26\"], [1.0, \"#f0f921\"]], \"type\": \"contour\"}], \"contourcarpet\": [{\"colorbar\": {\"outlinewidth\": 0, \"ticks\": \"\"}, \"type\": \"contourcarpet\"}], \"heatmap\": [{\"colorbar\": {\"outlinewidth\": 0, \"ticks\": \"\"}, \"colorscale\": [[0.0, \"#0d0887\"], [0.1111111111111111, \"#46039f\"], [0.2222222222222222, \"#7201a8\"], [0.3333333333333333, \"#9c179e\"], [0.4444444444444444, \"#bd3786\"], [0.5555555555555556, \"#d8576b\"], [0.6666666666666666, \"#ed7953\"], [0.7777777777777778, \"#fb9f3a\"], [0.8888888888888888, \"#fdca26\"], [1.0, \"#f0f921\"]], \"type\": \"heatmap\"}], \"heatmapgl\": [{\"colorbar\": {\"outlinewidth\": 0, \"ticks\": \"\"}, \"colorscale\": [[0.0, \"#0d0887\"], [0.1111111111111111, \"#46039f\"], [0.2222222222222222, \"#7201a8\"], [0.3333333333333333, \"#9c179e\"], [0.4444444444444444, \"#bd3786\"], [0.5555555555555556, \"#d8576b\"], [0.6666666666666666, \"#ed7953\"], [0.7777777777777778, \"#fb9f3a\"], [0.8888888888888888, \"#fdca26\"], [1.0, \"#f0f921\"]], \"type\": \"heatmapgl\"}], \"histogram\": [{\"marker\": {\"colorbar\": {\"outlinewidth\": 0, \"ticks\": \"\"}}, \"type\": \"histogram\"}], \"histogram2d\": [{\"colorbar\": {\"outlinewidth\": 0, \"ticks\": \"\"}, \"colorscale\": [[0.0, \"#0d0887\"], [0.1111111111111111, \"#46039f\"], [0.2222222222222222, \"#7201a8\"], [0.3333333333333333, \"#9c179e\"], [0.4444444444444444, \"#bd3786\"], [0.5555555555555556, \"#d8576b\"], [0.6666666666666666, \"#ed7953\"], [0.7777777777777778, \"#fb9f3a\"], [0.8888888888888888, \"#fdca26\"], [1.0, \"#f0f921\"]], \"type\": \"histogram2d\"}], \"histogram2dcontour\": [{\"colorbar\": {\"outlinewidth\": 0, \"ticks\": \"\"}, \"colorscale\": [[0.0, \"#0d0887\"], [0.1111111111111111, \"#46039f\"], [0.2222222222222222, \"#7201a8\"], [0.3333333333333333, \"#9c179e\"], [0.4444444444444444, \"#bd3786\"], [0.5555555555555556, \"#d8576b\"], [0.6666666666666666, \"#ed7953\"], [0.7777777777777778, \"#fb9f3a\"], [0.8888888888888888, \"#fdca26\"], [1.0, \"#f0f921\"]], \"type\": \"histogram2dcontour\"}], \"mesh3d\": [{\"colorbar\": {\"outlinewidth\": 0, \"ticks\": \"\"}, \"type\": \"mesh3d\"}], \"parcoords\": [{\"line\": {\"colorbar\": {\"outlinewidth\": 0, \"ticks\": \"\"}}, \"type\": \"parcoords\"}], \"scatter\": [{\"marker\": {\"colorbar\": {\"outlinewidth\": 0, \"ticks\": \"\"}}, \"type\": \"scatter\"}], \"scatter3d\": [{\"line\": {\"colorbar\": {\"outlinewidth\": 0, \"ticks\": \"\"}}, \"marker\": {\"colorbar\": {\"outlinewidth\": 0, \"ticks\": \"\"}}, \"type\": \"scatter3d\"}], \"scattercarpet\": [{\"marker\": {\"colorbar\": {\"outlinewidth\": 0, \"ticks\": \"\"}}, \"type\": \"scattercarpet\"}], \"scattergeo\": [{\"marker\": {\"colorbar\": {\"outlinewidth\": 0, \"ticks\": \"\"}}, \"type\": \"scattergeo\"}], \"scattergl\": [{\"marker\": {\"colorbar\": {\"outlinewidth\": 0, \"ticks\": \"\"}}, \"type\": \"scattergl\"}], \"scattermapbox\": [{\"marker\": {\"colorbar\": {\"outlinewidth\": 0, \"ticks\": \"\"}}, \"type\": \"scattermapbox\"}], \"scatterpolar\": [{\"marker\": {\"colorbar\": {\"outlinewidth\": 0, \"ticks\": \"\"}}, \"type\": \"scatterpolar\"}], \"scatterpolargl\": [{\"marker\": {\"colorbar\": {\"outlinewidth\": 0, \"ticks\": \"\"}}, \"type\": \"scatterpolargl\"}], \"scatterternary\": [{\"marker\": {\"colorbar\": {\"outlinewidth\": 0, \"ticks\": \"\"}}, \"type\": \"scatterternary\"}], \"surface\": [{\"colorbar\": {\"outlinewidth\": 0, \"ticks\": \"\"}, \"colorscale\": [[0.0, \"#0d0887\"], [0.1111111111111111, \"#46039f\"], [0.2222222222222222, \"#7201a8\"], [0.3333333333333333, \"#9c179e\"], [0.4444444444444444, \"#bd3786\"], [0.5555555555555556, \"#d8576b\"], [0.6666666666666666, \"#ed7953\"], [0.7777777777777778, \"#fb9f3a\"], [0.8888888888888888, \"#fdca26\"], [1.0, \"#f0f921\"]], \"type\": \"surface\"}], \"table\": [{\"cells\": {\"fill\": {\"color\": \"#EBF0F8\"}, \"line\": {\"color\": \"white\"}}, \"header\": {\"fill\": {\"color\": \"#C8D4E3\"}, \"line\": {\"color\": \"white\"}}, \"type\": \"table\"}]}, \"layout\": {\"annotationdefaults\": {\"arrowcolor\": \"#2a3f5f\", \"arrowhead\": 0, \"arrowwidth\": 1}, \"colorscale\": {\"diverging\": [[0, \"#8e0152\"], [0.1, \"#c51b7d\"], [0.2, \"#de77ae\"], [0.3, \"#f1b6da\"], [0.4, \"#fde0ef\"], [0.5, \"#f7f7f7\"], [0.6, \"#e6f5d0\"], [0.7, \"#b8e186\"], [0.8, \"#7fbc41\"], [0.9, \"#4d9221\"], [1, \"#276419\"]], \"sequential\": [[0.0, \"#0d0887\"], [0.1111111111111111, \"#46039f\"], [0.2222222222222222, \"#7201a8\"], [0.3333333333333333, \"#9c179e\"], [0.4444444444444444, \"#bd3786\"], [0.5555555555555556, \"#d8576b\"], [0.6666666666666666, \"#ed7953\"], [0.7777777777777778, \"#fb9f3a\"], [0.8888888888888888, \"#fdca26\"], [1.0, \"#f0f921\"]], \"sequentialminus\": [[0.0, \"#0d0887\"], [0.1111111111111111, \"#46039f\"], [0.2222222222222222, \"#7201a8\"], [0.3333333333333333, \"#9c179e\"], [0.4444444444444444, \"#bd3786\"], [0.5555555555555556, \"#d8576b\"], [0.6666666666666666, \"#ed7953\"], [0.7777777777777778, \"#fb9f3a\"], [0.8888888888888888, \"#fdca26\"], [1.0, \"#f0f921\"]]}, \"colorway\": [\"#636efa\", \"#EF553B\", \"#00cc96\", \"#ab63fa\", \"#FFA15A\", \"#19d3f3\", \"#FF6692\", \"#B6E880\", \"#FF97FF\", \"#FECB52\"], \"font\": {\"color\": \"#2a3f5f\"}, \"geo\": {\"bgcolor\": \"white\", \"lakecolor\": \"white\", \"landcolor\": \"#E5ECF6\", \"showlakes\": true, \"showland\": true, \"subunitcolor\": \"white\"}, \"hoverlabel\": {\"align\": \"left\"}, \"hovermode\": \"closest\", \"mapbox\": {\"style\": \"light\"}, \"paper_bgcolor\": \"white\", \"plot_bgcolor\": \"#E5ECF6\", \"polar\": {\"angularaxis\": {\"gridcolor\": \"white\", \"linecolor\": \"white\", \"ticks\": \"\"}, \"bgcolor\": \"#E5ECF6\", \"radialaxis\": {\"gridcolor\": \"white\", \"linecolor\": \"white\", \"ticks\": \"\"}}, \"scene\": {\"xaxis\": {\"backgroundcolor\": \"#E5ECF6\", \"gridcolor\": \"white\", \"gridwidth\": 2, \"linecolor\": \"white\", \"showbackground\": true, \"ticks\": \"\", \"zerolinecolor\": \"white\"}, \"yaxis\": {\"backgroundcolor\": \"#E5ECF6\", \"gridcolor\": \"white\", \"gridwidth\": 2, \"linecolor\": \"white\", \"showbackground\": true, \"ticks\": \"\", \"zerolinecolor\": \"white\"}, \"zaxis\": {\"backgroundcolor\": \"#E5ECF6\", \"gridcolor\": \"white\", \"gridwidth\": 2, \"linecolor\": \"white\", \"showbackground\": true, \"ticks\": \"\", \"zerolinecolor\": \"white\"}}, \"shapedefaults\": {\"line\": {\"color\": \"#2a3f5f\"}}, \"ternary\": {\"aaxis\": {\"gridcolor\": \"white\", \"linecolor\": \"white\", \"ticks\": \"\"}, \"baxis\": {\"gridcolor\": \"white\", \"linecolor\": \"white\", \"ticks\": \"\"}, \"bgcolor\": \"#E5ECF6\", \"caxis\": {\"gridcolor\": \"white\", \"linecolor\": \"white\", \"ticks\": \"\"}}, \"title\": {\"x\": 0.05}, \"xaxis\": {\"automargin\": true, \"gridcolor\": \"white\", \"linecolor\": \"white\", \"ticks\": \"\", \"zerolinecolor\": \"white\", \"zerolinewidth\": 2}, \"yaxis\": {\"automargin\": true, \"gridcolor\": \"white\", \"linecolor\": \"white\", \"ticks\": \"\", \"zerolinecolor\": \"white\", \"zerolinewidth\": 2}}}},\n",
       "                        {\"responsive\": true}\n",
       "                    ).then(function(){\n",
       "                            \n",
       "var gd = document.getElementById('b1e6b0a4-a5bc-4ba3-a443-e0def410d23a');\n",
       "var x = new MutationObserver(function (mutations, observer) {{\n",
       "        var display = window.getComputedStyle(gd).display;\n",
       "        if (!display || display === 'none') {{\n",
       "            console.log([gd, 'removed!']);\n",
       "            Plotly.purge(gd);\n",
       "            observer.disconnect();\n",
       "        }}\n",
       "}});\n",
       "\n",
       "// Listen for the removal of the full notebook cells\n",
       "var notebookContainer = gd.closest('#notebook-container');\n",
       "if (notebookContainer) {{\n",
       "    x.observe(notebookContainer, {childList: true});\n",
       "}}\n",
       "\n",
       "// Listen for the clearing of the current output cell\n",
       "var outputEl = gd.closest('.output');\n",
       "if (outputEl) {{\n",
       "    x.observe(outputEl, {childList: true});\n",
       "}}\n",
       "\n",
       "                        })\n",
       "                };\n",
       "                });\n",
       "            </script>\n",
       "        </div>"
      ]
     },
     "metadata": {},
     "output_type": "display_data"
    }
   ],
   "source": [
    "import plotly.offline as py\n",
    "from plotly.offline import iplot\n",
    "py.offline.init_notebook_mode(connected=True)\n",
    "import plotly.graph_objects as go\n",
    "\n",
    "fig = go.Figure(data=[go.Scatter3d(x=training_ratio, y=multiple, z=precisions,\n",
    "                                   mode='markers')])\n",
    "fig.show()"
   ]
  },
  {
   "cell_type": "code",
   "execution_count": 19,
   "metadata": {},
   "outputs": [
    {
     "data": {
      "text/plain": [
       "Text(0.5, 0, 'precisions')"
      ]
     },
     "execution_count": 19,
     "metadata": {},
     "output_type": "execute_result"
    },
    {
     "data": {
      "image/png": "[encoded data removed]",
      "text/plain": [
       "<Figure size 1440x1080 with 1 Axes>"
      ]
     },
     "metadata": {
      "needs_background": "light"
     },
     "output_type": "display_data"
    }
   ],
   "source": [
    "import pandas as pd\n",
    "results = pd.read_csv('ratio_mult_precision_recall.csv')\n",
    "\n",
    "#precisions\n",
    "fig = plt.figure(figsize = (20,15))\n",
    "ax = fig.add_subplot(111, projection='3d')\n",
    "ax.scatter(results.training_ratio, results.multiple, results.precision, alpha = 1)\n",
    "ax.set_xlabel('training_ratio')\n",
    "ax.set_ylabel('multiple')\n",
    "ax.set_zlabel('precisions')"
   ]
  },
  {
   "cell_type": "code",
   "execution_count": 16,
   "metadata": {},
   "outputs": [
    {
     "ename": "NameError",
     "evalue": "name 'nan' is not defined",
     "output_type": "error",
     "traceback": [
      "\u001b[0;31m---------------------------------------------------------------------------\u001b[0m",
      "\u001b[0;31mNameError\u001b[0m                                 Traceback (most recent call last)",
      "\u001b[0;32m<ipython-input-16-54785b9d0fdb>\u001b[0m in \u001b[0;36m<module>\u001b[0;34m\u001b[0m\n\u001b[1;32m    986\u001b[0m    \u001b[0;36m0.9119261020669472\u001b[0m\u001b[0;34m,\u001b[0m\u001b[0;34m\u001b[0m\u001b[0m\n\u001b[1;32m    987\u001b[0m    \u001b[0;36m0.8846938775510205\u001b[0m\u001b[0;34m,\u001b[0m\u001b[0;34m\u001b[0m\u001b[0m\n\u001b[0;32m--> 988\u001b[0;31m    \u001b[0mnan\u001b[0m\u001b[0;34m,\u001b[0m\u001b[0;34m\u001b[0m\u001b[0m\n\u001b[0m\u001b[1;32m    989\u001b[0m    \u001b[0;36m0.9905660377358491\u001b[0m\u001b[0;34m,\u001b[0m\u001b[0;34m\u001b[0m\u001b[0m\n\u001b[1;32m    990\u001b[0m    \u001b[0;36m0.9254518072289157\u001b[0m\u001b[0;34m,\u001b[0m\u001b[0;34m\u001b[0m\u001b[0m\n",
      "\u001b[0;31mNameError\u001b[0m: name 'nan' is not defined"
     ]
    }
   ],
   "source": [
    "#k_optimal = 8\n",
    "#train_ratio = [.1*i for i in range(1,10)] #how many of the stellar stream points do we claim to know the label for?\n",
    "#multiple = [1,5,10,25] #how many non-stellar streams do we bring from the foreground into the data set?\n",
    "#dict_results_1 = {}\n",
    "\n",
    "dict_results_1 = {(0.1,\n",
    "  1): [[0.9482758620689655,\n",
    "   0.75,\n",
    "   0.9382716049382716,\n",
    "   0.9473684210526315,\n",
    "   1.0,\n",
    "   0.8611111111111112,\n",
    "   0.9354838709677419,\n",
    "   0.9230769230769231,\n",
    "   0.88,\n",
    "   1.0], [1.0,\n",
    "   1.0,\n",
    "   0.9156626506024096,\n",
    "   0.8571428571428571,\n",
    "   1.0,\n",
    "   1.0,\n",
    "   1.0,\n",
    "   1.0,\n",
    "   0.9777777777777777,\n",
    "   0.875], [0.9714285714285714,\n",
    "   0.8846153846153846,\n",
    "   0.9235668789808917,\n",
    "   0.8823529411764706,\n",
    "   1.0,\n",
    "   0.9230769230769231,\n",
    "   0.9696969696969697,\n",
    "   0.9705882352941176,\n",
    "   0.927461139896373,\n",
    "   0.9285714285714286], [0.97,\n",
    "   0.9117647058823529,\n",
    "   0.924047541517421,\n",
    "   0.8901098901098902,\n",
    "   1.0,\n",
    "   0.926470588235294,\n",
    "   0.972972972972973,\n",
    "   0.9772727272727273,\n",
    "   0.9306364617044229,\n",
    "   0.9375]],\n",
    " (0.1,\n",
    "  5): [[0.9180327868852459,\n",
    "   0.8888888888888888,\n",
    "   0.8486486486486486,\n",
    "   0.8571428571428571,\n",
    "   1.0,\n",
    "   0.7111111111111111,\n",
    "   0.9487179487179487,\n",
    "   0.9090909090909091,\n",
    "   0.8269230769230769,\n",
    "   0.6666666666666666], [0.9824561403508771,\n",
    "   1.0,\n",
    "   0.9127906976744186,\n",
    "   0.8571428571428571,\n",
    "   1.0,\n",
    "   1.0,\n",
    "   0.9487179487179487,\n",
    "   1.0,\n",
    "   0.9662921348314607,\n",
    "   1.0], [0.9793103448275862,\n",
    "   0.9710144927536232,\n",
    "   0.953862660944206,\n",
    "   0.9661016949152542,\n",
    "   1.0,\n",
    "   0.9322916666666666,\n",
    "   0.9800995024875622,\n",
    "   0.9848484848484849,\n",
    "   0.9632224168126094,\n",
    "   0.9583333333333334], [0.980498456441533,\n",
    "   0.9811320754716981,\n",
    "   0.9379742962056303,\n",
    "   0.9189560439560439,\n",
    "   1.0,\n",
    "   0.959375,\n",
    "   0.9681861348528015,\n",
    "   0.9910714285714285,\n",
    "   0.964473868245606,\n",
    "   0.9772727272727273]],\n",
    " (0.1,\n",
    "  10): [[0.9122807017543859,\n",
    "   0.7,\n",
    "   0.8590604026845637,\n",
    "   1.0,\n",
    "   1.0,\n",
    "   0.7666666666666667,\n",
    "   0.8484848484848485,\n",
    "   0.8333333333333334,\n",
    "   0.8064516129032258,\n",
    "   0.75], [0.9454545454545454,\n",
    "   0.7,\n",
    "   0.8421052631578947,\n",
    "   0.8,\n",
    "   1.0,\n",
    "   0.9583333333333334,\n",
    "   0.9032258064516129,\n",
    "   0.9375,\n",
    "   0.8620689655172413,\n",
    "   1.0], [0.9845261121856866,\n",
    "   0.9439252336448598,\n",
    "   0.9741824440619621,\n",
    "   0.9774774774774775,\n",
    "   1.0,\n",
    "   0.9752321981424149,\n",
    "   0.9785522788203753,\n",
    "   0.9806763285024155,\n",
    "   0.9700598802395209,\n",
    "   0.9811320754716981], [0.9673160173160172,\n",
    "   0.8345360824742267,\n",
    "   0.9144530087002547,\n",
    "   0.9,\n",
    "   1.0,\n",
    "   0.9674609810479377,\n",
    "   0.9443029617053387,\n",
    "   0.9608965968586388,\n",
    "   0.9211984171848503,\n",
    "   0.99]],\n",
    " (0.1,\n",
    "  25): [[0.8688524590163934,\n",
    "   0.8125,\n",
    "   0.8181818181818182,\n",
    "   0.8333333333333334,\n",
    "   0.8,\n",
    "   0.8,\n",
    "   0.85,\n",
    "   0.8571428571428571,\n",
    "   0.8266666666666667,\n",
    "   0.5], [0.9137931034482759,\n",
    "   1.0,\n",
    "   0.7748344370860927,\n",
    "   0.7142857142857143,\n",
    "   1.0,\n",
    "   0.9090909090909091,\n",
    "   0.918918918918919,\n",
    "   0.9473684210526315,\n",
    "   0.6739130434782609,\n",
    "   0.5], [0.9894822006472492,\n",
    "   0.9896193771626297,\n",
    "   0.9854932301740812,\n",
    "   0.9814432989690721,\n",
    "   0.990909090909091,\n",
    "   0.990578734858681,\n",
    "   0.9894242068155111,\n",
    "   0.9924098671726755,\n",
    "   0.9811651335961454,\n",
    "   0.96875], [0.9535009659855981,\n",
    "   0.9945652173913043,\n",
    "   0.8841549851678895,\n",
    "   0.8539100985221676,\n",
    "   0.9952830188679246,\n",
    "   0.9510780481654268,\n",
    "   0.9557739557739557,\n",
    "   0.9707314546208039,\n",
    "   0.8339898398587106,\n",
    "   0.7419354838709677]],\n",
    " (0.2,\n",
    "  1): [[0.9767441860465116,\n",
    "   0.9090909090909091,\n",
    "   0.8439306358381503,\n",
    "   0.9166666666666666,\n",
    "   1.0,\n",
    "   0.9142857142857143,\n",
    "   0.7647058823529411,\n",
    "   1.0,\n",
    "   0.9047619047619048,\n",
    "   0.6666666666666666], [1.0,\n",
    "   1.0,\n",
    "   0.948051948051948,\n",
    "   0.9565217391304348,\n",
    "   1.0,\n",
    "   0.9411764705882353,\n",
    "   0.9629629629629629,\n",
    "   1.0,\n",
    "   0.987012987012987,\n",
    "   1.0], [0.9883720930232558,\n",
    "   0.9545454545454546,\n",
    "   0.8932926829268293,\n",
    "   0.9210526315789473,\n",
    "   1.0,\n",
    "   0.9193548387096774,\n",
    "   0.8783783783783784,\n",
    "   1.0,\n",
    "   0.9470588235294117,\n",
    "   0.8571428571428571], [0.9886363636363636,\n",
    "   0.9583333333333333,\n",
    "   0.8964397671294223,\n",
    "   0.9115942028985508,\n",
    "   1.0,\n",
    "   0.9170168067226891,\n",
    "   0.896375098502758,\n",
    "   1.0,\n",
    "   0.9504957408183214,\n",
    "   0.9]],\n",
    " (0.2,\n",
    "  5): [[0.953125,\n",
    "   0.9090909090909091,\n",
    "   0.823170731707317,\n",
    "   1.0,\n",
    "   0.8,\n",
    "   0.7428571428571429,\n",
    "   0.90625,\n",
    "   0.9230769230769231,\n",
    "   0.9047619047619048,\n",
    "   0.5], [0.9682539682539683,\n",
    "   1.0,\n",
    "   0.9060402684563759,\n",
    "   0.9090909090909091,\n",
    "   1.0,\n",
    "   0.9285714285714286,\n",
    "   0.90625,\n",
    "   0.96,\n",
    "   0.9693877551020408,\n",
    "   0.5], [0.9826989619377162,\n",
    "   0.9855072463768116,\n",
    "   0.9541577825159915,\n",
    "   0.991304347826087,\n",
    "   0.9565217391304348,\n",
    "   0.9337349397590361,\n",
    "   0.9690721649484536,\n",
    "   0.9741379310344828,\n",
    "   0.9758364312267658,\n",
    "   0.8787878787878788], [0.9774898159853913,\n",
    "   0.9915254237288136,\n",
    "   0.9346424409455515,\n",
    "   0.9545454545454546,\n",
    "   0.9736842105263158,\n",
    "   0.9316770186335404,\n",
    "   0.9438657407407408,\n",
    "   0.9690109890109889,\n",
    "   0.973330241187384,\n",
    "   0.7155172413793104]],\n",
    " (0.2,\n",
    "  10): [[0.9130434782608695,\n",
    "   0.7777777777777778,\n",
    "   0.8361581920903954,\n",
    "   0.8888888888888888,\n",
    "   1.0,\n",
    "   0.8529411764705882,\n",
    "   0.8461538461538461,\n",
    "   0.8888888888888888,\n",
    "   0.819047619047619,\n",
    "   0.5], [0.9333333333333333,\n",
    "   0.875,\n",
    "   0.8457142857142858,\n",
    "   0.8,\n",
    "   0.8571428571428571,\n",
    "   0.9666666666666667,\n",
    "   0.7857142857142857,\n",
    "   0.9411764705882353,\n",
    "   0.8514851485148515,\n",
    "   0.2], [0.9865900383141762,\n",
    "   0.972972972972973,\n",
    "   0.968,\n",
    "   0.9710144927536232,\n",
    "   0.9772727272727273,\n",
    "   0.9825072886297376,\n",
    "   0.96996996996997,\n",
    "   0.9858490566037735,\n",
    "   0.96579476861167,\n",
    "   0.9137931034482759], [0.9624737945492662,\n",
    "   0.9277912621359223,\n",
    "   0.9136507936507936,\n",
    "   0.8946524064171123,\n",
    "   0.9285714285714286,\n",
    "   0.975346112886049,\n",
    "   0.8862997658079625,\n",
    "   0.9654600301659125,\n",
    "   0.9151042763850852,\n",
    "   0.590566037735849]],\n",
    " (0.2,\n",
    "  25): [[0.8723404255319149,\n",
    "   0.7777777777777778,\n",
    "   0.7894736842105263,\n",
    "   1.0,\n",
    "   1.0,\n",
    "   0.7777777777777778,\n",
    "   0.8205128205128205,\n",
    "   0.8571428571428571,\n",
    "   0.7878787878787878,\n",
    "   0.6], [0.9318181818181818,\n",
    "   0.7777777777777778,\n",
    "   0.75,\n",
    "   0.6428571428571429,\n",
    "   0.8,\n",
    "   0.8235294117647058,\n",
    "   0.9411764705882353,\n",
    "   0.9230769230769231,\n",
    "   0.7647058823529411,\n",
    "   0.75], [0.9925,\n",
    "   0.9849624060150376,\n",
    "   0.9820314449713002,\n",
    "   0.9901185770750988,\n",
    "   0.9901960784313726,\n",
    "   0.9812080536912752,\n",
    "   0.9894117647058823,\n",
    "   0.9936842105263158,\n",
    "   0.9810286677908938,\n",
    "   0.9807692307692307], [0.9633139351997483,\n",
    "   0.8849978383052313,\n",
    "   0.8708409149987003,\n",
    "   0.8214285714285714,\n",
    "   0.9,\n",
    "   0.9061388268387522,\n",
    "   0.9662990196078431,\n",
    "   0.9593739593739595,\n",
    "   0.8777273905156776,\n",
    "   0.868421052631579]],\n",
    " (0.30000000000000004,\n",
    "  1): [[0.9183673469387755,\n",
    "   0.9333333333333333,\n",
    "   0.9315068493150684,\n",
    "   1.0,\n",
    "   0.6,\n",
    "   0.8846153846153846,\n",
    "   0.9230769230769231,\n",
    "   1.0,\n",
    "   0.9222222222222223,\n",
    "   0.7142857142857143], [0.9782608695652174,\n",
    "   1.0,\n",
    "   0.951048951048951,\n",
    "   1.0,\n",
    "   1.0,\n",
    "   1.0,\n",
    "   0.96,\n",
    "   1.0,\n",
    "   0.9764705882352941,\n",
    "   0.8333333333333334], [0.9411764705882353,\n",
    "   0.9615384615384616,\n",
    "   0.9405594405594405,\n",
    "   1.0,\n",
    "   0.7777777777777778,\n",
    "   0.9464285714285714,\n",
    "   0.9433962264150944,\n",
    "   1.0,\n",
    "   0.9470588235294117,\n",
    "   0.7692307692307693], [0.9378483835005573,\n",
    "   0.9583333333333333,\n",
    "   0.9405594405594406,\n",
    "   1.0,\n",
    "   0.8333333333333334,\n",
    "   0.9545454545454545,\n",
    "   0.9442857142857143,\n",
    "   1.0,\n",
    "   0.9470588235294117,\n",
    "   0.773809523809524]],\n",
    " (0.30000000000000004,\n",
    "  5): [[0.8214285714285714,\n",
    "   0.8333333333333334,\n",
    "   0.8503401360544217,\n",
    "   0.9565217391304348,\n",
    "   1.0,\n",
    "   0.7419354838709677,\n",
    "   0.8666666666666667,\n",
    "   0.88,\n",
    "   0.7087378640776699,\n",
    "   0.75], [0.9787234042553191,\n",
    "   1.0,\n",
    "   0.8620689655172413,\n",
    "   0.88,\n",
    "   1.0,\n",
    "   0.8846153846153846,\n",
    "   0.975,\n",
    "   1.0,\n",
    "   0.9240506329113924,\n",
    "   0.5], [0.9612676056338029,\n",
    "   0.9714285714285714,\n",
    "   0.9533333333333334,\n",
    "   0.96875,\n",
    "   1.0,\n",
    "   0.9367816091954023,\n",
    "   0.9651741293532339,\n",
    "   0.9736842105263158,\n",
    "   0.9322033898305084,\n",
    "   0.8787878787878788], [0.9682646557141573,\n",
    "   0.9833333333333334,\n",
    "   0.9164649463347796,\n",
    "   0.9351456310679611,\n",
    "   1.0,\n",
    "   0.9152806652806653,\n",
    "   0.9688664596273293,\n",
    "   0.983695652173913,\n",
    "   0.9288394757477316,\n",
    "   0.7314814814814816]],\n",
    " (0.30000000000000004,\n",
    "  10): [[0.9636363636363636,\n",
    "   1.0,\n",
    "   0.852760736196319,\n",
    "   1.0,\n",
    "   0.6666666666666666,\n",
    "   0.78125,\n",
    "   0.9090909090909091,\n",
    "   1.0,\n",
    "   0.7666666666666667,\n",
    "   1.0], [0.9298245614035088,\n",
    "   1.0,\n",
    "   0.8323353293413174,\n",
    "   0.875,\n",
    "   1.0,\n",
    "   0.9615384615384616,\n",
    "   0.9375,\n",
    "   1.0,\n",
    "   0.8023255813953488,\n",
    "   0.7142857142857143], [0.9886578449905482,\n",
    "   1.0,\n",
    "   0.9699769053117783,\n",
    "   0.9861751152073732,\n",
    "   0.95,\n",
    "   0.9738562091503268,\n",
    "   0.9855907780979827,\n",
    "   1.0,\n",
    "   0.959915611814346,\n",
    "   0.9692307692307692], [0.9627936366339578,\n",
    "   1.0,\n",
    "   0.9084999330412656,\n",
    "   0.9375,\n",
    "   0.9722222222222222,\n",
    "   0.9682692307692308,\n",
    "   0.9639880952380953,\n",
    "   1.0,\n",
    "   0.8889818162197162,\n",
    "   0.8571428571428572]],\n",
    " (0.30000000000000004,\n",
    "  25): [[0.9,\n",
    "   0.9,\n",
    "   0.8116883116883117,\n",
    "   0.5454545454545454,\n",
    "   1.0,\n",
    "   0.6857142857142857,\n",
    "   0.9166666666666666,\n",
    "   0.8076923076923077,\n",
    "   0.7380952380952381,\n",
    "   0.8], [0.8653846153846154,\n",
    "   1.0,\n",
    "   0.7485029940119761,\n",
    "   0.46153846153846156,\n",
    "   1.0,\n",
    "   0.8571428571428571,\n",
    "   0.9166666666666666,\n",
    "   1.0,\n",
    "   0.6888888888888889,\n",
    "   0.4444444444444444], [0.9902912621359223,\n",
    "   0.9961832061068703,\n",
    "   0.9826278443846342,\n",
    "   0.9769230769230769,\n",
    "   1.0,\n",
    "   0.9808429118773946,\n",
    "   0.9922779922779923,\n",
    "   0.9902534113060428,\n",
    "   0.9777183600713012,\n",
    "   0.953125], [0.9305808212058212,\n",
    "   0.9980237154150198,\n",
    "   0.8705525174141513,\n",
    "   0.7258382642998028,\n",
    "   1.0,\n",
    "   0.921286660359508,\n",
    "   0.9563090418353575,\n",
    "   0.9949186991869919,\n",
    "   0.8393376663571649,\n",
    "   0.7180205415499533]],\n",
    " (0.4,\n",
    "  1): [[0.9215686274509803,\n",
    "   0.9,\n",
    "   0.9411764705882353,\n",
    "   0.9130434782608695,\n",
    "   0.5,\n",
    "   0.8333333333333334,\n",
    "   0.8888888888888888,\n",
    "   1.0,\n",
    "   0.896551724137931,\n",
    "   0.8], [0.9791666666666666,\n",
    "   1.0,\n",
    "   0.9523809523809523,\n",
    "   0.875,\n",
    "   1.0,\n",
    "   1.0,\n",
    "   0.9696969696969697,\n",
    "   1.0,\n",
    "   1.0,\n",
    "   0.8], [0.9473684210526315,\n",
    "   0.9411764705882353,\n",
    "   0.9446153846153846,\n",
    "   0.8913043478260869,\n",
    "   0.6666666666666666,\n",
    "   0.9166666666666666,\n",
    "   0.9206349206349206,\n",
    "   1.0,\n",
    "   0.9505494505494505,\n",
    "   0.7777777777777778], [0.9470301418439715,\n",
    "   0.9375,\n",
    "   0.9443433424325144,\n",
    "   0.8920454545454546,\n",
    "   0.75,\n",
    "   0.9285714285714286,\n",
    "   0.9181818181818182,\n",
    "   1.0,\n",
    "   0.9567307692307692,\n",
    "   0.775]],\n",
    " (0.4,\n",
    "  5): [[0.7555555555555555,\n",
    "   0.9375,\n",
    "   0.7770700636942676,\n",
    "   0.9473684210526315,\n",
    "   1.0,\n",
    "   0.8571428571428571,\n",
    "   0.9743589743589743,\n",
    "   0.9411764705882353,\n",
    "   0.8736842105263158,\n",
    "   1.0], [0.9444444444444444,\n",
    "   1.0,\n",
    "   0.9037037037037037,\n",
    "   0.75,\n",
    "   1.0,\n",
    "   0.8,\n",
    "   0.95,\n",
    "   1.0,\n",
    "   0.8924731182795699,\n",
    "   0.5714285714285714], [0.9525547445255474,\n",
    "   0.9875,\n",
    "   0.9452054794520548,\n",
    "   0.9421487603305785,\n",
    "   1.0,\n",
    "   0.9428571428571428,\n",
    "   0.9855072463768116,\n",
    "   0.9907407407407407,\n",
    "   0.9580952380952381,\n",
    "   0.9210526315789473], [0.9491129785247432,\n",
    "   0.9923076923076923,\n",
    "   0.928235117708802,\n",
    "   0.8698453608247423,\n",
    "   1.0,\n",
    "   0.8862068965517241,\n",
    "   0.972005988023952,\n",
    "   0.9945652173913043,\n",
    "   0.932347670250896,\n",
    "   0.7857142857142857]],\n",
    " (0.4,\n",
    "  10): [[0.8653846153846154,\n",
    "   0.9,\n",
    "   0.8023952095808383,\n",
    "   0.85,\n",
    "   1.0,\n",
    "   0.7777777777777778,\n",
    "   0.918918918918919,\n",
    "   0.9047619047619048,\n",
    "   0.75,\n",
    "   0.6], [0.9183673469387755,\n",
    "   1.0,\n",
    "   0.881578947368421,\n",
    "   0.8095238095238095,\n",
    "   1.0,\n",
    "   0.9210526315789473,\n",
    "   0.918918918918919,\n",
    "   1.0,\n",
    "   0.8863636363636364,\n",
    "   0.5], [0.9794007490636704,\n",
    "   0.9907407407407407,\n",
    "   0.9698403311649911,\n",
    "   0.964824120603015,\n",
    "   1.0,\n",
    "   0.9626436781609196,\n",
    "   0.9841269841269841,\n",
    "   0.990990990990991,\n",
    "   0.9629629629629629,\n",
    "   0.9122807017543859], [0.9519671786240269,\n",
    "   0.994949494949495,\n",
    "   0.9300682261208577,\n",
    "   0.8963349384697699,\n",
    "   1.0,\n",
    "   0.9443972835314092,\n",
    "   0.9550606324799873,\n",
    "   0.9950738916256158,\n",
    "   0.928475935828877,\n",
    "   0.7303921568627451]],\n",
    " (0.4,\n",
    "  25): [[0.8979591836734694,\n",
    "   0.9,\n",
    "   0.8133333333333334,\n",
    "   0.8235294117647058,\n",
    "   1.0,\n",
    "   0.8108108108108109,\n",
    "   0.8157894736842105,\n",
    "   0.9259259259259259,\n",
    "   0.7191011235955056,\n",
    "   0.3333333333333333], [0.8461538461538461,\n",
    "   1.0,\n",
    "   0.7261904761904762,\n",
    "   0.6086956521739131,\n",
    "   1.0,\n",
    "   0.8571428571428571,\n",
    "   0.8857142857142857,\n",
    "   1.0,\n",
    "   0.7529411764705882,\n",
    "   0.14285714285714285], [0.9898832684824903,\n",
    "   0.9965753424657534,\n",
    "   0.9817012858555886,\n",
    "   0.97678916827853,\n",
    "   1.0,\n",
    "   0.9854191980558931,\n",
    "   0.9871794871794872,\n",
    "   0.995850622406639,\n",
    "   0.9802150537634409,\n",
    "   0.9444444444444444], [0.9210493480566474,\n",
    "   0.9982332155477032,\n",
    "   0.859483266991007,\n",
    "   0.801311388839993,\n",
    "   1.0,\n",
    "   0.9241298042059464,\n",
    "   0.9386044089567783,\n",
    "   0.9978118161925601,\n",
    "   0.8708902310924369,\n",
    "   0.5641293013555787]],\n",
    " (0.5,\n",
    "  1): [[0.9038461538461539,\n",
    "   0.9285714285714286,\n",
    "   0.9526627218934911,\n",
    "   0.9310344827586207,\n",
    "   0.8,\n",
    "   0.9722222222222222,\n",
    "   0.8857142857142857,\n",
    "   1.0,\n",
    "   0.9166666666666666,\n",
    "   1.0], [0.9791666666666666,\n",
    "   0.8666666666666667,\n",
    "   0.9640718562874252,\n",
    "   1.0,\n",
    "   1.0,\n",
    "   1.0,\n",
    "   0.96875,\n",
    "   1.0,\n",
    "   0.9746835443037974,\n",
    "   0.8333333333333334], [0.9381443298969072,\n",
    "   0.88,\n",
    "   0.9571865443425076,\n",
    "   0.9583333333333334,\n",
    "   0.8888888888888888,\n",
    "   0.9838709677419355,\n",
    "   0.9305555555555556,\n",
    "   1.0,\n",
    "   0.9457831325301205,\n",
    "   0.9090909090909091], [0.9385629251700679,\n",
    "   0.8833333333333334,\n",
    "   0.9570359281437125,\n",
    "   0.9523809523809523,\n",
    "   0.9,\n",
    "   0.9814814814814815,\n",
    "   0.9343750000000001,\n",
    "   1.0,\n",
    "   0.9471118870944274,\n",
    "   0.9166666666666667]],\n",
    " (0.5,\n",
    "  5): [[0.8409090909090909,\n",
    "   0.9090909090909091,\n",
    "   0.8914285714285715,\n",
    "   0.85,\n",
    "   1.0,\n",
    "   0.8378378378378378,\n",
    "   0.8285714285714286,\n",
    "   0.8421052631578947,\n",
    "   0.9354838709677419,\n",
    "   0.75], [1.0,\n",
    "   1.0,\n",
    "   0.9122807017543859,\n",
    "   0.8947368421052632,\n",
    "   1.0,\n",
    "   1.0,\n",
    "   0.9354838709677419,\n",
    "   1.0,\n",
    "   0.9456521739130435,\n",
    "   0.75], [0.9736842105263158,\n",
    "   0.9841269841269841,\n",
    "   0.9639065817409767,\n",
    "   0.9629629629629629,\n",
    "   1.0,\n",
    "   0.9634146341463414,\n",
    "   0.9553072625698324,\n",
    "   0.9743589743589743,\n",
    "   0.9788053949903661,\n",
    "   0.9166666666666666], [0.9847161572052402,\n",
    "   0.9905660377358491,\n",
    "   0.9438186906956105,\n",
    "   0.9344373865698731,\n",
    "   1.0,\n",
    "   0.9774436090225564,\n",
    "   0.9474716652136006,\n",
    "   0.9851485148514851,\n",
    "   0.9658003258323999,\n",
    "   0.85]],\n",
    " (0.5,\n",
    "  10): [[0.8444444444444444,\n",
    "   0.75,\n",
    "   0.7916666666666666,\n",
    "   0.8235294117647058,\n",
    "   1.0,\n",
    "   0.717391304347826,\n",
    "   0.7941176470588235,\n",
    "   0.9523809523809523,\n",
    "   0.8137254901960784,\n",
    "   0.75], [0.926829268292683,\n",
    "   1.0,\n",
    "   0.8382352941176471,\n",
    "   0.8235294117647058,\n",
    "   1.0,\n",
    "   0.9428571428571428,\n",
    "   0.9642857142857143,\n",
    "   1.0,\n",
    "   0.8556701030927835,\n",
    "   0.75], [0.980806142034549,\n",
    "   0.9769230769230769,\n",
    "   0.9702687249857062,\n",
    "   0.9693877551020408,\n",
    "   1.0,\n",
    "   0.9496644295302014,\n",
    "   0.978494623655914,\n",
    "   0.9951456310679612,\n",
    "   0.967032967032967,\n",
    "   0.9642857142857143], [0.9561229674796747,\n",
    "   0.9876033057851239,\n",
    "   0.9098182050253456,\n",
    "   0.9033848176141964,\n",
    "   1.0,\n",
    "   0.9467137425312331,\n",
    "   0.971968438538206,\n",
    "   0.9973118279569892,\n",
    "   0.9173262019888697,\n",
    "   0.8653846153846153]],\n",
    " (0.5,\n",
    "  25): [[0.7115384615384616,\n",
    "   0.7272727272727273,\n",
    "   0.7769784172661871,\n",
    "   0.9333333333333333,\n",
    "   0.75,\n",
    "   0.7857142857142857,\n",
    "   0.8484848484848485,\n",
    "   0.8928571428571429,\n",
    "   0.776595744680851,\n",
    "   1.0], [0.8604651162790697,\n",
    "   0.8888888888888888,\n",
    "   0.6585365853658537,\n",
    "   0.7368421052631579,\n",
    "   0.75,\n",
    "   0.8148148148148148,\n",
    "   0.9032258064516129,\n",
    "   0.9615384615384616,\n",
    "   0.7934782608695652,\n",
    "   0.75], [0.9823083403538332,\n",
    "   0.9862068965517241,\n",
    "   0.9788321167883212,\n",
    "   0.9891500904159132,\n",
    "   0.9797979797979798,\n",
    "   0.9856396866840731,\n",
    "   0.9906976744186047,\n",
    "   0.9917525773195877,\n",
    "   0.9829205807002562,\n",
    "   0.9933774834437086], [0.9236766140835908,\n",
    "   0.9391063661526295,\n",
    "   0.825340264299754,\n",
    "   0.867484723043564,\n",
    "   0.869736842105263,\n",
    "   0.9033478674885983,\n",
    "   0.9485972216817776,\n",
    "   0.9775012569130217,\n",
    "   0.8920724637681159,\n",
    "   0.875]],\n",
    " (0.6000000000000001,\n",
    "  1): [[0.9487179487179487,\n",
    "   0.8333333333333334,\n",
    "   0.9,\n",
    "   0.9,\n",
    "   1.0,\n",
    "   1.0,\n",
    "   1.0,\n",
    "   1.0,\n",
    "   0.9158878504672897,\n",
    "   1.0], [1.0,\n",
    "   1.0,\n",
    "   0.9375,\n",
    "   0.9473684210526315,\n",
    "   1.0,\n",
    "   1.0,\n",
    "   0.9666666666666667,\n",
    "   1.0,\n",
    "   0.98989898989899,\n",
    "   0.875], [0.971830985915493,\n",
    "   0.9047619047619048,\n",
    "   0.9191919191919192,\n",
    "   0.9166666666666666,\n",
    "   1.0,\n",
    "   1.0,\n",
    "   0.98,\n",
    "   1.0,\n",
    "   0.9504950495049505,\n",
    "   0.9230769230769231], [0.9705882352941176,\n",
    "   0.9090909090909091,\n",
    "   0.9197303921568627,\n",
    "   0.914860681114551,\n",
    "   1.0,\n",
    "   1.0,\n",
    "   0.9833333333333334,\n",
    "   1.0,\n",
    "   0.9512601745611455,\n",
    "   0.9375]],\n",
    " (0.6000000000000001,\n",
    "  5): [[0.86,\n",
    "   1.0,\n",
    "   0.9122807017543859,\n",
    "   1.0,\n",
    "   1.0,\n",
    "   0.8,\n",
    "   0.90625,\n",
    "   0.96,\n",
    "   0.803921568627451,\n",
    "   0.75], [0.9347826086956522,\n",
    "   1.0,\n",
    "   0.9017341040462428,\n",
    "   0.7777777777777778,\n",
    "   1.0,\n",
    "   0.8888888888888888,\n",
    "   0.90625,\n",
    "   1.0,\n",
    "   0.9425287356321839,\n",
    "   1.0], [0.9635036496350365,\n",
    "   1.0,\n",
    "   0.9669762641898865,\n",
    "   0.9495798319327731,\n",
    "   1.0,\n",
    "   0.95,\n",
    "   0.9693877551020408,\n",
    "   0.9921259842519685,\n",
    "   0.9559082892416225,\n",
    "   0.9696969696969697], [0.9520404271548437,\n",
    "   1.0,\n",
    "   0.9414449414703575,\n",
    "   0.8888888888888888,\n",
    "   1.0,\n",
    "   0.9248366013071896,\n",
    "   0.9439786585365854,\n",
    "   0.9951456310679612,\n",
    "   0.9504310344827587,\n",
    "   0.9833333333333334]],\n",
    " (0.6000000000000001,\n",
    "  10): [[0.9,\n",
    "   1.0,\n",
    "   0.8421052631578947,\n",
    "   0.8571428571428571,\n",
    "   1.0,\n",
    "   0.7948717948717948,\n",
    "   0.8947368421052632,\n",
    "   0.8666666666666667,\n",
    "   0.8207547169811321,\n",
    "   1.0], [0.9782608695652174,\n",
    "   1.0,\n",
    "   0.8258064516129032,\n",
    "   0.6923076923076923,\n",
    "   1.0,\n",
    "   0.96875,\n",
    "   0.8717948717948718,\n",
    "   0.9285714285714286,\n",
    "   0.9157894736842105,\n",
    "   0.75], [0.9889705882352942,\n",
    "   1.0,\n",
    "   0.9696247766527695,\n",
    "   0.9552845528455285,\n",
    "   1.0,\n",
    "   0.9710610932475884,\n",
    "   0.9766839378238342,\n",
    "   0.9851485148514851,\n",
    "   0.9723643807574207,\n",
    "   0.95], [0.9841103544613234,\n",
    "   1.0,\n",
    "   0.9050292100584201,\n",
    "   0.8393356643356643,\n",
    "   1.0,\n",
    "   0.9700380824372759,\n",
    "   0.930133747136629,\n",
    "   0.9589665653495442,\n",
    "   0.9471237617854159,\n",
    "   0.875]],\n",
    " (0.6000000000000001,\n",
    "  25): [[0.8478260869565217,\n",
    "   0.7857142857142857,\n",
    "   0.7681159420289855,\n",
    "   0.9411764705882353,\n",
    "   1.0,\n",
    "   0.84,\n",
    "   0.7741935483870968,\n",
    "   0.9166666666666666,\n",
    "   0.7878787878787878,\n",
    "   1.0], [0.8478260869565217,\n",
    "   1.0,\n",
    "   0.7162162162162162,\n",
    "   0.8,\n",
    "   0.5,\n",
    "   0.8076923076923077,\n",
    "   0.9230769230769231,\n",
    "   1.0,\n",
    "   0.7358490566037735,\n",
    "   0.4], [0.988255033557047,\n",
    "   0.9885057471264368,\n",
    "   0.9816786333250804,\n",
    "   0.9902912621359223,\n",
    "   0.99,\n",
    "   0.9884763124199744,\n",
    "   0.9898648648648649,\n",
    "   0.9961612284069098,\n",
    "   0.9792372881355932,\n",
    "   0.9782608695652174], [0.9208589422566202,\n",
    "   0.994,\n",
    "   0.8539960546514132,\n",
    "   0.898989898989899,\n",
    "   0.75,\n",
    "   0.9011971472236373,\n",
    "   0.9574781367124756,\n",
    "   0.9979959919839679,\n",
    "   0.8632661432087192,\n",
    "   0.7]],\n",
    " (0.7000000000000001,\n",
    "  1): [[0.8695652173913043,\n",
    "   0.8461538461538461,\n",
    "   0.8994413407821229,\n",
    "   0.9230769230769231,\n",
    "   0.6666666666666666,\n",
    "   0.9310344827586207,\n",
    "   1.0,\n",
    "   1.0,\n",
    "   0.9148936170212766,\n",
    "   1.0], [0.975609756097561,\n",
    "   1.0,\n",
    "   0.9640718562874252,\n",
    "   1.0,\n",
    "   1.0,\n",
    "   0.9642857142857143,\n",
    "   1.0,\n",
    "   1.0,\n",
    "   0.9885057471264368,\n",
    "   0.8333333333333334], [0.9222222222222223,\n",
    "   0.9090909090909091,\n",
    "   0.9272727272727272,\n",
    "   0.9512195121951219,\n",
    "   0.8,\n",
    "   0.9473684210526315,\n",
    "   1.0,\n",
    "   1.0,\n",
    "   0.9457831325301205,\n",
    "   0.9], [0.926580388252862,\n",
    "   0.9090909090909091,\n",
    "   0.9268212042173322,\n",
    "   0.9411764705882353,\n",
    "   0.8333333333333334,\n",
    "   0.9476600985221676,\n",
    "   1.0,\n",
    "   1.0,\n",
    "   0.9436199621708132,\n",
    "   0.9166666666666667]],\n",
    " (0.7000000000000001,\n",
    "  5): [[0.9411764705882353,\n",
    "   0.9230769230769231,\n",
    "   0.8289473684210527,\n",
    "   0.8,\n",
    "   0.0,\n",
    "   0.8846153846153846,\n",
    "   0.875,\n",
    "   0.9166666666666666,\n",
    "   0.7927927927927928,\n",
    "   0.0], [0.9696969696969697,\n",
    "   0.8571428571428571,\n",
    "   0.8571428571428571,\n",
    "   0.8,\n",
    "   0.0,\n",
    "   1.0,\n",
    "   0.875,\n",
    "   1.0,\n",
    "   0.9263157894736842,\n",
    "   0.0], [0.9805825242718447,\n",
    "   0.9482758620689655,\n",
    "   0.9493534482758621,\n",
    "   0.9469026548672567,\n",
    "   0.9565217391304348,\n",
    "   0.9835164835164835,\n",
    "   0.9595959595959596,\n",
    "   0.9855072463768116,\n",
    "   0.9486301369863014,\n",
    "   0.7941176470588235], [0.9766180321735877,\n",
    "   0.9172077922077922,\n",
    "   0.9119261020669472,\n",
    "   0.8846938775510205,\n",
    "   nan,\n",
    "   0.9905660377358491,\n",
    "   0.9254518072289157,\n",
    "   0.9913793103448275,\n",
    "   0.9396405123237542,\n",
    "   0.43548387096774194]],\n",
    " (0.7000000000000001,\n",
    "  10): [[0.9047619047619048,\n",
    "   0.9285714285714286,\n",
    "   0.8553459119496856,\n",
    "   0.9047619047619048,\n",
    "   0.8,\n",
    "   0.7027027027027027,\n",
    "   0.8620689655172413,\n",
    "   0.8888888888888888,\n",
    "   0.7766990291262136,\n",
    "   0.6666666666666666], [0.95,\n",
    "   0.9285714285714286,\n",
    "   0.8947368421052632,\n",
    "   0.8636363636363636,\n",
    "   1.0,\n",
    "   0.9629629629629629,\n",
    "   0.8928571428571429,\n",
    "   0.96,\n",
    "   0.9411764705882353,\n",
    "   0.6666666666666666], [0.9878048780487805,\n",
    "   0.9823008849557522,\n",
    "   0.9779909706546276,\n",
    "   0.9761904761904762,\n",
    "   0.9761904761904762,\n",
    "   0.963855421686747,\n",
    "   0.9817708333333334,\n",
    "   0.9819004524886877,\n",
    "   0.971830985915493,\n",
    "   0.9672131147540983], [0.970575221238938,\n",
    "   0.9592352092352093,\n",
    "   0.9402696556205329,\n",
    "   0.9264990328820117,\n",
    "   0.986842105263158,\n",
    "   0.9634486945962355,\n",
    "   0.9408105939004815,\n",
    "   0.9723469387755102,\n",
    "   0.9579369701676049,\n",
    "   0.8247126436781609]],\n",
    " (0.7000000000000001,\n",
    "  25): [[0.9090909090909091,\n",
    "   0.7058823529411765,\n",
    "   0.8258064516129032,\n",
    "   0.85,\n",
    "   0.3333333333333333,\n",
    "   0.775,\n",
    "   0.6785714285714286,\n",
    "   0.85,\n",
    "   0.7864077669902912,\n",
    "   1.0], [0.851063829787234,\n",
    "   0.8571428571428571,\n",
    "   0.7314285714285714,\n",
    "   0.8947368421052632,\n",
    "   1.0,\n",
    "   0.7948717948717948,\n",
    "   0.6129032258064516,\n",
    "   0.85,\n",
    "   0.7788461538461539,\n",
    "   0.6666666666666666], [0.9915057915057915,\n",
    "   0.9770491803278688,\n",
    "   0.9820038910505836,\n",
    "   0.9904580152671756,\n",
    "   0.9807692307692307,\n",
    "   0.9786700125470514,\n",
    "   0.9753231492361927,\n",
    "   0.9884393063583815,\n",
    "   0.981044650379107,\n",
    "   0.9841269841269841], [0.9239293507910529,\n",
    "   0.9199803632793323,\n",
    "   0.8622852788562719,\n",
    "   0.9443981240229287,\n",
    "   0.9902912621359223,\n",
    "   0.891499221974156,\n",
    "   0.800963808025177,\n",
    "   0.9219939879759519,\n",
    "   0.8845772619451033,\n",
    "   0.8333333333333333]],\n",
    " (0.8,\n",
    "  1): [[0.9411764705882353,\n",
    "   0.9230769230769231,\n",
    "   0.8928571428571429,\n",
    "   0.8571428571428571,\n",
    "   0.8,\n",
    "   0.8620689655172413,\n",
    "   0.8787878787878788,\n",
    "   0.9090909090909091,\n",
    "   0.9120879120879121,\n",
    "   0.8333333333333334], [1.0,\n",
    "   0.9230769230769231,\n",
    "   0.9316770186335404,\n",
    "   0.8571428571428571,\n",
    "   1.0,\n",
    "   1.0,\n",
    "   0.9354838709677419,\n",
    "   1.0,\n",
    "   0.9651162790697675,\n",
    "   0.8333333333333334], [0.967391304347826,\n",
    "   0.9090909090909091,\n",
    "   0.9096573208722741,\n",
    "   0.8620689655172413,\n",
    "   0.8333333333333334,\n",
    "   0.9090909090909091,\n",
    "   0.9076923076923077,\n",
    "   0.9473684210526315,\n",
    "   0.936046511627907,\n",
    "   0.8], [0.9659090909090909,\n",
    "   0.905982905982906,\n",
    "   0.9095885093167702,\n",
    "   0.861904761904762,\n",
    "   0.75,\n",
    "   0.8947368421052632,\n",
    "   0.9089184060721063,\n",
    "   0.9444444444444444,\n",
    "   0.936046511627907,\n",
    "   0.7916666666666666]],\n",
    " (0.8,\n",
    "  5): [[0.9607843137254902,\n",
    "   0.9,\n",
    "   0.89171974522293,\n",
    "   0.8947368421052632,\n",
    "   1.0,\n",
    "   0.8620689655172413,\n",
    "   0.85,\n",
    "   0.75,\n",
    "   0.8796296296296297,\n",
    "   0.4], [0.9074074074074074,\n",
    "   1.0,\n",
    "   0.875,\n",
    "   0.8095238095238095,\n",
    "   1.0,\n",
    "   1.0,\n",
    "   0.918918918918919,\n",
    "   1.0,\n",
    "   0.95,\n",
    "   1.0], [0.9755244755244755,\n",
    "   0.9852941176470589,\n",
    "   0.9584269662921349,\n",
    "   0.9523809523809523,\n",
    "   1.0,\n",
    "   0.9753086419753086,\n",
    "   0.9585253456221198,\n",
    "   0.9703703703703703,\n",
    "   0.9680851063829787,\n",
    "   0.8888888888888888], [0.9493933588761176,\n",
    "   0.9915254237288136,\n",
    "   0.9258561643835617,\n",
    "   0.8952380952380952,\n",
    "   1.0,\n",
    "   0.9854014598540146,\n",
    "   0.9427927927927927,\n",
    "   0.983739837398374,\n",
    "   0.9609913793103448,\n",
    "   0.94]],\n",
    " (0.8,\n",
    "  10): [[0.7818181818181819,\n",
    "   0.6666666666666666,\n",
    "   0.8278145695364238,\n",
    "   0.8421052631578947,\n",
    "   0.7142857142857143,\n",
    "   0.8571428571428571,\n",
    "   0.8421052631578947,\n",
    "   0.8387096774193549,\n",
    "   0.7217391304347827,\n",
    "   1.0], [0.9347826086956522,\n",
    "   0.8,\n",
    "   0.8445945945945946,\n",
    "   0.8421052631578947,\n",
    "   1.0,\n",
    "   0.967741935483871,\n",
    "   0.9696969696969697,\n",
    "   0.9629629629629629,\n",
    "   0.9540229885057471,\n",
    "   0.3333333333333333], [0.9706457925636007,\n",
    "   0.9491525423728814,\n",
    "   0.9718390804597701,\n",
    "   0.9742489270386266,\n",
    "   0.95,\n",
    "   0.979381443298969,\n",
    "   0.9795918367346939,\n",
    "   0.9745762711864406,\n",
    "   0.9625779625779626,\n",
    "   0.9393939393939394], [0.9544880785413746,\n",
    "   0.8814814814814815,\n",
    "   0.9141314681515686,\n",
    "   0.914043285784555,\n",
    "   0.9714285714285714,\n",
    "   0.9742555831265508,\n",
    "   0.9751710654936461,\n",
    "   0.9695197589934431,\n",
    "   0.9587257799671594,\n",
    "   0.6666666666666666]],\n",
    " (0.8,\n",
    "  25): [[0.8269230769230769,\n",
    "   0.6666666666666666,\n",
    "   0.7837837837837838,\n",
    "   1.0,\n",
    "   0.6666666666666666,\n",
    "   0.6666666666666666,\n",
    "   0.6764705882352942,\n",
    "   0.8947368421052632,\n",
    "   0.7395833333333334,\n",
    "   0.8], [0.8958333333333334,\n",
    "   0.9230769230769231,\n",
    "   0.7295597484276729,\n",
    "   0.84,\n",
    "   1.0,\n",
    "   0.7142857142857143,\n",
    "   0.8846153846153846,\n",
    "   1.0,\n",
    "   0.7717391304347826,\n",
    "   0.4], [0.9890023566378633,\n",
    "   0.9757785467128027,\n",
    "   0.9823154916293327,\n",
    "   0.9922480620155039,\n",
    "   0.990909090909091,\n",
    "   0.9779141104294479,\n",
    "   0.983510011778563,\n",
    "   0.9959839357429718,\n",
    "   0.9809681423251966,\n",
    "   0.9421487603305785], [0.9442431972789117,\n",
    "   0.9506688963210702,\n",
    "   0.8608602269820873,\n",
    "   0.9199999999999999,\n",
    "   0.9953703703703703,\n",
    "   0.8507896169903794,\n",
    "   0.9356248247499765,\n",
    "   0.997920997920998,\n",
    "   0.88049322113137,\n",
    "   0.6954954954954954]],\n",
    " (0.9,\n",
    "  1): [[0.8909090909090909,\n",
    "   0.6666666666666666,\n",
    "   0.9141104294478528,\n",
    "   0.8125,\n",
    "   0.0,\n",
    "   0.975,\n",
    "   0.9705882352941176,\n",
    "   0.9375,\n",
    "   0.9222222222222223,\n",
    "   0.6], [1.0,\n",
    "   1.0,\n",
    "   0.9612903225806452,\n",
    "   0.8666666666666667,\n",
    "   0.0,\n",
    "   1.0,\n",
    "   0.9428571428571428,\n",
    "   1.0,\n",
    "   1.0,\n",
    "   1.0], [0.9464285714285714,\n",
    "   0.8125,\n",
    "   0.9369085173501577,\n",
    "   0.8529411764705882,\n",
    "   0.5,\n",
    "   0.9848484848484849,\n",
    "   0.9482758620689655,\n",
    "   0.967741935483871,\n",
    "   0.9597701149425287,\n",
    "   0.7777777777777778], [0.9523809523809523,\n",
    "   0.85,\n",
    "   0.9374352847471129,\n",
    "   0.8543859649122807,\n",
    "   nan,\n",
    "   0.9814814814814815,\n",
    "   0.9496894409937888,\n",
    "   0.96875,\n",
    "   0.9615384615384616,\n",
    "   0.8333333333333334]],\n",
    " (0.9,\n",
    "  5): [[0.8666666666666667,\n",
    "   0.9230769230769231,\n",
    "   0.8944444444444445,\n",
    "   0.9047619047619048,\n",
    "   0.8333333333333334,\n",
    "   0.8181818181818182,\n",
    "   0.8214285714285714,\n",
    "   0.9473684210526315,\n",
    "   0.9047619047619048,\n",
    "   0.6666666666666666], [0.9512195121951219,\n",
    "   0.9230769230769231,\n",
    "   0.9526627218934911,\n",
    "   0.9047619047619048,\n",
    "   1.0,\n",
    "   0.9,\n",
    "   0.9583333333333334,\n",
    "   1.0,\n",
    "   0.8878504672897196,\n",
    "   1.0], [0.9716312056737588,\n",
    "   0.9714285714285714,\n",
    "   0.9715189873417721,\n",
    "   0.96875,\n",
    "   0.9545454545454546,\n",
    "   0.9521276595744681,\n",
    "   0.96875,\n",
    "   0.9915254237288136,\n",
    "   0.9591836734693877,\n",
    "   0.9655172413793104], [0.9631616233174779,\n",
    "   0.9527665317139,\n",
    "   0.964136238995526,\n",
    "   0.943035157988429,\n",
    "   0.9705882352941176,\n",
    "   0.9310126582278481,\n",
    "   0.9642857142857143,\n",
    "   0.995,\n",
    "   0.9323511595707857,\n",
    "   0.9814814814814815]],\n",
    " (0.9,\n",
    "  10): [[0.8837209302325582,\n",
    "   0.7272727272727273,\n",
    "   0.8467153284671532,\n",
    "   0.9375,\n",
    "   1.0,\n",
    "   0.725,\n",
    "   0.8780487804878049,\n",
    "   0.9444444444444444,\n",
    "   0.8,\n",
    "   1.0], [0.926829268292683,\n",
    "   1.0,\n",
    "   0.8111888111888111,\n",
    "   0.6818181818181818,\n",
    "   1.0,\n",
    "   1.0,\n",
    "   0.9473684210526315,\n",
    "   1.0,\n",
    "   0.8695652173913043,\n",
    "   0.6], [0.9847328244274809,\n",
    "   0.9747899159663865,\n",
    "   0.9725714285714285,\n",
    "   0.963302752293578,\n",
    "   1.0,\n",
    "   0.9646302250803859,\n",
    "   0.9809782608695652,\n",
    "   0.9953917050691244,\n",
    "   0.9657020364415863,\n",
    "   0.9444444444444444], [0.9582386507094884,\n",
    "   0.9864864864864865,\n",
    "   0.8990604914687056,\n",
    "   0.8383580705009276,\n",
    "   1.0,\n",
    "   0.9804964539007093,\n",
    "   0.9661084529505581,\n",
    "   0.9974999999999999,\n",
    "   0.9228920022747247,\n",
    "   0.8]],\n",
    " (0.9,\n",
    "  25): [[0.7551020408163265,\n",
    "   0.8571428571428571,\n",
    "   0.7875,\n",
    "   0.875,\n",
    "   0.6666666666666666,\n",
    "   0.8181818181818182,\n",
    "   0.8,\n",
    "   0.8571428571428571,\n",
    "   0.6981132075471698,\n",
    "   0.8], [0.8809523809523809,\n",
    "   0.8571428571428571,\n",
    "   0.7636363636363637,\n",
    "   0.6666666666666666,\n",
    "   1.0,\n",
    "   0.8709677419354839,\n",
    "   0.8,\n",
    "   1.0,\n",
    "   0.8222222222222222,\n",
    "   0.4444444444444444], [0.9860997547015535,\n",
    "   0.9851301115241635,\n",
    "   0.9824898057088031,\n",
    "   0.9832089552238806,\n",
    "   0.9902912621359223,\n",
    "   0.9869109947643979,\n",
    "   0.9834319526627219,\n",
    "   0.994263862332696,\n",
    "   0.9802061855670103,\n",
    "   0.9583333333333334], [0.935395750171364,\n",
    "   0.9246498599439776,\n",
    "   0.8775724275724276,\n",
    "   0.8313915857605177,\n",
    "   0.995049504950495,\n",
    "   0.9313911015270872,\n",
    "   0.895679012345679,\n",
    "   0.997029702970297,\n",
    "   0.9042588627171068,\n",
    "   0.7185185185185186]]}"
   ]
  },
  {
   "cell_type": "code",
   "execution_count": null,
   "metadata": {},
   "outputs": [],
   "source": []
  }
 ],
 "metadata": {
  "kernelspec": {
   "display_name": "Python 3",
   "language": "python",
   "name": "python3"
  },
  "language_info": {
   "codemirror_mode": {
    "name": "ipython",
    "version": 3
   },
   "file_extension": ".py",
   "mimetype": "text/x-python",
   "name": "python",
   "nbconvert_exporter": "python",
   "pygments_lexer": "ipython3",
   "version": "3.6.3"
  }
 },
 "nbformat": 4,
 "nbformat_minor": 4
}
