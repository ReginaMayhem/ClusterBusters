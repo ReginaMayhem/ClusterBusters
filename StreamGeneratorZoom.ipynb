{
 "cells": [
  {
   "cell_type": "code",
   "execution_count": 1,
   "metadata": {},
   "outputs": [],
   "source": [
    "import matplotlib as mpl\n",
    "mpl.use('Agg')"
   ]
  },
  {
   "cell_type": "code",
   "execution_count": 3,
   "metadata": {},
   "outputs": [],
   "source": [
    "from astropy import units as u"
   ]
  },
  {
   "cell_type": "code",
   "execution_count": 4,
   "metadata": {},
   "outputs": [],
   "source": [
    "#Miles' packages\n",
    "from astropy.table import Table\n",
    "import astropy.coordinates as coord\n",
    "import glob\n",
    "\n",
    "#data processing\n",
    "import pandas as pd\n",
    "import numpy as np\n",
    "import math as math\n",
    "from tqdm import tqdm\n",
    "import collections\n",
    "\n",
    "#visualizations\n",
    "import matplotlib.pyplot as plt\n",
    "%matplotlib inline\n",
    "from mpl_toolkits.mplot3d import Axes3D\n",
    "import plotly.graph_objects as go\n",
    "\n",
    "#models\n",
    "from sklearn.cluster import DBSCAN\n",
    "from sklearn.linear_model import LogisticRegression\n",
    "from sklearn.neighbors import KNeighborsClassifier\n",
    "\n",
    "#data manipulation\n",
    "from sklearn.model_selection import train_test_split\n",
    "from sklearn.preprocessing import StandardScaler\n",
    "from sklearn import metrics"
   ]
  },
  {
   "cell_type": "code",
   "execution_count": 5,
   "metadata": {},
   "outputs": [
    {
     "name": "stdout",
     "output_type": "stream",
     "text": [
      "Created TAP+ (v1.2.1) - Connection:\n",
      "\tHost: gea.esac.esa.int\n",
      "\tUse HTTPS: True\n",
      "\tPort: 443\n",
      "\tSSL Port: 443\n",
      "Created TAP+ (v1.2.1) - Connection:\n",
      "\tHost: geadata.esac.esa.int\n",
      "\tUse HTTPS: True\n",
      "\tPort: 443\n",
      "\tSSL Port: 443\n"
     ]
    }
   ],
   "source": [
    "from astroquery.gaia import Gaia"
   ]
  },
  {
   "cell_type": "code",
   "execution_count": 6,
   "metadata": {},
   "outputs": [],
   "source": [
    "stream_data_base = 'gaia_mock_streams/'\n",
    "stream_files = glob.glob(stream_data_base + 'stream*.fits.gz')"
   ]
  },
  {
   "cell_type": "markdown",
   "metadata": {},
   "source": [
    "We now have all the stream files:"
   ]
  },
  {
   "cell_type": "code",
   "execution_count": 7,
   "metadata": {},
   "outputs": [
    {
     "name": "stdout",
     "output_type": "stream",
     "text": [
      "322\n"
     ]
    },
    {
     "data": {
      "text/plain": [
       "['gaia_mock_streams/stream-178.fits.gz',\n",
       " 'gaia_mock_streams/stream-9528.fits.gz',\n",
       " 'gaia_mock_streams/stream-9549.fits.gz',\n",
       " 'gaia_mock_streams/stream-1954.fits.gz',\n",
       " 'gaia_mock_streams/stream-2408.fits.gz']"
      ]
     },
     "execution_count": 7,
     "metadata": {},
     "output_type": "execute_result"
    }
   ],
   "source": [
    "print(len(stream_files))\n",
    "stream_files[:5]"
   ]
  },
  {
   "cell_type": "code",
   "execution_count": 8,
   "metadata": {},
   "outputs": [
    {
     "name": "stdout",
     "output_type": "stream",
     "text": [
      "10\n"
     ]
    },
    {
     "data": {
      "text/html": [
       "<div>\n",
       "<style scoped>\n",
       "    .dataframe tbody tr th:only-of-type {\n",
       "        vertical-align: middle;\n",
       "    }\n",
       "\n",
       "    .dataframe tbody tr th {\n",
       "        vertical-align: top;\n",
       "    }\n",
       "\n",
       "    .dataframe thead th {\n",
       "        text-align: right;\n",
       "    }\n",
       "</style>\n",
       "<table border=\"1\" class=\"dataframe\">\n",
       "  <thead>\n",
       "    <tr style=\"text-align: right;\">\n",
       "      <th></th>\n",
       "      <th>stream_file</th>\n",
       "      <th>ra_min</th>\n",
       "      <th>ra_max</th>\n",
       "      <th>dec_min</th>\n",
       "      <th>dec_max</th>\n",
       "    </tr>\n",
       "  </thead>\n",
       "  <tbody>\n",
       "    <tr>\n",
       "      <td>0</td>\n",
       "      <td>gaia_mock_streams/stream-178.fits.gz</td>\n",
       "      <td>300</td>\n",
       "      <td>350</td>\n",
       "      <td>-10</td>\n",
       "      <td>50</td>\n",
       "    </tr>\n",
       "    <tr>\n",
       "      <td>1</td>\n",
       "      <td>gaia_mock_streams/stream-9528.fits.gz</td>\n",
       "      <td>200</td>\n",
       "      <td>350</td>\n",
       "      <td>-70</td>\n",
       "      <td>-30</td>\n",
       "    </tr>\n",
       "    <tr>\n",
       "      <td>2</td>\n",
       "      <td>gaia_mock_streams/stream-9549.fits.gz</td>\n",
       "      <td>200</td>\n",
       "      <td>250</td>\n",
       "      <td>-20</td>\n",
       "      <td>40</td>\n",
       "    </tr>\n",
       "    <tr>\n",
       "      <td>3</td>\n",
       "      <td>gaia_mock_streams/stream-1954.fits.gz</td>\n",
       "      <td>30</td>\n",
       "      <td>220</td>\n",
       "      <td>-90</td>\n",
       "      <td>-20</td>\n",
       "    </tr>\n",
       "    <tr>\n",
       "      <td>4</td>\n",
       "      <td>gaia_mock_streams/stream-2408.fits.gz</td>\n",
       "      <td>180</td>\n",
       "      <td>250</td>\n",
       "      <td>-50</td>\n",
       "      <td>-20</td>\n",
       "    </tr>\n",
       "  </tbody>\n",
       "</table>\n",
       "</div>"
      ],
      "text/plain": [
       "                             stream_file  ra_min  ra_max  dec_min  dec_max\n",
       "0   gaia_mock_streams/stream-178.fits.gz     300     350      -10       50\n",
       "1  gaia_mock_streams/stream-9528.fits.gz     200     350      -70      -30\n",
       "2  gaia_mock_streams/stream-9549.fits.gz     200     250      -20       40\n",
       "3  gaia_mock_streams/stream-1954.fits.gz      30     220      -90      -20\n",
       "4  gaia_mock_streams/stream-2408.fits.gz     180     250      -50      -20"
      ]
     },
     "execution_count": 8,
     "metadata": {},
     "output_type": "execute_result"
    }
   ],
   "source": [
    "#relevant cut for each stream\n",
    "cuts = pd.read_csv('cuts.csv')\n",
    "print(len(cuts))\n",
    "cuts.head()"
   ]
  },
  {
   "cell_type": "code",
   "execution_count": 10,
   "metadata": {},
   "outputs": [
    {
     "name": "stderr",
     "output_type": "stream",
     "text": [
      "WARNING: W35: None:5:0: W35: 'value' attribute required for INFO elements [astropy.io.votable.tree]\n",
      "WARNING: W35: None:33:0: W35: 'value' attribute required for INFO elements [astropy.io.votable.tree]\n",
      "WARNING: W35: None:34:0: W35: 'value' attribute required for INFO elements [astropy.io.votable.tree]\n",
      "WARNING: W35: None:35:0: W35: 'value' attribute required for INFO elements [astropy.io.votable.tree]\n",
      "WARNING: W35: None:37:0: W35: 'value' attribute required for INFO elements [astropy.io.votable.tree]\n",
      "WARNING: W50: None:56:0: W50: Invalid unit string 'mas.yr**-1' [astropy.io.votable.tree]\n",
      "WARNING: W50: None:59:0: W50: Invalid unit string 'mas.yr**-1' [astropy.io.votable.tree]\n",
      "WARNING: W06: None:71:0: W06: Invalid UCD 'phot.color': Unknown word 'phot.color' [astropy.io.votable.tree]\n",
      "WARNING: W06: None:74:0: W06: Invalid UCD 'phot.color': Unknown word 'phot.color' [astropy.io.votable.tree]\n",
      "WARNING: W06: None:77:0: W06: Invalid UCD 'phot.color': Unknown word 'phot.color' [astropy.io.votable.tree]\n"
     ]
    },
    {
     "name": "stdout",
     "output_type": "stream",
     "text": [
      "INFO: Query finished. [astroquery.utils.tap.core]\n"
     ]
    }
   ],
   "source": [
    "table = Table.read(stream_files[0], format='fits')\n",
    "stream = table.to_pandas()\n",
    "\n",
    "ra_min = cuts.loc[0].ra_min\n",
    "ra_max = cuts.loc[0].ra_max\n",
    "dec_min = cuts.loc[0].dec_min\n",
    "dec_max = cuts.loc[0].dec_max\n",
    "\n",
    "#restrict stream to relevant portion\n",
    "stream = stream.query('ra > ' + str(ra_min) + ' & ra < ' + str(ra_max) + ' & dec > ' + str(dec_min) + ' & dec < ' + str(dec_max))\n",
    "\n",
    "#label our data as \"part of the stream\"\n",
    "stream['stream_mask'] = True\n",
    "\n",
    "#split data into training and training data set\n",
    "msk = np.random.rand(len(stream)) < 0.9\n",
    "stream_train = stream[msk]\n",
    "stream_test = stream[~msk]\n",
    "\n",
    "\n",
    "#obtain noise points such that:\n",
    "#- the ratio of stream to noise points in the training set is 2:1 i.e. strong signal\n",
    "#- the ratio of stream to noise points in the test set is 1:100 i.e. realistic\n",
    "n_points = len(stream_train) // 2 + len(stream_test) * 100\n",
    "\n",
    "#use max_rel_err of 0.5\n",
    "max_rel_err =  0.5\n",
    "\n",
    "#we now select our noise points that we will incorporate into our training and test set\n",
    "noise_points = obtain_noise(ra_min, ra_max, dec_min, dec_max, max_rel_err, n_points)\n",
    "\n",
    "#label our data as \"not part of the stream\"\n",
    "noise_points['stream_mask'] = False"
   ]
  },
  {
   "cell_type": "code",
   "execution_count": 12,
   "metadata": {},
   "outputs": [
    {
     "data": {
      "text/plain": [
       "<matplotlib.collections.PathCollection at 0x2b04de370550>"
      ]
     },
     "execution_count": 12,
     "metadata": {},
     "output_type": "execute_result"
    },
    {
     "data": {
      "image/png": "[encoded data removed]",
      "text/plain": [
       "<Figure size 432x288 with 1 Axes>"
      ]
     },
     "metadata": {
      "needs_background": "light"
     },
     "output_type": "display_data"
    }
   ],
   "source": [
    "plt.scatter(stream.ra, stream.dec, color = 'b')\n",
    "plt.scatter(noise_points.ra, noise_points.dec, color = 'r')"
   ]
  },
  {
   "cell_type": "code",
   "execution_count": null,
   "metadata": {},
   "outputs": [],
   "source": []
  },
  {
   "cell_type": "code",
   "execution_count": null,
   "metadata": {},
   "outputs": [],
   "source": []
  },
  {
   "cell_type": "code",
   "execution_count": null,
   "metadata": {},
   "outputs": [],
   "source": []
  },
  {
   "cell_type": "code",
   "execution_count": 9,
   "metadata": {},
   "outputs": [],
   "source": [
    "#let us write a function to extract the Gaia noise points based on some inputs\n",
    "def obtain_noise(min_ra, max_ra, min_dec, max_dec, max_rel_err, n_points):\n",
    "    \n",
    "    qry = f\" \\n\\\n",
    "    select top {n_points} source_id, \\n\\\n",
    "    dr2.ra, \\n\\\n",
    "    dr2.dec, \\n\\\n",
    "    parallax, \\n\\\n",
    "    parallax_error, \\n\\\n",
    "    pmra, \\n\\\n",
    "    pmdec, \\n\\\n",
    "    phot_g_mean_mag,\\n\\\n",
    "    phot_bp_mean_mag, \\n\\\n",
    "    phot_rp_mean_mag, \\n\\\n",
    "    bp_rp, \\n\\\n",
    "    bp_g, \\n\\\n",
    "    g_rp\\n\\\n",
    "    from gaiadr2.gaia_source as dr2 \\n\\\n",
    "    where dr2.ra > {min_ra} and dr2.ra < {max_ra} and dr2.dec > {min_dec} and dr2.dec < {max_dec} \\n\\\n",
    "    and parallax is not null \\n\\\n",
    "    and parallax_error is not null \\n\\\n",
    "    and abs(dr2.parallax/dr2.parallax_error) < {max_rel_err} \\n\\\n",
    "    and pmra is not null \\n\\\n",
    "    and pmdec is not null \\n\\\n",
    "    and phot_g_mean_mag is not null \\n\\\n",
    "    and phot_bp_mean_mag is not null \\n\\\n",
    "    and phot_rp_mean_mag is not null \\n\\\n",
    "    and bp_rp is not null \\n\\\n",
    "    and bp_g is not null \\n\\\n",
    "    and g_rp is not null \\n\\\n",
    "    order by random_index\"\n",
    "\n",
    "    data_noise = Gaia.launch_job_async(qry).get_results().to_pandas()\n",
    "    \n",
    "    return data_noise"
   ]
  },
  {
   "cell_type": "markdown",
   "metadata": {},
   "source": [
    "#### Let us define our potential models here"
   ]
  },
  {
   "cell_type": "code",
   "execution_count": 11,
   "metadata": {},
   "outputs": [],
   "source": [
    "#let us define a function to run logistic regression on our data set and evaluate the results\n",
    "def log_reg_model(X_train, X_test, y_train, y_test):\n",
    "    #do the logistic regression modeling\n",
    "    log_reg = LogisticRegression(random_state=0, solver='lbfgs', max_iter=1000, multi_class='warn').fit(X_train, y_train)\n",
    "    y_pred = log_reg.predict(X_test)\n",
    "    y_true = np.array(y_test)\n",
    "    \n",
    "    #calculate metrics\n",
    "    precision = metrics.precision_score(y_true, y_pred)\n",
    "    recall = metrics.recall_score(y_true, y_pred)\n",
    "    accuracy = metrics.accuracy_score(y_true, y_pred)\n",
    "\n",
    "    #calculate the AUC\n",
    "    fpr, tpr, thresholds = metrics.roc_curve(y_true, y_pred)\n",
    "    auc = metrics.auc(fpr, tpr)\n",
    "    \n",
    "    return precision, recall, accuracy, auc\n",
    "\n",
    "def knn_model(X_train, X_test, y_train, y_test, k):\n",
    "    #do the KNN modeling\n",
    "    neigh = KNeighborsClassifier(n_neighbors=k)\n",
    "    neigh.fit(X_train, y_train)\n",
    "    y_pred = neigh.predict(X_test)\n",
    "    y_true = np.array(y_test)\n",
    "    \n",
    "    #calculate metrics\n",
    "    precision = metrics.precision_score(y_true, y_pred)\n",
    "    recall = metrics.recall_score(y_true, y_pred)\n",
    "    accuracy = metrics.accuracy_score(y_true, y_pred)\n",
    "\n",
    "    #calculate the AUC\n",
    "    fpr, tpr, thresholds = metrics.roc_curve(y_true, y_pred)\n",
    "    auc = metrics.auc(fpr, tpr)\n",
    "    \n",
    "    return precision, recall, accuracy, auc"
   ]
  },
  {
   "cell_type": "markdown",
   "metadata": {},
   "source": [
    "#### Let us try to use our stellar streams to obtain logistic regression models"
   ]
  },
  {
   "cell_type": "code",
   "execution_count": 16,
   "metadata": {},
   "outputs": [
    {
     "name": "stdout",
     "output_type": "stream",
     "text": [
      "INFO: Query finished. [astroquery.utils.tap.core]\n"
     ]
    }
   ],
   "source": [
    "# precisions_simulated = []\n",
    "# recalls_simulated = []\n",
    "# accuracy_simulated = []\n",
    "# auc_simulated = []\n",
    "\n",
    "# for i in range(len(cuts)):\n",
    "#     table = Table.read(stream_files[i], format='fits')\n",
    "#     stream = table.to_pandas()\n",
    "\n",
    "#     ra_min = cuts.loc[i].ra_min\n",
    "#     ra_max = cuts.loc[i].ra_max\n",
    "#     dec_min = cuts.loc[i].dec_min\n",
    "#     dec_max = cuts.loc[i].dec_max\n",
    "\n",
    "#     #restrict stream to relevant portion\n",
    "#     stream = stream.query('ra > ' + str(ra_min) + ' & ra < ' + str(ra_max) + ' & dec > ' + str(dec_min) + ' & dec < ' + str(dec_max))\n",
    "\n",
    "#     #label our data as \"part of the stream\"\n",
    "#     stream['stream_mask'] = True\n",
    "\n",
    "#     #split data into training and training data set\n",
    "#     msk = np.random.rand(len(stream)) < 0.9\n",
    "#     stream_train = stream[msk]\n",
    "#     stream_test = stream[~msk]\n",
    "\n",
    "\n",
    "#     #obtain noise points such that:\n",
    "#     #- the ratio of stream to noise points in the training set is 2:1 i.e. strong signal\n",
    "#     #- the ratio of stream to noise points in the test set is 1:100 i.e. realistic\n",
    "#     n_points = len(stream_train) // 2 + len(stream_test) * 100\n",
    "\n",
    "#     #use max_rel_err of 0.5\n",
    "#     max_rel_err =  0.5\n",
    "\n",
    "#     #we now select our noise points that we will incorporate into our training and test set\n",
    "#     noise_points = obtain_noise(ra_min, ra_max, dec_min, dec_max, max_rel_err, n_points)\n",
    "\n",
    "#     #label our data as \"not part of the stream\"\n",
    "#     noise_points['stream_mask'] = False\n",
    "\n",
    "#     msk2 = np.random.rand(len(noise_points)) < (len(stream_train) // 2 / n_points)\n",
    "#     noise_train = noise_points[msk2]\n",
    "#     noise_test = noise_points[~msk2]\n",
    "\n",
    "#     #combine my stream and noise to obtain complete training and test data set\n",
    "#     training_data = stream_train.append(noise_train, ignore_index = False, sort = True)\n",
    "#     training_data = training_data[['ra', 'dec', 'pmra', 'pmdec', 'stream_mask']]\n",
    "\n",
    "#     testing_data = stream_test.append(noise_test, ignore_index = False, sort = True)\n",
    "#     testing_data = testing_data[['ra', 'dec', 'pmra', 'pmdec', 'stream_mask']]\n",
    "\n",
    "#     #differentiate training and test data's X and y variables\n",
    "#     X_train = training_data[['ra', 'dec', 'pmra', 'pmdec']]\n",
    "#     y_train = training_data.stream_mask\n",
    "\n",
    "#     X_test = testing_data[['ra', 'dec', 'pmra', 'pmdec']]\n",
    "#     y_test = testing_data.stream_mask\n",
    "\n",
    "#     #scale the features using standard scaler (scaling not required for logistic regression)\n",
    "#     scaler = StandardScaler()\n",
    "#     X_train_scaled = scaler.fit(X_train).transform(X_train)\n",
    "#     X_test_scaled = scaler.fit(X_test).transform(X_test)\n",
    "\n",
    "#     precision_log_reg, recall_log_reg, accuracy_log_reg, auc_log_reg = log_reg_model(X_train, X_test, y_train, y_test)\n",
    "    \n",
    "#     precisions_simulated.append(precision_log_reg)\n",
    "#     recalls_simulated.append(recall_log_reg)\n",
    "#     accuracy_simulated.append(accuracy_log_reg)\n",
    "#     auc_simulated.append(auc_log_reg)\n"
   ]
  },
  {
   "cell_type": "code",
   "execution_count": 74,
   "metadata": {},
   "outputs": [
    {
     "data": {
      "text/plain": [
       "<matplotlib.legend.Legend at 0x2abec2e202e8>"
      ]
     },
     "execution_count": 74,
     "metadata": {},
     "output_type": "execute_result"
    },
    {
     "data": {
      "image/png": "[encoded data removed]",
      "text/plain": [
       "<Figure size 1440x1080 with 1 Axes>"
      ]
     },
     "metadata": {
      "needs_background": "light"
     },
     "output_type": "display_data"
    }
   ],
   "source": [
    "# fig = plt.figure(figsize = (20,15))\n",
    "# simulated_streams_index = [i for i in range(1,len(cuts)+1)]\n",
    "\n",
    "# plt.scatter(simulated_streams_index, precisions_simulated, label = 'precisions')\n",
    "# plt.scatter(simulated_streams_index, recalls_simulated, label = 'recalls')\n",
    "# plt.scatter(simulated_streams_index, accuracy_simulated, label = 'accuracies')\n",
    "# plt.scatter(simulated_streams_index, auc_simulated, label = 'aucs')\n",
    "# plt.title('Precisions, Recalls, Accuracies, AUCs for each of our ' + str(len(cuts)) + ' Stellar Stream')\n",
    "\n",
    "# plt.legend()"
   ]
  },
  {
   "cell_type": "markdown",
   "metadata": {},
   "source": [
    "#### Do KNN for one of the stellar streams. This should help us select the best k to use moving forward."
   ]
  },
  {
   "cell_type": "code",
   "execution_count": 12,
   "metadata": {},
   "outputs": [],
   "source": [
    "# precisions_simulated_knn = []\n",
    "# recalls_simulated_knn = []\n",
    "# accuracy_simulated_knn = []\n",
    "# auc_simulated_knn = []\n",
    "\n",
    "# for i in range(1):\n",
    "#     table = Table.read(stream_files[i], format='fits')\n",
    "#     stream = table.to_pandas()\n",
    "\n",
    "#     ra_min = cuts.loc[i].ra_min\n",
    "#     ra_max = cuts.loc[i].ra_max\n",
    "#     dec_min = cuts.loc[i].dec_min\n",
    "#     dec_max = cuts.loc[i].dec_max\n",
    "\n",
    "#     #restrict stream to relevant portion\n",
    "#     stream = stream.query('ra > ' + str(ra_min) + ' & ra < ' + str(ra_max) + ' & dec > ' + str(dec_min) + ' & dec < ' + str(dec_max))\n",
    "\n",
    "#     #label our data as \"part of the stream\"\n",
    "#     stream['stream_mask'] = True\n",
    "\n",
    "#     #split data into training and training data set\n",
    "#     msk = np.random.rand(len(stream)) < 0.9\n",
    "#     stream_train = stream[msk]\n",
    "#     stream_test = stream[~msk]\n",
    "\n",
    "\n",
    "#     #obtain noise points such that:\n",
    "#     #- the ratio of stream to noise points in the training set is 2:1 i.e. strong signal\n",
    "#     #- the ratio of stream to noise points in the test set is the same as for the test set\n",
    "#     multiple = 25\n",
    "#     n_points = (len(stream_train) + len(stream_test)) * multiple\n",
    "\n",
    "#     #use max_rel_err of 0.5\n",
    "#     max_rel_err =  0.5\n",
    "\n",
    "#     #we now select our noise points that we will incorporate into our training and test set\n",
    "#     noise_points = obtain_noise(ra_min, ra_max, dec_min, dec_max, max_rel_err, n_points)\n",
    "\n",
    "#     #label our data as \"not part of the stream\"\n",
    "#     noise_points['stream_mask'] = False\n",
    "\n",
    "#     msk2 = np.random.rand(len(noise_points)) < (len(stream_train) * multiple / n_points)\n",
    "#     noise_train = noise_points[msk2]\n",
    "#     noise_test = noise_points[~msk2]\n",
    "\n",
    "#     #combine my stream and noise to obtain complete training and test data set\n",
    "#     training_data = stream_train.append(noise_train, ignore_index = False, sort = True)\n",
    "#     training_data = training_data[['ra', 'dec', 'pmra', 'pmdec', 'stream_mask']]\n",
    "\n",
    "#     testing_data = stream_test.append(noise_test, ignore_index = False, sort = True)\n",
    "#     testing_data = testing_data[['ra', 'dec', 'pmra', 'pmdec', 'stream_mask']]\n",
    "\n",
    "#     #differentiate training and test data's X and y variables\n",
    "#     X_train = training_data[['ra', 'dec', 'pmra', 'pmdec']]\n",
    "#     y_train = training_data.stream_mask\n",
    "\n",
    "#     X_test = testing_data[['ra', 'dec', 'pmra', 'pmdec']]\n",
    "#     y_test = testing_data.stream_mask\n",
    "\n",
    "#     #scale the features using standard scaler (scaling not required for logistic regression)\n",
    "#     scaler = StandardScaler()\n",
    "#     X_train_scaled = scaler.fit(X_train).transform(X_train)\n",
    "#     X_test_scaled = scaler.fit(X_test).transform(X_test)\n",
    "\n",
    "#     k_options = [2,3,4,5,6,7,8,9,10,11,12,13,14,15,16,17,18,19,20]\n",
    "#     precisions_knn = []\n",
    "#     recalls_knn = []\n",
    "#     accuracies_knn = []\n",
    "#     aucs_knn = []\n",
    "\n",
    "#     #run KNN for every k-value\n",
    "#     for k in k_options:\n",
    "#         precision_k, recall_k, accuracy_k, auc_k = knn_model(X_train_scaled, X_test_scaled, y_train, y_test, k)\n",
    "#         precisions_knn.append(precision_k)\n",
    "#         recalls_knn.append(recall_k)\n",
    "#         accuracies_knn.append(accuracy_k)\n",
    "#         aucs_knn.append(auc_k)\n",
    "#         if k%5==0:\n",
    "#             print('k = ' + str(k) + ' is done ...')\n"
   ]
  },
  {
   "cell_type": "code",
   "execution_count": 95,
   "metadata": {},
   "outputs": [
    {
     "data": {
      "image/png": "[encoded data removed]",
      "text/plain": [
       "<Figure size 432x288 with 2 Axes>"
      ]
     },
     "metadata": {
      "needs_background": "light"
     },
     "output_type": "display_data"
    }
   ],
   "source": [
    "#visualize the KNN metrics\n",
    "plt.subplot(2, 1, 1)\n",
    "plt.plot(k_options, precisions_knn, 'o-')\n",
    "plt.xlabel('k values')\n",
    "plt.ylabel('precision')\n",
    "\n",
    "plt.subplot(2, 1, 2)\n",
    "plt.plot(k_options, recalls_knn, 'o-')\n",
    "plt.xlabel('k values')\n",
    "plt.ylabel('recall')\n",
    "\n",
    "plt.show()"
   ]
  },
  {
   "cell_type": "code",
   "execution_count": 89,
   "metadata": {},
   "outputs": [
    {
     "data": {
      "text/plain": [
       "Text(0, 0.5, 'auc')"
      ]
     },
     "execution_count": 89,
     "metadata": {},
     "output_type": "execute_result"
    },
    {
     "data": {
      "image/png": "[encoded data removed]",
      "text/plain": [
       "<Figure size 432x288 with 2 Axes>"
      ]
     },
     "metadata": {
      "needs_background": "light"
     },
     "output_type": "display_data"
    }
   ],
   "source": [
    "plt.subplot(2, 1, 1)\n",
    "plt.plot(k_options, accuracies_knn, 'o-')\n",
    "plt.title('k values')\n",
    "plt.ylabel('accuracy')\n",
    "\n",
    "plt.subplot(2, 1, 2)\n",
    "plt.plot(k_options, aucs_knn, 'o-')\n",
    "plt.xlabel('k values')\n",
    "plt.ylabel('auc')"
   ]
  },
  {
   "cell_type": "markdown",
   "metadata": {},
   "source": [
    "### For the sake of it, let us select 8 as optimal for k and re-run in all streams"
   ]
  },
  {
   "cell_type": "code",
   "execution_count": 2,
   "metadata": {},
   "outputs": [],
   "source": [
    "k_optimal = 8\n",
    "train_ratio = [.1*i for i in range(1,9)] #how many of the stellar stream points do we claim to know the label for?\n",
    "multiple = [1,5,10,25,50] #how many non-stellar streams do we bring from the foreground into the data set?\n",
    "\n",
    "def knn_simulated_stream(k_optimal, train_ratio, multiple):\n",
    "\n",
    "    precisions_simulated_knn = []\n",
    "    recalls_simulated_knn = []\n",
    "    accuracy_simulated_knn = []\n",
    "    auc_simulated_knn = []\n",
    "\n",
    "    for i in range(len(cuts)):\n",
    "        table = Table.read(stream_files[i], format='fits')\n",
    "        stream = table.to_pandas()\n",
    "\n",
    "        ra_min = cuts.loc[i].ra_min\n",
    "        ra_max = cuts.loc[i].ra_max\n",
    "        dec_min = cuts.loc[i].dec_min\n",
    "        dec_max = cuts.loc[i].dec_max\n",
    "\n",
    "        #restrict stream to relevant portion\n",
    "        stream = stream.query('ra > ' + str(ra_min) + ' & ra < ' + str(ra_max) + ' & dec > ' + str(dec_min) + ' & dec < ' + str(dec_max))\n",
    "\n",
    "        #label our data as \"part of the stream\"\n",
    "        stream['stream_mask'] = True\n",
    "\n",
    "        #split data into training and training data set\n",
    "        msk = np.random.rand(len(stream)) < 0.9\n",
    "        stream_train = stream[msk]\n",
    "        stream_test = stream[~msk]\n",
    "\n",
    "\n",
    "        #obtain noise points such that:\n",
    "        #- the ratio of stream to noise points in the training set is 1:multiple i.e. weak but realistic signal\n",
    "        #- the ratio of stream to noise points in the test set is the same as for the test set\n",
    "        #- this is required because KNN introduces bias when the ratios are imbalanced\n",
    "        n_points = (len(stream_train) + len(stream_test)) * multiple\n",
    "\n",
    "        #use max_rel_err of 0.5\n",
    "        max_rel_err =  0.5\n",
    "\n",
    "        #we now select our noise points that we will incorporate into our training and test set\n",
    "        noise_points = obtain_noise(ra_min, ra_max, dec_min, dec_max, max_rel_err, n_points)\n",
    "\n",
    "        #label our data as \"not part of the stream\"\n",
    "        noise_points['stream_mask'] = False\n",
    "\n",
    "        msk2 = np.random.rand(len(noise_points)) < 0.9 #(len(stream_train) * multiple / n_points)\n",
    "        noise_train = noise_points[msk2]\n",
    "        noise_test = noise_points[~msk2]\n",
    "\n",
    "        #combine my stream and noise to obtain complete training and test data set\n",
    "        training_data = stream_train.append(noise_train, ignore_index = False, sort = True)\n",
    "        training_data = training_data[['ra', 'dec', 'pmra', 'pmdec', 'stream_mask']]\n",
    "\n",
    "        testing_data = stream_test.append(noise_test, ignore_index = False, sort = True)\n",
    "        testing_data = testing_data[['ra', 'dec', 'pmra', 'pmdec', 'stream_mask']]\n",
    "\n",
    "        #differentiate training and test data's X and y variables\n",
    "        X_train = training_data[['ra', 'dec', 'pmra', 'pmdec']]\n",
    "        y_train = training_data.stream_mask\n",
    "\n",
    "        X_test = testing_data[['ra', 'dec', 'pmra', 'pmdec']]\n",
    "        y_test = testing_data.stream_mask\n",
    "\n",
    "        #scale the features using standard scaler (scaling not required for logistic regression)\n",
    "        scaler = StandardScaler()\n",
    "        X_train_scaled = scaler.fit(X_train).transform(X_train)\n",
    "        X_test_scaled = scaler.fit(X_test).transform(X_test)\n",
    "\n",
    "        k = k_optimal\n",
    "        precisions_knn = []\n",
    "        recalls_knn = []\n",
    "        accuracies_knn = []\n",
    "        aucs_knn = []\n",
    "\n",
    "        precision_k, recall_k, accuracy_k, auc_k = knn_model(X_train_scaled, X_test_scaled, y_train, y_test, k)\n",
    "        precisions_simulated_knn.append(precision_k)\n",
    "        recalls_simulated_knn.append(recall_k)\n",
    "        accuracy_simulated_knn.append(accuracy_k)\n",
    "        auc_simulated_knn.append(auc_k)\n",
    "        \n",
    "    return precisions_simulated_knn, recalls_simulated_knn, accuracy_simulated_knn, auc_simulated_knn\n"
   ]
  },
  {
   "cell_type": "code",
   "execution_count": null,
   "metadata": {},
   "outputs": [],
   "source": []
  },
  {
   "cell_type": "markdown",
   "metadata": {},
   "source": [
    "#### Consider we are interested in visualizing the model's predictions vs. the actual results. The following filters help visualize those results."
   ]
  },
  {
   "cell_type": "code",
   "execution_count": 32,
   "metadata": {},
   "outputs": [],
   "source": [
    "X_correct = X_test[y_test & y_pred]\n",
    "X_incorrect = X_test[y_test & ~y_pred]"
   ]
  },
  {
   "cell_type": "code",
   "execution_count": 33,
   "metadata": {},
   "outputs": [
    {
     "data": {
      "text/plain": [
       "<matplotlib.collections.PathCollection at 0x2b04de82fa58>"
      ]
     },
     "execution_count": 33,
     "metadata": {},
     "output_type": "execute_result"
    },
    {
     "data": {
      "image/png": "[encoded data removed]",
      "text/plain": [
       "<Figure size 432x288 with 1 Axes>"
      ]
     },
     "metadata": {
      "needs_background": "light"
     },
     "output_type": "display_data"
    }
   ],
   "source": [
    "plt.scatter(X_correct['ra'], X_correct['dec'])\n",
    "plt.scatter(X_incorrect['ra'], X_incorrect['dec'])"
   ]
  },
  {
   "cell_type": "code",
   "execution_count": 35,
   "metadata": {},
   "outputs": [
    {
     "data": {
      "text/plain": [
       "<matplotlib.collections.PathCollection at 0x2b04deab03c8>"
      ]
     },
     "execution_count": 35,
     "metadata": {},
     "output_type": "execute_result"
    },
    {
     "data": {
      "image/png": "[encoded data removed]",
      "text/plain": [
       "<Figure size 432x288 with 1 Axes>"
      ]
     },
     "metadata": {
      "needs_background": "light"
     },
     "output_type": "display_data"
    }
   ],
   "source": [
    "X2_correct = X_test[~y_test & ~y_pred]\n",
    "X2_incorrect = X_test[~y_test & y_pred]\n",
    "\n",
    "plt.scatter(X2_correct['ra'], X2_correct['dec'])\n",
    "plt.scatter(X2_incorrect['ra'], X2_incorrect['dec'])"
   ]
  },
  {
   "cell_type": "code",
   "execution_count": 98,
   "metadata": {},
   "outputs": [
    {
     "data": {
      "text/plain": [
       "<matplotlib.legend.Legend at 0x2abec50067f0>"
      ]
     },
     "execution_count": 98,
     "metadata": {},
     "output_type": "execute_result"
    },
    {
     "data": {
      "image/png": "[encoded data removed]",
      "text/plain": [
       "<Figure size 1440x1080 with 1 Axes>"
      ]
     },
     "metadata": {
      "needs_background": "light"
     },
     "output_type": "display_data"
    }
   ],
   "source": [
    "fig = plt.figure(figsize = (20,15))\n",
    "simulated_streams_index = [i for i in range(1,len(cuts)+1)]\n",
    "\n",
    "plt.scatter(simulated_streams_index, precisions_simulated_knn, label = 'precisions')\n",
    "plt.scatter(simulated_streams_index, recalls_simulated_knn, label = 'recalls')\n",
    "plt.scatter(simulated_streams_index, accuracy_simulated_knn, label = 'accuracies')\n",
    "plt.scatter(simulated_streams_index, auc_simulated_knn, label = 'aucs')\n",
    "plt.title('Precisions, Recalls, Accuracies, AUCs for each of our ' + str(len(cuts)) + ' Stellar Stream using KNN')\n",
    "\n",
    "plt.legend()"
   ]
  },
  {
   "cell_type": "code",
   "execution_count": 99,
   "metadata": {},
   "outputs": [
    {
     "name": "stdout",
     "output_type": "stream",
     "text": [
      "The average precision through KNN is: 0.8531116826511564\n",
      "The average recall through KNN is: 0.8215276416662981\n",
      "The average accuracy through KNN is: 0.9875389641150127\n",
      "The average AUC through KNN is: 0.9078559133379018\n"
     ]
    }
   ],
   "source": [
    "print('The average precision through KNN is: ' + str(sum(precisions_simulated_knn)/len(cuts)))\n",
    "print('The average recall through KNN is: ' + str(sum(recalls_simulated_knn)/len(cuts)))\n",
    "print('The average accuracy through KNN is: ' + str(sum(accuracy_simulated_knn)/len(cuts)))\n",
    "print('The average AUC through KNN is: ' + str(sum(auc_simulated_knn)/len(cuts)))"
   ]
  }
 ],
 "metadata": {
  "kernelspec": {
   "display_name": "Python 3",
   "language": "python",
   "name": "python3"
  },
  "language_info": {
   "codemirror_mode": {
    "name": "ipython",
    "version": 3
   },
   "file_extension": ".py",
   "mimetype": "text/x-python",
   "name": "python",
   "nbconvert_exporter": "python",
   "pygments_lexer": "ipython3",
   "version": "3.6.3"
  }
 },
 "nbformat": 4,
 "nbformat_minor": 4
}
